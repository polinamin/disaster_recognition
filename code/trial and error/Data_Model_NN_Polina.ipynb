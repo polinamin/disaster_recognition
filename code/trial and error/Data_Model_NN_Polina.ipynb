{
  "cells": [
    {
      "cell_type": "code",
      "execution_count": 1,
      "metadata": {
        "colab": {
          "base_uri": "https://localhost:8080/"
        },
        "id": "McOQMzm3LmqF",
        "outputId": "a0f5d2f5-f675-4862-8a21-35441acaaa08"
      },
      "outputs": [
        {
          "name": "stderr",
          "output_type": "stream",
          "text": [
            "[nltk_data] Downloading package stopwords to /root/nltk_data...\n",
            "[nltk_data]   Unzipping corpora/stopwords.zip.\n"
          ]
        }
      ],
      "source": [
        "import pandas as pd\n",
        "import numpy as np\n",
        "import seaborn as sns\n",
        "\n",
        "from sklearn.model_selection import train_test_split\n",
        "from sklearn.preprocessing import LabelEncoder, StandardScaler\n",
        "\n",
        "import nltk\n",
        "nltk.download('stopwords')\n",
        "from nltk.corpus import stopwords\n",
        "\n",
        "from tensorflow.keras.preprocessing.text import Tokenizer\n",
        "from tensorflow.keras.preprocessing.sequence import pad_sequences\n",
        "from tensorflow.keras.layers import Dense, LSTM, Embedding\n",
        "from tensorflow.keras.models import Sequential\n",
        "from tensorflow.keras.utils import to_categorical\n",
        "from keras.layers import Flatten\n",
        "import tensorflow as tf\n",
        "from keras import layers\n",
        "\n",
        "from sklearn.metrics import confusion_matrix, ConfusionMatrixDisplay"
      ]
    },
    {
      "cell_type": "code",
      "execution_count": 2,
      "metadata": {
        "id": "njiZHNIja--R"
      },
      "outputs": [],
      "source": [
        "import pickle"
      ]
    },
    {
      "cell_type": "code",
      "execution_count": 3,
      "metadata": {
        "id": "VOgGGXu3bt71"
      },
      "outputs": [],
      "source": [
        "from tensorflow.keras.layers import Bidirectional\n"
      ]
    },
    {
      "cell_type": "code",
      "execution_count": 4,
      "metadata": {
        "id": "yS951T16Qrdh"
      },
      "outputs": [],
      "source": [
        "# Define some variables\n",
        "vocab_size = 5000 # Max number of words\n",
        "embedding_dim = 64 # Word Vector dimension\n",
        "max_length = 200 # Max length of the sequence\n",
        "trunc_type = 'post' # where to chop off\n",
        "padding_type = 'post' # where to put the padding\n",
        "oov_tok = '<OOV>'"
      ]
    },
    {
      "cell_type": "code",
      "execution_count": 5,
      "metadata": {
        "id": "VEq65fMZYzFZ"
      },
      "outputs": [],
      "source": [
        "X = pd.read_csv(\".../data/misc data/X.csv\")\n",
        "y = pd.read_csv(\".../data/misc data/y.csv\")"
      ]
    },
    {
      "cell_type": "code",
      "execution_count": 7,
      "metadata": {
        "id": "f1Ie4blvZZxS"
      },
      "outputs": [],
      "source": [
        "with open('X_test.pkl', 'rb') as f:\n",
        "    X_test_model = pickle.load(f)"
      ]
    },
    {
      "cell_type": "code",
      "execution_count": 8,
      "metadata": {
        "id": "V07_SSd3wud7"
      },
      "outputs": [],
      "source": [
        "y.drop(columns=[\"Unnamed: 0\"], inplace=True)"
      ]
    },
    {
      "cell_type": "code",
      "execution_count": 9,
      "metadata": {
        "colab": {
          "base_uri": "https://localhost:8080/"
        },
        "id": "IOl8kznL7XF1",
        "outputId": "e1aa42d5-b3d2-455d-c8f3-51670bf54d1c"
      },
      "outputs": [
        {
          "data": {
            "text/plain": [
              "target\n",
              "0         0.57377\n",
              "1         0.42623\n",
              "dtype: float64"
            ]
          },
          "execution_count": 9,
          "metadata": {},
          "output_type": "execute_result"
        }
      ],
      "source": [
        "y.value_counts(normalize = True)"
      ]
    },
    {
      "cell_type": "code",
      "execution_count": 10,
      "metadata": {
        "id": "N0SVgHHBxDVy"
      },
      "outputs": [],
      "source": [
        "X.drop(columns=[\"Unnamed: 0\"], inplace=True)"
      ]
    },
    {
      "cell_type": "code",
      "execution_count": 11,
      "metadata": {
        "id": "6r1P3Yrg0JvJ"
      },
      "outputs": [],
      "source": [
        "tweets = []\n",
        "\n",
        "for index, row in X.iterrows():\n",
        "\n",
        "  token_list = [x for x in row['text'].split() if x not in stopwords.words('english')]\n",
        "\n",
        "  tweets.append(\" \".join(token_list))"
      ]
    },
    {
      "cell_type": "code",
      "execution_count": 12,
      "metadata": {
        "id": "BF_gOcEJ0hWI"
      },
      "outputs": [],
      "source": [
        "yn = y.values.tolist()"
      ]
    },
    {
      "cell_type": "code",
      "execution_count": 13,
      "metadata": {
        "id": "xa55cXZs0yLm"
      },
      "outputs": [],
      "source": [
        "Xn = tweets"
      ]
    },
    {
      "cell_type": "code",
      "execution_count": 14,
      "metadata": {
        "id": "syhWERFAbDWd"
      },
      "outputs": [],
      "source": [
        "tokenizer = Tokenizer(num_words=vocab_size, oov_token=oov_tok)"
      ]
    },
    {
      "cell_type": "code",
      "execution_count": 15,
      "metadata": {
        "id": "29V9WIZpbIge"
      },
      "outputs": [],
      "source": [
        "X_train, X_test, y_train, y_test = train_test_split(Xn, yn, random_state = 42,\n",
        "                                                    test_size = 0.2, stratify=y)"
      ]
    },
    {
      "cell_type": "code",
      "execution_count": 16,
      "metadata": {
        "id": "9HpW1d3kbQla"
      },
      "outputs": [],
      "source": [
        "tokenizer.fit_on_texts(X_train)"
      ]
    },
    {
      "cell_type": "code",
      "execution_count": 17,
      "metadata": {
        "id": "n6-R2UHubWeu"
      },
      "outputs": [],
      "source": [
        "train_seq = tokenizer.texts_to_sequences(X_train)"
      ]
    },
    {
      "cell_type": "code",
      "execution_count": 18,
      "metadata": {
        "id": "Y-ip73sWbXtl"
      },
      "outputs": [],
      "source": [
        "train_padded = pad_sequences(train_seq, maxlen=max_length, padding= padding_type,\n",
        "                             truncating = trunc_type)\n",
        "train_padded=np.array(train_padded)"
      ]
    },
    {
      "cell_type": "code",
      "execution_count": 19,
      "metadata": {
        "id": "79m0GtJEbb73"
      },
      "outputs": [],
      "source": [
        "test_seq = tokenizer.texts_to_sequences(X_test)\n",
        "test_padded = pad_sequences(test_seq, maxlen = max_length, padding = padding_type,\n",
        "                            truncating = trunc_type)\n",
        "test_padded=np.array(test_padded)"
      ]
    },
    {
      "cell_type": "code",
      "execution_count": 20,
      "metadata": {
        "id": "ZAdVqPCbZ5bO"
      },
      "outputs": [],
      "source": [
        "testing_seq = tokenizer.texts_to_sequences(X_test_model)\n",
        "testing_padded = pad_sequences(testing_seq, maxlen = max_length, padding = padding_type,\n",
        "                            truncating = trunc_type)\n",
        "testing_padded=np.array(testing_padded)"
      ]
    },
    {
      "cell_type": "code",
      "execution_count": 26,
      "metadata": {
        "colab": {
          "base_uri": "https://localhost:8080/"
        },
        "id": "V6Y8RVQVbfe0",
        "outputId": "66347547-a2ce-44e7-dc7c-90d9c7c1c291"
      },
      "outputs": [
        {
          "name": "stdout",
          "output_type": "stream",
          "text": [
            "Model: \"sequential_1\"\n",
            "_________________________________________________________________\n",
            " Layer (type)                Output Shape              Param #   \n",
            "=================================================================\n",
            " embedding_1 (Embedding)     (None, 200, 64)           320000    \n",
            "                                                                 \n",
            " bidirectional_2 (Bidirecti  (None, 200, 128)          66048     \n",
            " onal)                                                           \n",
            "                                                                 \n",
            " bidirectional_3 (Bidirecti  (None, 64)                41216     \n",
            " onal)                                                           \n",
            "                                                                 \n",
            " dense_1 (Dense)             (None, 1)                 65        \n",
            "                                                                 \n",
            "=================================================================\n",
            "Total params: 427329 (1.63 MB)\n",
            "Trainable params: 427329 (1.63 MB)\n",
            "Non-trainable params: 0 (0.00 Byte)\n",
            "_________________________________________________________________\n"
          ]
        }
      ],
      "source": [
        "model = Sequential()\n",
        "model.add(Embedding(vocab_size, embedding_dim, input_length = max_length))\n",
        "model.add(Bidirectional(LSTM(64, return_sequences = True)))\n",
        "model.add(Bidirectional(LSTM(32)))\n",
        "model.add(Dense(1, activation = 'sigmoid'))\n",
        "\n",
        "model.summary()"
      ]
    },
    {
      "cell_type": "code",
      "execution_count": 22,
      "metadata": {
        "id": "kJGpi_XxXo__"
      },
      "outputs": [],
      "source": [
        "from keras import backend as K"
      ]
    },
    {
      "cell_type": "code",
      "execution_count": 61,
      "metadata": {
        "id": "Bd8XcHgQXQ7V"
      },
      "outputs": [],
      "source": [
        "def recall_m(y_true, y_pred):\n",
        "    true_positives = K.sum(K.round(K.clip(y_true * y_pred, 0, 1)))\n",
        "    possible_positives = K.sum(K.round(K.clip(y_true, 0, 1)))\n",
        "    recall = true_positives / (possible_positives + K.epsilon())\n",
        "    return recall\n",
        "\n",
        "def precision_m(y_true, y_pred):\n",
        "    true_positives = K.sum(K.round(K.clip(y_true * y_pred, 0, 1)))\n",
        "    predicted_positives = K.sum(K.round(K.clip(y_pred, 0, 1)))\n",
        "    precision = true_positives / (predicted_positives + K.epsilon())\n",
        "    return precision\n",
        "\n",
        "def f1_m(y_true, y_pred):\n",
        "    precision = precision_m(y_true, y_pred)\n",
        "    recall = recall_m(y_true, y_pred)\n",
        "    return 2*((precision*recall)/(precision+recall+K.epsilon()))\n",
        "\n",
        "def specificity_m(y_true, y_pred):\n",
        "    true_negatives = K.sum(K.round(K.clip((1 - y_true) * (1 - y_pred), 0, 1)))\n",
        "    possible_negatives = K.sum(K.round(K.clip(1 - y_true, 0, 1)))\n",
        "    return true_negatives / (possible_negatives + K.epsilon())\n",
        "\n",
        "#stackexchange thread https://datascience.stackexchange.com/questions/45165/how-to-get-accuracy-f1-precision-and-recall-for-a-keras-model"
      ]
    },
    {
      "cell_type": "code",
      "execution_count": 62,
      "metadata": {
        "id": "KjHAHTVkb6He"
      },
      "outputs": [],
      "source": [
        "model.compile(loss = 'binary_crossentropy', optimizer = 'adam', metrics = ['acc',f1_m,precision_m, recall_m, specificity_m])"
      ]
    },
    {
      "cell_type": "code",
      "execution_count": 28,
      "metadata": {
        "id": "wqDJFl5scoGV"
      },
      "outputs": [],
      "source": [
        "y_train = np.array(y_train)\n",
        "y_test = np.array(y_test)"
      ]
    },
    {
      "cell_type": "code",
      "execution_count": 41,
      "metadata": {
        "colab": {
          "base_uri": "https://localhost:8080/"
        },
        "id": "6LBd2ivAb_sb",
        "outputId": "cfd01d58-494c-480d-bf7c-b0127c88bfde"
      },
      "outputs": [
        {
          "name": "stdout",
          "output_type": "stream",
          "text": [
            "Epoch 1/5\n",
            "24/24 [==============================] - 60s 2s/step - loss: 0.1057 - acc: 0.9690 - f1_m: 0.9631 - precision_m: 0.9760 - recall_m: 0.9511 - specificity: 0.9822 - val_loss: 0.7626 - val_acc: 0.7742 - val_f1_m: 0.7326 - val_precision_m: 0.7367 - val_recall_m: 0.7292 - val_specificity: 0.8065\n",
            "Epoch 2/5\n",
            "24/24 [==============================] - 62s 3s/step - loss: 0.0858 - acc: 0.9755 - f1_m: 0.9709 - precision_m: 0.9812 - recall_m: 0.9611 - specificity: 0.9864 - val_loss: 0.8795 - val_acc: 0.7522 - val_f1_m: 0.7166 - val_precision_m: 0.6985 - val_recall_m: 0.7362 - val_specificity: 0.7622\n",
            "Epoch 3/5\n",
            "24/24 [==============================] - 62s 3s/step - loss: 0.0772 - acc: 0.9740 - f1_m: 0.9697 - precision_m: 0.9753 - recall_m: 0.9644 - specificity: 0.9819 - val_loss: 0.8458 - val_acc: 0.7688 - val_f1_m: 0.7143 - val_precision_m: 0.7517 - val_recall_m: 0.6811 - val_specificity: 0.8318\n",
            "Epoch 4/5\n",
            "24/24 [==============================] - 52s 2s/step - loss: 0.0698 - acc: 0.9768 - f1_m: 0.9725 - precision_m: 0.9785 - recall_m: 0.9668 - specificity: 0.9839 - val_loss: 0.9235 - val_acc: 0.7662 - val_f1_m: 0.7137 - val_precision_m: 0.7444 - val_recall_m: 0.6861 - val_specificity: 0.8244\n",
            "Epoch 5/5\n",
            "24/24 [==============================] - 53s 2s/step - loss: 0.0630 - acc: 0.9790 - f1_m: 0.9748 - precision_m: 0.9786 - recall_m: 0.9713 - specificity: 0.9844 - val_loss: 0.9703 - val_acc: 0.7568 - val_f1_m: 0.7162 - val_precision_m: 0.7124 - val_recall_m: 0.7208 - val_specificity: 0.7825\n"
          ]
        }
      ],
      "source": [
        "history = model.fit(train_padded, y_train, validation_data = (test_padded, y_test),\n",
        "          batch_size = 256, epochs = 5)"
      ]
    },
    {
      "cell_type": "code",
      "execution_count": 42,
      "metadata": {
        "id": "IWHWztmEXCbV"
      },
      "outputs": [],
      "source": [
        "loss, accuracy, f1_score, precision, recall, specificity = model.evaluate(test_padded, y_test, verbose=0)"
      ]
    },
    {
      "cell_type": "code",
      "execution_count": 53,
      "metadata": {
        "colab": {
          "base_uri": "https://localhost:8080/"
        },
        "id": "mwvu8cU-fFre",
        "outputId": "65137a1f-33c9-4dbf-e248-d272b2962388"
      },
      "outputs": [
        {
          "name": "stdout",
          "output_type": "stream",
          "text": [
            "0.9703246355056763 0.756828784942627 0.709057092666626 0.7131274342536926 0.7203157544136047 0.7845596671104431\n"
          ]
        }
      ],
      "source": [
        "print(loss, accuracy, f1_score, precision, recall, specificity)"
      ]
    },
    {
      "cell_type": "code",
      "execution_count": 65,
      "metadata": {
        "colab": {
          "base_uri": "https://localhost:8080/",
          "height": 81
        },
        "id": "bNSHUyqlaEGZ",
        "outputId": "09ccb1b5-9e04-45f9-c78a-8ff543db70f0"
      },
      "outputs": [
        {
          "data": {
            "text/html": [
              "\n",
              "  <div id=\"df-49590dba-8d73-4080-abd8-00aa7f3ca0b5\" class=\"colab-df-container\">\n",
              "    <div>\n",
              "<style scoped>\n",
              "    .dataframe tbody tr th:only-of-type {\n",
              "        vertical-align: middle;\n",
              "    }\n",
              "\n",
              "    .dataframe tbody tr th {\n",
              "        vertical-align: top;\n",
              "    }\n",
              "\n",
              "    .dataframe thead th {\n",
              "        text-align: right;\n",
              "    }\n",
              "</style>\n",
              "<table border=\"1\" class=\"dataframe\">\n",
              "  <thead>\n",
              "    <tr style=\"text-align: right;\">\n",
              "      <th></th>\n",
              "      <th>Model</th>\n",
              "      <th>Loss</th>\n",
              "      <th>Accuracy</th>\n",
              "      <th>Sensitivity</th>\n",
              "      <th>Specificity</th>\n",
              "      <th>Precision</th>\n",
              "      <th>F1 Score</th>\n",
              "    </tr>\n",
              "  </thead>\n",
              "  <tbody>\n",
              "    <tr>\n",
              "      <th>0</th>\n",
              "      <td>Sequential, Bidirectional, LSTM</td>\n",
              "      <td>0.97</td>\n",
              "      <td>0.76</td>\n",
              "      <td>0.72</td>\n",
              "      <td>0.78</td>\n",
              "      <td>0.71</td>\n",
              "      <td>0.71</td>\n",
              "    </tr>\n",
              "  </tbody>\n",
              "</table>\n",
              "</div>\n",
              "    <div class=\"colab-df-buttons\">\n",
              "\n",
              "  <div class=\"colab-df-container\">\n",
              "    <button class=\"colab-df-convert\" onclick=\"convertToInteractive('df-49590dba-8d73-4080-abd8-00aa7f3ca0b5')\"\n",
              "            title=\"Convert this dataframe to an interactive table.\"\n",
              "            style=\"display:none;\">\n",
              "\n",
              "  <svg xmlns=\"http://www.w3.org/2000/svg\" height=\"24px\" viewBox=\"0 -960 960 960\">\n",
              "    <path d=\"M120-120v-720h720v720H120Zm60-500h600v-160H180v160Zm220 220h160v-160H400v160Zm0 220h160v-160H400v160ZM180-400h160v-160H180v160Zm440 0h160v-160H620v160ZM180-180h160v-160H180v160Zm440 0h160v-160H620v160Z\"/>\n",
              "  </svg>\n",
              "    </button>\n",
              "\n",
              "  <style>\n",
              "    .colab-df-container {\n",
              "      display:flex;\n",
              "      gap: 12px;\n",
              "    }\n",
              "\n",
              "    .colab-df-convert {\n",
              "      background-color: #E8F0FE;\n",
              "      border: none;\n",
              "      border-radius: 50%;\n",
              "      cursor: pointer;\n",
              "      display: none;\n",
              "      fill: #1967D2;\n",
              "      height: 32px;\n",
              "      padding: 0 0 0 0;\n",
              "      width: 32px;\n",
              "    }\n",
              "\n",
              "    .colab-df-convert:hover {\n",
              "      background-color: #E2EBFA;\n",
              "      box-shadow: 0px 1px 2px rgba(60, 64, 67, 0.3), 0px 1px 3px 1px rgba(60, 64, 67, 0.15);\n",
              "      fill: #174EA6;\n",
              "    }\n",
              "\n",
              "    .colab-df-buttons div {\n",
              "      margin-bottom: 4px;\n",
              "    }\n",
              "\n",
              "    [theme=dark] .colab-df-convert {\n",
              "      background-color: #3B4455;\n",
              "      fill: #D2E3FC;\n",
              "    }\n",
              "\n",
              "    [theme=dark] .colab-df-convert:hover {\n",
              "      background-color: #434B5C;\n",
              "      box-shadow: 0px 1px 3px 1px rgba(0, 0, 0, 0.15);\n",
              "      filter: drop-shadow(0px 1px 2px rgba(0, 0, 0, 0.3));\n",
              "      fill: #FFFFFF;\n",
              "    }\n",
              "  </style>\n",
              "\n",
              "    <script>\n",
              "      const buttonEl =\n",
              "        document.querySelector('#df-49590dba-8d73-4080-abd8-00aa7f3ca0b5 button.colab-df-convert');\n",
              "      buttonEl.style.display =\n",
              "        google.colab.kernel.accessAllowed ? 'block' : 'none';\n",
              "\n",
              "      async function convertToInteractive(key) {\n",
              "        const element = document.querySelector('#df-49590dba-8d73-4080-abd8-00aa7f3ca0b5');\n",
              "        const dataTable =\n",
              "          await google.colab.kernel.invokeFunction('convertToInteractive',\n",
              "                                                    [key], {});\n",
              "        if (!dataTable) return;\n",
              "\n",
              "        const docLinkHtml = 'Like what you see? Visit the ' +\n",
              "          '<a target=\"_blank\" href=https://colab.research.google.com/notebooks/data_table.ipynb>data table notebook</a>'\n",
              "          + ' to learn more about interactive tables.';\n",
              "        element.innerHTML = '';\n",
              "        dataTable['output_type'] = 'display_data';\n",
              "        await google.colab.output.renderOutput(dataTable, element);\n",
              "        const docLink = document.createElement('div');\n",
              "        docLink.innerHTML = docLinkHtml;\n",
              "        element.appendChild(docLink);\n",
              "      }\n",
              "    </script>\n",
              "  </div>\n",
              "\n",
              "    </div>\n",
              "  </div>\n"
            ],
            "text/plain": [
              "                             Model  Loss  Accuracy  Sensitivity  Specificity  \\\n",
              "0  Sequential, Bidirectional, LSTM  0.97      0.76         0.72         0.78   \n",
              "\n",
              "   Precision  F1 Score  \n",
              "0       0.71      0.71  "
            ]
          },
          "execution_count": 65,
          "metadata": {},
          "output_type": "execute_result"
        }
      ],
      "source": [
        " df = pd.DataFrame(\n",
        "        {'Model' : \"Sequential, Bidirectional, LSTM\",\n",
        "         'Loss': round(loss,2),\n",
        "        'Accuracy': round(accuracy,2),\n",
        "         'Sensitivity': round(recall,2),\n",
        "         'Specificity': round(specificity,2),\n",
        "         'Precision' : round(precision,2),\n",
        "         'F1 Score' : round(f1_score,2)\n",
        "        },index=[0]\n",
        "    )\n",
        "df"
      ]
    },
    {
      "cell_type": "code",
      "execution_count": null,
      "metadata": {
        "colab": {
          "base_uri": "https://localhost:8080/"
        },
        "id": "w2ZFyjk9vYKZ",
        "outputId": "ee0e9b98-d98c-4894-e718-d72a351af86f"
      },
      "outputs": [
        {
          "name": "stdout",
          "output_type": "stream",
          "text": [
            "Model: \"sequential_1\"\n",
            "_________________________________________________________________\n",
            " Layer (type)                Output Shape              Param #   \n",
            "=================================================================\n",
            " embedding_1 (Embedding)     (None, 200, 64)           320000    \n",
            "                                                                 \n",
            " lstm_2 (LSTM)               (None, 200, 32)           12416     \n",
            "                                                                 \n",
            " bidirectional_2 (Bidirecti  (None, 32)                6272      \n",
            " onal)                                                           \n",
            "                                                                 \n",
            " dense_1 (Dense)             (None, 1)                 33        \n",
            "                                                                 \n",
            "=================================================================\n",
            "Total params: 338721 (1.29 MB)\n",
            "Trainable params: 338721 (1.29 MB)\n",
            "Non-trainable params: 0 (0.00 Byte)\n",
            "_________________________________________________________________\n"
          ]
        }
      ],
      "source": [
        "model1 = Sequential()\n",
        "model1.add(Embedding(vocab_size, embedding_dim, input_length = max_length))\n",
        "model1.add(LSTM(32, return_sequences = True))\n",
        "model1.add(Bidirectional(LSTM(16)))\n",
        "model1.add(Dense(1, activation = 'sigmoid'))\n",
        "\n",
        "model1.summary()"
      ]
    },
    {
      "cell_type": "code",
      "execution_count": null,
      "metadata": {
        "id": "hejDGczgvq2g"
      },
      "outputs": [],
      "source": [
        "model1.compile(loss = 'binary_crossentropy', optimizer = 'adam', metrics = ['acc',f1_m,precision_m, recall_m, specificity])"
      ]
    },
    {
      "cell_type": "code",
      "execution_count": null,
      "metadata": {
        "colab": {
          "base_uri": "https://localhost:8080/"
        },
        "id": "MzdDZPy-vtVF",
        "outputId": "d79f92d3-2b77-4e50-dd9e-49a83f40ac70"
      },
      "outputs": [
        {
          "name": "stdout",
          "output_type": "stream",
          "text": [
            "Epoch 1/5\n",
            "24/24 [==============================] - 18s 574ms/step - loss: 0.6792 - acc: 0.5708 - val_loss: 0.6610 - val_acc: 0.5736\n",
            "Epoch 2/5\n",
            "24/24 [==============================] - 9s 366ms/step - loss: 0.5807 - acc: 0.7021 - val_loss: 0.4800 - val_acc: 0.8068\n",
            "Epoch 3/5\n",
            "24/24 [==============================] - 7s 283ms/step - loss: 0.4032 - acc: 0.8524 - val_loss: 0.4435 - val_acc: 0.8128\n",
            "Epoch 4/5\n",
            "24/24 [==============================] - 9s 381ms/step - loss: 0.3131 - acc: 0.8967 - val_loss: 0.4643 - val_acc: 0.8081\n",
            "Epoch 5/5\n",
            "24/24 [==============================] - 8s 337ms/step - loss: 0.2525 - acc: 0.9217 - val_loss: 0.5012 - val_acc: 0.8001\n"
          ]
        },
        {
          "data": {
            "text/plain": [
              "<keras.src.callbacks.History at 0x785171285b40>"
            ]
          },
          "execution_count": 24,
          "metadata": {},
          "output_type": "execute_result"
        }
      ],
      "source": [
        "model1.fit(train_padded, y_train, validation_data = (test_padded, y_test),\n",
        "          batch_size = 256, epochs = 5)"
      ]
    },
    {
      "cell_type": "code",
      "execution_count": null,
      "metadata": {
        "colab": {
          "base_uri": "https://localhost:8080/"
        },
        "id": "aWZCTYcAv74R",
        "outputId": "26b97963-04ef-4860-b630-e022612a4164"
      },
      "outputs": [
        {
          "name": "stdout",
          "output_type": "stream",
          "text": [
            "Model: \"sequential_2\"\n",
            "_________________________________________________________________\n",
            " Layer (type)                Output Shape              Param #   \n",
            "=================================================================\n",
            " embedding_2 (Embedding)     (None, 200, 64)           320000    \n",
            "                                                                 \n",
            " bidirectional_3 (Bidirecti  (None, 32)                7872      \n",
            " onal)                                                           \n",
            "                                                                 \n",
            " dense_2 (Dense)             (None, 1)                 33        \n",
            "                                                                 \n",
            "=================================================================\n",
            "Total params: 327905 (1.25 MB)\n",
            "Trainable params: 327905 (1.25 MB)\n",
            "Non-trainable params: 0 (0.00 Byte)\n",
            "_________________________________________________________________\n"
          ]
        }
      ],
      "source": [
        "model2 = Sequential()\n",
        "model2.add(Embedding(vocab_size, embedding_dim, input_length = max_length))\n",
        "model2.add(Bidirectional(tf.keras.layers.GRU(16)))\n",
        "model2.add(Dense(1, activation = 'sigmoid'))\n",
        "\n",
        "model2.summary()"
      ]
    },
    {
      "cell_type": "code",
      "execution_count": null,
      "metadata": {
        "id": "Q0qbPE_wyGoG"
      },
      "outputs": [],
      "source": [
        "model2.compile(loss = 'binary_crossentropy', optimizer = 'adam', metrics = ['acc'])"
      ]
    },
    {
      "cell_type": "code",
      "execution_count": null,
      "metadata": {
        "colab": {
          "base_uri": "https://localhost:8080/"
        },
        "id": "wANPJxipyJcI",
        "outputId": "8e671aed-7da1-40e4-9e26-e69a0ff196a8"
      },
      "outputs": [
        {
          "name": "stdout",
          "output_type": "stream",
          "text": [
            "Epoch 1/5\n",
            "24/24 [==============================] - 7s 180ms/step - loss: 0.6769 - acc: 0.5736 - val_loss: 0.6638 - val_acc: 0.5736\n",
            "Epoch 2/5\n",
            "24/24 [==============================] - 4s 184ms/step - loss: 0.6350 - acc: 0.6248 - val_loss: 0.6005 - val_acc: 0.7015\n",
            "Epoch 3/5\n",
            "24/24 [==============================] - 7s 277ms/step - loss: 0.5116 - acc: 0.7837 - val_loss: 0.4694 - val_acc: 0.8041\n",
            "Epoch 4/5\n",
            "24/24 [==============================] - 8s 317ms/step - loss: 0.3668 - acc: 0.8539 - val_loss: 0.4325 - val_acc: 0.8055\n",
            "Epoch 5/5\n",
            "24/24 [==============================] - 6s 240ms/step - loss: 0.2931 - acc: 0.8859 - val_loss: 0.4416 - val_acc: 0.8008\n"
          ]
        },
        {
          "data": {
            "text/plain": [
              "<keras.src.callbacks.History at 0x785171287af0>"
            ]
          },
          "execution_count": 27,
          "metadata": {},
          "output_type": "execute_result"
        }
      ],
      "source": [
        "model2.fit(train_padded, y_train, validation_data = (test_padded, y_test),\n",
        "          batch_size = 256, epochs = 5)"
      ]
    },
    {
      "cell_type": "code",
      "execution_count": 58,
      "metadata": {
        "colab": {
          "base_uri": "https://localhost:8080/"
        },
        "id": "bmU7q1PAy4rt",
        "outputId": "da8d9176-7c66-4c14-90f8-9e0d05d00a2f"
      },
      "outputs": [
        {
          "name": "stdout",
          "output_type": "stream",
          "text": [
            "Model: \"sequential_2\"\n",
            "_________________________________________________________________\n",
            " Layer (type)                Output Shape              Param #   \n",
            "=================================================================\n",
            " embedding_2 (Embedding)     (None, 200, 64)           320000    \n",
            "                                                                 \n",
            " bidirectional_4 (Bidirecti  (None, 32)                7872      \n",
            " onal)                                                           \n",
            "                                                                 \n",
            " dense_2 (Dense)             (None, 8)                 264       \n",
            "                                                                 \n",
            " dense_3 (Dense)             (None, 1)                 9         \n",
            "                                                                 \n",
            "=================================================================\n",
            "Total params: 328145 (1.25 MB)\n",
            "Trainable params: 328145 (1.25 MB)\n",
            "Non-trainable params: 0 (0.00 Byte)\n",
            "_________________________________________________________________\n"
          ]
        }
      ],
      "source": [
        "model3 = Sequential()\n",
        "model3.add(Embedding(vocab_size, embedding_dim, input_length = max_length))\n",
        "model3.add(Bidirectional(tf.keras.layers.GRU(16)))\n",
        "model3.add(Dense(8, activation = 'relu'))\n",
        "model3.add(Dense(1, activation = 'sigmoid'))\n",
        "\n",
        "model3.summary()"
      ]
    },
    {
      "cell_type": "code",
      "execution_count": 63,
      "metadata": {
        "id": "tuYPAB3fy_Ww"
      },
      "outputs": [],
      "source": [
        "model3.compile(loss = 'binary_crossentropy', optimizer = 'adam', metrics = ['acc',f1_m,precision_m, recall_m, specificity_m])"
      ]
    },
    {
      "cell_type": "code",
      "execution_count": 64,
      "metadata": {
        "colab": {
          "base_uri": "https://localhost:8080/"
        },
        "id": "xIh5JWzBy_6c",
        "outputId": "8f75046f-a9f8-48f5-ef7c-99b8bfbcac4e"
      },
      "outputs": [
        {
          "name": "stdout",
          "output_type": "stream",
          "text": [
            "Epoch 1/5\n",
            "24/24 [==============================] - 17s 514ms/step - loss: 0.6735 - acc: 0.5743 - f1_m: 0.0281 - precision_m: 0.1612 - recall_m: 0.0188 - specificity_m: 0.9885 - val_loss: 0.6518 - val_acc: 0.6056 - val_f1_m: 0.1381 - val_precision_m: 1.0000 - val_recall_m: 0.0745 - val_specificity_m: 1.0000\n",
            "Epoch 2/5\n",
            "24/24 [==============================] - 14s 568ms/step - loss: 0.6021 - acc: 0.6988 - f1_m: 0.4519 - precision_m: 0.9492 - recall_m: 0.3177 - specificity_m: 0.9818 - val_loss: 0.5416 - val_acc: 0.7755 - val_f1_m: 0.6797 - val_precision_m: 0.8583 - val_recall_m: 0.5643 - val_specificity_m: 0.9300\n",
            "Epoch 3/5\n",
            "24/24 [==============================] - 9s 390ms/step - loss: 0.4345 - acc: 0.8327 - f1_m: 0.7819 - precision_m: 0.8747 - recall_m: 0.7118 - specificity_m: 0.9211 - val_loss: 0.4499 - val_acc: 0.8008 - val_f1_m: 0.7607 - val_precision_m: 0.7737 - val_recall_m: 0.7487 - val_specificity_m: 0.8388\n",
            "Epoch 4/5\n",
            "24/24 [==============================] - 7s 297ms/step - loss: 0.3134 - acc: 0.8734 - f1_m: 0.8462 - precision_m: 0.8830 - recall_m: 0.8147 - specificity_m: 0.9190 - val_loss: 0.4615 - val_acc: 0.8101 - val_f1_m: 0.7580 - val_precision_m: 0.8247 - val_recall_m: 0.7019 - val_specificity_m: 0.8904\n",
            "Epoch 5/5\n",
            "24/24 [==============================] - 8s 323ms/step - loss: 0.2454 - acc: 0.9039 - f1_m: 0.8839 - precision_m: 0.9140 - recall_m: 0.8566 - specificity_m: 0.9402 - val_loss: 0.4972 - val_acc: 0.7968 - val_f1_m: 0.7469 - val_precision_m: 0.7908 - val_recall_m: 0.7078 - val_specificity_m: 0.8610\n"
          ]
        }
      ],
      "source": [
        "history3 = model3.fit(train_padded, y_train, validation_data = (test_padded, y_test),\n",
        "          batch_size = 256, epochs = 5)"
      ]
    },
    {
      "cell_type": "code",
      "execution_count": 73,
      "metadata": {
        "id": "A69GApokgBhV"
      },
      "outputs": [],
      "source": [
        "loss3, accuracy3, f1_score3, precision3, recall3, specificity3 = model3.evaluate(test_padded, y_test, verbose=0)"
      ]
    },
    {
      "cell_type": "code",
      "execution_count": 77,
      "metadata": {
        "colab": {
          "base_uri": "https://localhost:8080/",
          "height": 81
        },
        "id": "UIlXRno2cumD",
        "outputId": "700d0422-653e-462a-fbdf-bc93897aff3c"
      },
      "outputs": [
        {
          "data": {
            "text/html": [
              "\n",
              "  <div id=\"df-fd0de040-2c9a-4c5b-aaad-d65c1920a803\" class=\"colab-df-container\">\n",
              "    <div>\n",
              "<style scoped>\n",
              "    .dataframe tbody tr th:only-of-type {\n",
              "        vertical-align: middle;\n",
              "    }\n",
              "\n",
              "    .dataframe tbody tr th {\n",
              "        vertical-align: top;\n",
              "    }\n",
              "\n",
              "    .dataframe thead th {\n",
              "        text-align: right;\n",
              "    }\n",
              "</style>\n",
              "<table border=\"1\" class=\"dataframe\">\n",
              "  <thead>\n",
              "    <tr style=\"text-align: right;\">\n",
              "      <th></th>\n",
              "      <th>Model</th>\n",
              "      <th>Loss</th>\n",
              "      <th>Accuracy</th>\n",
              "      <th>Sensitivity</th>\n",
              "      <th>Specificity</th>\n",
              "      <th>Precision</th>\n",
              "      <th>F1 Score</th>\n",
              "    </tr>\n",
              "  </thead>\n",
              "  <tbody>\n",
              "    <tr>\n",
              "      <th>0</th>\n",
              "      <td>Sequential, Bidirectional, GRU</td>\n",
              "      <td>0.5</td>\n",
              "      <td>0.8</td>\n",
              "      <td>0.71</td>\n",
              "      <td>0.86</td>\n",
              "      <td>0.79</td>\n",
              "      <td>0.74</td>\n",
              "    </tr>\n",
              "  </tbody>\n",
              "</table>\n",
              "</div>\n",
              "    <div class=\"colab-df-buttons\">\n",
              "\n",
              "  <div class=\"colab-df-container\">\n",
              "    <button class=\"colab-df-convert\" onclick=\"convertToInteractive('df-fd0de040-2c9a-4c5b-aaad-d65c1920a803')\"\n",
              "            title=\"Convert this dataframe to an interactive table.\"\n",
              "            style=\"display:none;\">\n",
              "\n",
              "  <svg xmlns=\"http://www.w3.org/2000/svg\" height=\"24px\" viewBox=\"0 -960 960 960\">\n",
              "    <path d=\"M120-120v-720h720v720H120Zm60-500h600v-160H180v160Zm220 220h160v-160H400v160Zm0 220h160v-160H400v160ZM180-400h160v-160H180v160Zm440 0h160v-160H620v160ZM180-180h160v-160H180v160Zm440 0h160v-160H620v160Z\"/>\n",
              "  </svg>\n",
              "    </button>\n",
              "\n",
              "  <style>\n",
              "    .colab-df-container {\n",
              "      display:flex;\n",
              "      gap: 12px;\n",
              "    }\n",
              "\n",
              "    .colab-df-convert {\n",
              "      background-color: #E8F0FE;\n",
              "      border: none;\n",
              "      border-radius: 50%;\n",
              "      cursor: pointer;\n",
              "      display: none;\n",
              "      fill: #1967D2;\n",
              "      height: 32px;\n",
              "      padding: 0 0 0 0;\n",
              "      width: 32px;\n",
              "    }\n",
              "\n",
              "    .colab-df-convert:hover {\n",
              "      background-color: #E2EBFA;\n",
              "      box-shadow: 0px 1px 2px rgba(60, 64, 67, 0.3), 0px 1px 3px 1px rgba(60, 64, 67, 0.15);\n",
              "      fill: #174EA6;\n",
              "    }\n",
              "\n",
              "    .colab-df-buttons div {\n",
              "      margin-bottom: 4px;\n",
              "    }\n",
              "\n",
              "    [theme=dark] .colab-df-convert {\n",
              "      background-color: #3B4455;\n",
              "      fill: #D2E3FC;\n",
              "    }\n",
              "\n",
              "    [theme=dark] .colab-df-convert:hover {\n",
              "      background-color: #434B5C;\n",
              "      box-shadow: 0px 1px 3px 1px rgba(0, 0, 0, 0.15);\n",
              "      filter: drop-shadow(0px 1px 2px rgba(0, 0, 0, 0.3));\n",
              "      fill: #FFFFFF;\n",
              "    }\n",
              "  </style>\n",
              "\n",
              "    <script>\n",
              "      const buttonEl =\n",
              "        document.querySelector('#df-fd0de040-2c9a-4c5b-aaad-d65c1920a803 button.colab-df-convert');\n",
              "      buttonEl.style.display =\n",
              "        google.colab.kernel.accessAllowed ? 'block' : 'none';\n",
              "\n",
              "      async function convertToInteractive(key) {\n",
              "        const element = document.querySelector('#df-fd0de040-2c9a-4c5b-aaad-d65c1920a803');\n",
              "        const dataTable =\n",
              "          await google.colab.kernel.invokeFunction('convertToInteractive',\n",
              "                                                    [key], {});\n",
              "        if (!dataTable) return;\n",
              "\n",
              "        const docLinkHtml = 'Like what you see? Visit the ' +\n",
              "          '<a target=\"_blank\" href=https://colab.research.google.com/notebooks/data_table.ipynb>data table notebook</a>'\n",
              "          + ' to learn more about interactive tables.';\n",
              "        element.innerHTML = '';\n",
              "        dataTable['output_type'] = 'display_data';\n",
              "        await google.colab.output.renderOutput(dataTable, element);\n",
              "        const docLink = document.createElement('div');\n",
              "        docLink.innerHTML = docLinkHtml;\n",
              "        element.appendChild(docLink);\n",
              "      }\n",
              "    </script>\n",
              "  </div>\n",
              "\n",
              "    </div>\n",
              "  </div>\n"
            ],
            "text/plain": [
              "                            Model  Loss  Accuracy  Sensitivity  Specificity  \\\n",
              "0  Sequential, Bidirectional, GRU   0.5       0.8         0.71         0.86   \n",
              "\n",
              "   Precision  F1 Score  \n",
              "0       0.79      0.74  "
            ]
          },
          "execution_count": 77,
          "metadata": {},
          "output_type": "execute_result"
        }
      ],
      "source": [
        "  df3 = pd.DataFrame(\n",
        "        {'Model' : \"Sequential, Bidirectional, GRU\",\n",
        "         'Loss': round(loss3,2),\n",
        "        'Accuracy': round(accuracy3,2),\n",
        "         'Sensitivity': round(recall3,2),\n",
        "         'Specificity': round(specificity3,2),\n",
        "         'Precision' : round(precision3,2),\n",
        "         'F1 Score' : round(f1_score3,2)\n",
        "        },index=[0]\n",
        "    )\n",
        "df3"
      ]
    },
    {
      "cell_type": "code",
      "execution_count": 68,
      "metadata": {
        "colab": {
          "base_uri": "https://localhost:8080/"
        },
        "id": "GrDGtIz6-2mh",
        "outputId": "f826cdf8-b2c8-4610-c310-2aac188af6f9"
      },
      "outputs": [
        {
          "name": "stdout",
          "output_type": "stream",
          "text": [
            "Model: \"sequential_3\"\n",
            "_________________________________________________________________\n",
            " Layer (type)                Output Shape              Param #   \n",
            "=================================================================\n",
            " embedding_3 (Embedding)     (None, 200, 32)           160000    \n",
            "                                                                 \n",
            " bidirectional_5 (Bidirecti  (None, 32)                4800      \n",
            " onal)                                                           \n",
            "                                                                 \n",
            " dense_4 (Dense)             (None, 8)                 264       \n",
            "                                                                 \n",
            " dense_5 (Dense)             (None, 1)                 9         \n",
            "                                                                 \n",
            "=================================================================\n",
            "Total params: 165073 (644.82 KB)\n",
            "Trainable params: 165073 (644.82 KB)\n",
            "Non-trainable params: 0 (0.00 Byte)\n",
            "_________________________________________________________________\n"
          ]
        }
      ],
      "source": [
        "model4 = Sequential()\n",
        "model4.add(Embedding(vocab_size, 32, input_length = max_length))\n",
        "model4.add(Bidirectional(tf.keras.layers.GRU(16)))\n",
        "model4.add(Dense(8, activation = 'relu', kernel_regularizer=tf.keras.regularizers.L2(0.01)))\n",
        "model4.add(Dense(1, activation = 'sigmoid'))\n",
        "\n",
        "model4.summary()"
      ]
    },
    {
      "cell_type": "code",
      "execution_count": 70,
      "metadata": {
        "id": "TRX91HrN_Ftp"
      },
      "outputs": [],
      "source": [
        "model4.compile(loss = 'binary_crossentropy', optimizer = 'adam', metrics = ['acc',f1_m,precision_m, recall_m, specificity_m])"
      ]
    },
    {
      "cell_type": "code",
      "execution_count": 71,
      "metadata": {
        "colab": {
          "base_uri": "https://localhost:8080/"
        },
        "id": "BMhzgpUq_ITX",
        "outputId": "30286767-8243-4c75-82c5-78620730c4cf"
      },
      "outputs": [
        {
          "name": "stdout",
          "output_type": "stream",
          "text": [
            "Epoch 1/5\n",
            "24/24 [==============================] - 17s 508ms/step - loss: 0.7983 - acc: 0.5730 - f1_m: 0.0056 - precision_m: 0.0170 - recall_m: 0.0034 - specificity_m: 0.9948 - val_loss: 0.7789 - val_acc: 0.5736 - val_f1_m: 0.0000e+00 - val_precision_m: 0.0000e+00 - val_recall_m: 0.0000e+00 - val_specificity_m: 1.0000\n",
            "Epoch 2/5\n",
            "24/24 [==============================] - 11s 470ms/step - loss: 0.7600 - acc: 0.5751 - f1_m: 0.0080 - precision_m: 0.2083 - recall_m: 0.0041 - specificity_m: 1.0000 - val_loss: 0.7351 - val_acc: 0.6049 - val_f1_m: 0.1340 - val_precision_m: 1.0000 - val_recall_m: 0.0726 - val_specificity_m: 1.0000\n",
            "Epoch 3/5\n",
            "24/24 [==============================] - 10s 400ms/step - loss: 0.6853 - acc: 0.6784 - f1_m: 0.3924 - precision_m: 0.9801 - recall_m: 0.2560 - specificity_m: 0.9949 - val_loss: 0.6377 - val_acc: 0.7322 - val_f1_m: 0.5524 - val_precision_m: 0.9592 - val_recall_m: 0.3885 - val_specificity_m: 0.9871\n",
            "Epoch 4/5\n",
            "24/24 [==============================] - 6s 257ms/step - loss: 0.5450 - acc: 0.8194 - f1_m: 0.7495 - precision_m: 0.9003 - recall_m: 0.6532 - specificity_m: 0.9441 - val_loss: 0.5412 - val_acc: 0.8128 - val_f1_m: 0.7641 - val_precision_m: 0.8197 - val_recall_m: 0.7164 - val_specificity_m: 0.8844\n",
            "Epoch 5/5\n",
            "24/24 [==============================] - 7s 304ms/step - loss: 0.4271 - acc: 0.8675 - f1_m: 0.8327 - precision_m: 0.8906 - recall_m: 0.7867 - specificity_m: 0.9270 - val_loss: 0.5114 - val_acc: 0.8108 - val_f1_m: 0.7666 - val_precision_m: 0.8049 - val_recall_m: 0.7320 - val_specificity_m: 0.8687\n"
          ]
        }
      ],
      "source": [
        "history4 = model4.fit(train_padded, y_train, validation_data = (test_padded, y_test),\n",
        "          batch_size = 256, epochs = 5)"
      ]
    },
    {
      "cell_type": "code",
      "execution_count": 72,
      "metadata": {
        "id": "W_xaA9Hpgva-"
      },
      "outputs": [],
      "source": [
        "loss4, accuracy4, f1_score4, precision4, recall4, specificity4 = model4.evaluate(test_padded, y_test, verbose=0)"
      ]
    },
    {
      "cell_type": "code",
      "execution_count": 78,
      "metadata": {
        "colab": {
          "base_uri": "https://localhost:8080/",
          "height": 115
        },
        "id": "yPc8w2a9c7eZ",
        "outputId": "6699a207-e6b8-4f03-a68d-9e5290f11c10"
      },
      "outputs": [
        {
          "data": {
            "text/html": [
              "\n",
              "  <div id=\"df-7652b042-0a98-4c28-87c1-180d6fb3a1a5\" class=\"colab-df-container\">\n",
              "    <div>\n",
              "<style scoped>\n",
              "    .dataframe tbody tr th:only-of-type {\n",
              "        vertical-align: middle;\n",
              "    }\n",
              "\n",
              "    .dataframe tbody tr th {\n",
              "        vertical-align: top;\n",
              "    }\n",
              "\n",
              "    .dataframe thead th {\n",
              "        text-align: right;\n",
              "    }\n",
              "</style>\n",
              "<table border=\"1\" class=\"dataframe\">\n",
              "  <thead>\n",
              "    <tr style=\"text-align: right;\">\n",
              "      <th></th>\n",
              "      <th>Model</th>\n",
              "      <th>Loss</th>\n",
              "      <th>Accuracy</th>\n",
              "      <th>Sensitivity</th>\n",
              "      <th>Specificity</th>\n",
              "      <th>Precision</th>\n",
              "      <th>F1 Score</th>\n",
              "    </tr>\n",
              "  </thead>\n",
              "  <tbody>\n",
              "    <tr>\n",
              "      <th>0</th>\n",
              "      <td>Sequential, Bidirectional, GRU, Regularization</td>\n",
              "      <td>0.51</td>\n",
              "      <td>0.81</td>\n",
              "      <td>0.73</td>\n",
              "      <td>0.87</td>\n",
              "      <td>0.8</td>\n",
              "      <td>0.76</td>\n",
              "    </tr>\n",
              "  </tbody>\n",
              "</table>\n",
              "</div>\n",
              "    <div class=\"colab-df-buttons\">\n",
              "\n",
              "  <div class=\"colab-df-container\">\n",
              "    <button class=\"colab-df-convert\" onclick=\"convertToInteractive('df-7652b042-0a98-4c28-87c1-180d6fb3a1a5')\"\n",
              "            title=\"Convert this dataframe to an interactive table.\"\n",
              "            style=\"display:none;\">\n",
              "\n",
              "  <svg xmlns=\"http://www.w3.org/2000/svg\" height=\"24px\" viewBox=\"0 -960 960 960\">\n",
              "    <path d=\"M120-120v-720h720v720H120Zm60-500h600v-160H180v160Zm220 220h160v-160H400v160Zm0 220h160v-160H400v160ZM180-400h160v-160H180v160Zm440 0h160v-160H620v160ZM180-180h160v-160H180v160Zm440 0h160v-160H620v160Z\"/>\n",
              "  </svg>\n",
              "    </button>\n",
              "\n",
              "  <style>\n",
              "    .colab-df-container {\n",
              "      display:flex;\n",
              "      gap: 12px;\n",
              "    }\n",
              "\n",
              "    .colab-df-convert {\n",
              "      background-color: #E8F0FE;\n",
              "      border: none;\n",
              "      border-radius: 50%;\n",
              "      cursor: pointer;\n",
              "      display: none;\n",
              "      fill: #1967D2;\n",
              "      height: 32px;\n",
              "      padding: 0 0 0 0;\n",
              "      width: 32px;\n",
              "    }\n",
              "\n",
              "    .colab-df-convert:hover {\n",
              "      background-color: #E2EBFA;\n",
              "      box-shadow: 0px 1px 2px rgba(60, 64, 67, 0.3), 0px 1px 3px 1px rgba(60, 64, 67, 0.15);\n",
              "      fill: #174EA6;\n",
              "    }\n",
              "\n",
              "    .colab-df-buttons div {\n",
              "      margin-bottom: 4px;\n",
              "    }\n",
              "\n",
              "    [theme=dark] .colab-df-convert {\n",
              "      background-color: #3B4455;\n",
              "      fill: #D2E3FC;\n",
              "    }\n",
              "\n",
              "    [theme=dark] .colab-df-convert:hover {\n",
              "      background-color: #434B5C;\n",
              "      box-shadow: 0px 1px 3px 1px rgba(0, 0, 0, 0.15);\n",
              "      filter: drop-shadow(0px 1px 2px rgba(0, 0, 0, 0.3));\n",
              "      fill: #FFFFFF;\n",
              "    }\n",
              "  </style>\n",
              "\n",
              "    <script>\n",
              "      const buttonEl =\n",
              "        document.querySelector('#df-7652b042-0a98-4c28-87c1-180d6fb3a1a5 button.colab-df-convert');\n",
              "      buttonEl.style.display =\n",
              "        google.colab.kernel.accessAllowed ? 'block' : 'none';\n",
              "\n",
              "      async function convertToInteractive(key) {\n",
              "        const element = document.querySelector('#df-7652b042-0a98-4c28-87c1-180d6fb3a1a5');\n",
              "        const dataTable =\n",
              "          await google.colab.kernel.invokeFunction('convertToInteractive',\n",
              "                                                    [key], {});\n",
              "        if (!dataTable) return;\n",
              "\n",
              "        const docLinkHtml = 'Like what you see? Visit the ' +\n",
              "          '<a target=\"_blank\" href=https://colab.research.google.com/notebooks/data_table.ipynb>data table notebook</a>'\n",
              "          + ' to learn more about interactive tables.';\n",
              "        element.innerHTML = '';\n",
              "        dataTable['output_type'] = 'display_data';\n",
              "        await google.colab.output.renderOutput(dataTable, element);\n",
              "        const docLink = document.createElement('div');\n",
              "        docLink.innerHTML = docLinkHtml;\n",
              "        element.appendChild(docLink);\n",
              "      }\n",
              "    </script>\n",
              "  </div>\n",
              "\n",
              "    </div>\n",
              "  </div>\n"
            ],
            "text/plain": [
              "                                            Model  Loss  Accuracy  \\\n",
              "0  Sequential, Bidirectional, GRU, Regularization  0.51      0.81   \n",
              "\n",
              "   Sensitivity  Specificity  Precision  F1 Score  \n",
              "0         0.73         0.87        0.8      0.76  "
            ]
          },
          "execution_count": 78,
          "metadata": {},
          "output_type": "execute_result"
        }
      ],
      "source": [
        "  df4 = pd.DataFrame(\n",
        "        {'Model' : \"Sequential, Bidirectional, GRU, Regularization\",\n",
        "         'Loss': round(loss4,2),\n",
        "        'Accuracy': round(accuracy4,2),\n",
        "         'Sensitivity': round(recall4,2),\n",
        "         'Specificity': round(specificity4,2),\n",
        "         'Precision' : round(precision4,2),\n",
        "         'F1 Score' : round(f1_score4,2)\n",
        "        },index=[0]\n",
        "    )\n",
        "df4"
      ]
    },
    {
      "cell_type": "code",
      "execution_count": null,
      "metadata": {
        "id": "gW5IU8AEpZvL"
      },
      "outputs": [],
      "source": [
        "with open('Model.pkl', 'wb') as f:\n",
        "    pickle.dump(history4, f)"
      ]
    },
    {
      "cell_type": "code",
      "execution_count": 92,
      "metadata": {
        "id": "snWwMLtw7wI1"
      },
      "outputs": [],
      "source": [
        "from keras.callbacks import EarlyStopping\n"
      ]
    },
    {
      "cell_type": "code",
      "execution_count": 93,
      "metadata": {
        "id": "7iKAGO5MiIj6"
      },
      "outputs": [],
      "source": [
        "es = EarlyStopping(monitor='val_acc', mode='min', verbose=1, patience=5, baseline=0.57)"
      ]
    },
    {
      "cell_type": "code",
      "execution_count": null,
      "metadata": {
        "colab": {
          "base_uri": "https://localhost:8080/"
        },
        "id": "tfd0eq9x3tlu",
        "outputId": "d4f4695a-64ea-44e1-8b7b-6f1b02630a55"
      },
      "outputs": [
        {
          "name": "stdout",
          "output_type": "stream",
          "text": [
            "Model: \"sequential_1\"\n",
            "_________________________________________________________________\n",
            " Layer (type)                Output Shape              Param #   \n",
            "=================================================================\n",
            " embedding_1 (Embedding)     (None, 200, 64)           320000    \n",
            "                                                                 \n",
            " bidirectional_2 (Bidirecti  (None, 64)                18816     \n",
            " onal)                                                           \n",
            "                                                                 \n",
            " dense_1 (Dense)             (None, 16)                1040      \n",
            "                                                                 \n",
            " dense_2 (Dense)             (None, 1)                 17        \n",
            "                                                                 \n",
            "=================================================================\n",
            "Total params: 339873 (1.30 MB)\n",
            "Trainable params: 339873 (1.30 MB)\n",
            "Non-trainable params: 0 (0.00 Byte)\n",
            "_________________________________________________________________\n"
          ]
        }
      ],
      "source": [
        "model5 = Sequential()\n",
        "model5.add(Embedding(vocab_size, 64, input_length = max_length))\n",
        "model5.add(Bidirectional(tf.keras.layers.GRU(32)))\n",
        "model5.add(Dense(16, activation = 'relu', kernel_regularizer=tf.keras.regularizers.L2(0.01)))\n",
        "model5.add(Dense(1, activation = 'sigmoid'))\n",
        "\n",
        "model5.summary()\n"
      ]
    },
    {
      "cell_type": "code",
      "execution_count": null,
      "metadata": {
        "id": "QWy6dV3L49Gi"
      },
      "outputs": [],
      "source": [
        "model5.compile(loss = 'binary_crossentropy', optimizer = 'adam', metrics = ['acc'])"
      ]
    },
    {
      "cell_type": "code",
      "execution_count": null,
      "metadata": {
        "colab": {
          "base_uri": "https://localhost:8080/"
        },
        "id": "YyESvX8v4_o0",
        "outputId": "228e509d-3000-449f-8c0a-687d2214622e"
      },
      "outputs": [
        {
          "name": "stdout",
          "output_type": "stream",
          "text": [
            "Epoch 1/5\n",
            "24/24 [==============================] - 10s 283ms/step - loss: 0.9027 - acc: 0.5740 - val_loss: 0.8586 - val_acc: 0.5736\n",
            "Epoch 2/5\n",
            "24/24 [==============================] - 7s 291ms/step - loss: 0.7922 - acc: 0.6301 - val_loss: 0.7100 - val_acc: 0.7408\n",
            "Epoch 3/5\n",
            "24/24 [==============================] - 6s 258ms/step - loss: 0.5888 - acc: 0.8256 - val_loss: 0.5832 - val_acc: 0.8155\n",
            "Epoch 4/5\n",
            "24/24 [==============================] - 7s 297ms/step - loss: 0.4296 - acc: 0.8774 - val_loss: 0.5655 - val_acc: 0.8081\n",
            "Epoch 5/5\n",
            "24/24 [==============================] - 6s 258ms/step - loss: 0.3422 - acc: 0.9075 - val_loss: 0.5884 - val_acc: 0.8021\n",
            "Epoch 5: early stopping\n"
          ]
        }
      ],
      "source": [
        "history5 = model5.fit(train_padded, y_train, validation_data = (test_padded, y_test),\n",
        "          batch_size = 256, epochs = 5, callbacks=[es])"
      ]
    },
    {
      "cell_type": "code",
      "execution_count": 87,
      "metadata": {
        "id": "ns_CMo2AGqV7"
      },
      "outputs": [],
      "source": [
        "import matplotlib.pyplot as plt"
      ]
    },
    {
      "cell_type": "code",
      "execution_count": null,
      "metadata": {
        "colab": {
          "base_uri": "https://localhost:8080/",
          "height": 927
        },
        "id": "tVnDf3VUFgH1",
        "outputId": "476c0647-e2cc-4ca9-b405-0b4cc9846c81"
      },
      "outputs": [
        {
          "data": {
            "image/png": "[encoded data removed]",
            "text/plain": [
              "<Figure size 640x480 with 1 Axes>"
            ]
          },
          "metadata": {},
          "output_type": "display_data"
        },
        {
          "data": {
            "image/png": "[encoded data removed]",
            "text/plain": [
              "<Figure size 640x480 with 1 Axes>"
            ]
          },
          "metadata": {},
          "output_type": "display_data"
        }
      ],
      "source": [
        "# summarize history for accuracy\n",
        "plt.plot(history4.history['acc'])\n",
        "plt.plot(history4.history['val_acc'])\n",
        "plt.title('Train vs Test Accuracy')\n",
        "plt.ylabel('Accuracy')\n",
        "plt.xlabel('Epoch')\n",
        "plt.legend(['Train', 'Test'], loc='upper left')\n",
        "plt.show()\n",
        "# summarize history for loss\n",
        "plt.plot(history4.history['loss'])\n",
        "plt.plot(history4.history['val_loss'])\n",
        "plt.title('Train vs Test Loss')\n",
        "plt.ylabel('Loss')\n",
        "plt.xlabel('Epoch')\n",
        "plt.legend(['Train', 'Test'], loc='upper left')\n",
        "plt.show()"
      ]
    },
    {
      "cell_type": "markdown",
      "metadata": {
        "id": "PsBgN9MgO9iU"
      },
      "source": [
        "### Word2Vec"
      ]
    },
    {
      "cell_type": "code",
      "execution_count": 79,
      "metadata": {
        "id": "T1IP0s2SPM2Z"
      },
      "outputs": [],
      "source": [
        "import gensim\n",
        "from gensim.models import Word2Vec"
      ]
    },
    {
      "cell_type": "code",
      "execution_count": 80,
      "metadata": {
        "colab": {
          "base_uri": "https://localhost:8080/"
        },
        "id": "70-znnTrOn68",
        "outputId": "efe539e2-82f4-4670-f383-b11b424bf48d"
      },
      "outputs": [
        {
          "data": {
            "text/plain": [
              "pandas.core.frame.DataFrame"
            ]
          },
          "execution_count": 80,
          "metadata": {},
          "output_type": "execute_result"
        }
      ],
      "source": [
        "type(X)"
      ]
    },
    {
      "cell_type": "code",
      "execution_count": 81,
      "metadata": {
        "id": "SzUWqBPBP6h0"
      },
      "outputs": [],
      "source": [
        "tweets_w2v = []\n",
        "\n",
        "for index, row in X.iterrows():\n",
        "\n",
        "  token_list = [x for x in row['text'].split() if x not in stopwords.words('english')]\n",
        "\n",
        "  tweets_w2v.append(token_list)\n",
        "#tweets_w2v"
      ]
    },
    {
      "cell_type": "code",
      "execution_count": 82,
      "metadata": {
        "id": "xr93-jBNHJw4"
      },
      "outputs": [],
      "source": [
        "w2v = gensim.models.Word2Vec(tweets_w2v, min_count = 1,vector_size = 200, window = 5,  min_alpha = 0.025)"
      ]
    },
    {
      "cell_type": "code",
      "execution_count": 83,
      "metadata": {
        "id": "Z16iBbKVP7Q_"
      },
      "outputs": [],
      "source": [
        "vocabulary = list(w2v.wv.key_to_index)\n",
        "\n",
        "def vectorize(text_):\n",
        "    words = text_\n",
        "    words_vecs = [w2v.wv[word] for word in words if word in vocabulary]\n",
        "    if len(words_vecs) == 0:\n",
        "        return np.zeros(100)\n",
        "    words_vecs = np.array(words_vecs)\n",
        "    return words_vecs.mean(axis=0)\n",
        "Xn_w2v = np.array([vectorize(text_) for text_ in tweets_w2v])"
      ]
    },
    {
      "cell_type": "code",
      "execution_count": null,
      "metadata": {
        "colab": {
          "base_uri": "https://localhost:8080/"
        },
        "id": "GIQ0r41PO6a2",
        "outputId": "ca3bd76a-6c18-4fe6-d22f-e9b32b464f16"
      },
      "outputs": [
        {
          "data": {
            "text/plain": [
              "(663381, 666120)"
            ]
          },
          "execution_count": 45,
          "metadata": {},
          "output_type": "execute_result"
        }
      ],
      "source": [
        "w2v.train(tweets_w2v, total_examples=len(tweets_w2v), epochs=10)"
      ]
    },
    {
      "cell_type": "code",
      "execution_count": null,
      "metadata": {
        "colab": {
          "base_uri": "https://localhost:8080/"
        },
        "id": "-3PGSJ1vYvo5",
        "outputId": "621f1210-f1e3-4cd8-ad28-d05150df83ed"
      },
      "outputs": [
        {
          "data": {
            "text/plain": [
              "[('tak', 0.9751924872398376),\n",
              " ('#emmerdale', 0.9748029112815857),\n",
              " ('opportunity', 0.9740111827850342),\n",
              " ('porridge', 0.9727528691291809),\n",
              " ('rioting', 0.9724295735359192)]"
            ]
          },
          "execution_count": 46,
          "metadata": {},
          "output_type": "execute_result"
        }
      ],
      "source": [
        "w1 = \"shot\"\n",
        "w2v.wv.most_similar(positive = w1, topn=5)"
      ]
    },
    {
      "cell_type": "code",
      "execution_count": 89,
      "metadata": {
        "colab": {
          "base_uri": "https://localhost:8080/"
        },
        "id": "ELM2806WaVAe",
        "outputId": "688e3c87-740d-4bc9-ef43-e187a930a5fc"
      },
      "outputs": [
        {
          "name": "stdout",
          "output_type": "stream",
          "text": [
            "Model: \"sequential_5\"\n",
            "_________________________________________________________________\n",
            " Layer (type)                Output Shape              Param #   \n",
            "=================================================================\n",
            " embedding_5 (Embedding)     (None, 200, 64)           480256    \n",
            "                                                                 \n",
            " bidirectional_7 (Bidirecti  (None, 32)                7872      \n",
            " onal)                                                           \n",
            "                                                                 \n",
            " dense_8 (Dense)             (None, 8)                 264       \n",
            "                                                                 \n",
            " flatten_1 (Flatten)         (None, 8)                 0         \n",
            "                                                                 \n",
            " dense_9 (Dense)             (None, 1)                 9         \n",
            "                                                                 \n",
            "=================================================================\n",
            "Total params: 488401 (1.86 MB)\n",
            "Trainable params: 488401 (1.86 MB)\n",
            "Non-trainable params: 0 (0.00 Byte)\n",
            "_________________________________________________________________\n"
          ]
        }
      ],
      "source": [
        "model6 = Sequential()\n",
        "model6.add(Embedding(len(tweets_w2v)+1, embedding_dim, input_length = max_length))\n",
        "model6.add(Bidirectional(tf.keras.layers.GRU(16)))\n",
        "model6.add(Dense(8, activation = 'relu', kernel_regularizer=tf.keras.regularizers.L2(0.01)))\n",
        "model6.add(Flatten())\n",
        "model6.add(Dense(1, activation = 'sigmoid'))\n",
        "\n",
        "model6.summary()"
      ]
    },
    {
      "cell_type": "code",
      "execution_count": 94,
      "metadata": {
        "id": "MbDyiGH9b85i"
      },
      "outputs": [],
      "source": [
        "model6.compile(loss = 'binary_crossentropy', optimizer = 'adam', metrics = ['acc',f1_m,precision_m, recall_m, specificity_m])"
      ]
    },
    {
      "cell_type": "code",
      "execution_count": 95,
      "metadata": {
        "colab": {
          "base_uri": "https://localhost:8080/"
        },
        "id": "b2JW0A0BhlCf",
        "outputId": "0e6b6813-e502-4a21-e43d-6f69f0223088"
      },
      "outputs": [
        {
          "name": "stdout",
          "output_type": "stream",
          "text": [
            "Epoch 1/5\n",
            "24/24 [==============================] - 17s 502ms/step - loss: 0.8085 - acc: 0.5746 - f1_m: 0.0091 - precision_m: 0.0652 - recall_m: 0.0053 - specificity_m: 0.9970 - val_loss: 0.7874 - val_acc: 0.5736 - val_f1_m: 0.0000e+00 - val_precision_m: 0.0000e+00 - val_recall_m: 0.0000e+00 - val_specificity_m: 1.0000\n",
            "Epoch 2/5\n",
            "24/24 [==============================] - 15s 649ms/step - loss: 0.7653 - acc: 0.5750 - f1_m: 0.0064 - precision_m: 0.1667 - recall_m: 0.0033 - specificity_m: 1.0000 - val_loss: 0.7371 - val_acc: 0.5963 - val_f1_m: 0.0983 - val_precision_m: 1.0000 - val_recall_m: 0.0523 - val_specificity_m: 1.0000\n",
            "Epoch 3/5\n",
            "24/24 [==============================] - 11s 449ms/step - loss: 0.6739 - acc: 0.7001 - f1_m: 0.4531 - precision_m: 0.9668 - recall_m: 0.3227 - specificity_m: 0.9879 - val_loss: 0.6067 - val_acc: 0.7895 - val_f1_m: 0.6930 - val_precision_m: 0.9056 - val_recall_m: 0.5633 - val_specificity_m: 0.9580\n",
            "Epoch 4/5\n",
            "24/24 [==============================] - 15s 643ms/step - loss: 0.5032 - acc: 0.8434 - f1_m: 0.7949 - precision_m: 0.8951 - recall_m: 0.7205 - specificity_m: 0.9333 - val_loss: 0.5208 - val_acc: 0.8201 - val_f1_m: 0.7711 - val_precision_m: 0.8344 - val_recall_m: 0.7172 - val_specificity_m: 0.8958\n",
            "Epoch 5/5\n",
            "24/24 [==============================] - 9s 374ms/step - loss: 0.3973 - acc: 0.8784 - f1_m: 0.8506 - precision_m: 0.8825 - recall_m: 0.8228 - specificity_m: 0.9182 - val_loss: 0.5211 - val_acc: 0.8068 - val_f1_m: 0.7585 - val_precision_m: 0.8068 - val_recall_m: 0.7159 - val_specificity_m: 0.8736\n",
            "Epoch 5: early stopping\n"
          ]
        }
      ],
      "source": [
        "history6 = model6.fit(train_padded, y_train, validation_data = (test_padded, y_test),\n",
        "          batch_size = 256, epochs = 5, callbacks=[es])"
      ]
    },
    {
      "cell_type": "code",
      "execution_count": 96,
      "metadata": {
        "id": "OLnieVErh4e3"
      },
      "outputs": [],
      "source": [
        "loss6, accuracy6, f1_score6, precision6, recall6, specificity6 = model6.evaluate(test_padded, y_test, verbose=0)"
      ]
    },
    {
      "cell_type": "code",
      "execution_count": 98,
      "metadata": {
        "colab": {
          "base_uri": "https://localhost:8080/",
          "height": 115
        },
        "id": "Pie6A3l5iRxO",
        "outputId": "c07b045b-7d4d-4027-f70c-558f7341fef4"
      },
      "outputs": [
        {
          "data": {
            "text/html": [
              "\n",
              "  <div id=\"df-8d8b8e7b-01ca-495b-ae5f-d5a956b12e7e\" class=\"colab-df-container\">\n",
              "    <div>\n",
              "<style scoped>\n",
              "    .dataframe tbody tr th:only-of-type {\n",
              "        vertical-align: middle;\n",
              "    }\n",
              "\n",
              "    .dataframe tbody tr th {\n",
              "        vertical-align: top;\n",
              "    }\n",
              "\n",
              "    .dataframe thead th {\n",
              "        text-align: right;\n",
              "    }\n",
              "</style>\n",
              "<table border=\"1\" class=\"dataframe\">\n",
              "  <thead>\n",
              "    <tr style=\"text-align: right;\">\n",
              "      <th></th>\n",
              "      <th>Model</th>\n",
              "      <th>Loss</th>\n",
              "      <th>Accuracy</th>\n",
              "      <th>Sensitivity</th>\n",
              "      <th>Specificity</th>\n",
              "      <th>Precision</th>\n",
              "      <th>F1 Score</th>\n",
              "    </tr>\n",
              "  </thead>\n",
              "  <tbody>\n",
              "    <tr>\n",
              "      <th>0</th>\n",
              "      <td>Sequential, Word2Vec, EarlyStopping</td>\n",
              "      <td>0.52</td>\n",
              "      <td>0.81</td>\n",
              "      <td>0.71</td>\n",
              "      <td>0.87</td>\n",
              "      <td>0.81</td>\n",
              "      <td>0.75</td>\n",
              "    </tr>\n",
              "  </tbody>\n",
              "</table>\n",
              "</div>\n",
              "    <div class=\"colab-df-buttons\">\n",
              "\n",
              "  <div class=\"colab-df-container\">\n",
              "    <button class=\"colab-df-convert\" onclick=\"convertToInteractive('df-8d8b8e7b-01ca-495b-ae5f-d5a956b12e7e')\"\n",
              "            title=\"Convert this dataframe to an interactive table.\"\n",
              "            style=\"display:none;\">\n",
              "\n",
              "  <svg xmlns=\"http://www.w3.org/2000/svg\" height=\"24px\" viewBox=\"0 -960 960 960\">\n",
              "    <path d=\"M120-120v-720h720v720H120Zm60-500h600v-160H180v160Zm220 220h160v-160H400v160Zm0 220h160v-160H400v160ZM180-400h160v-160H180v160Zm440 0h160v-160H620v160ZM180-180h160v-160H180v160Zm440 0h160v-160H620v160Z\"/>\n",
              "  </svg>\n",
              "    </button>\n",
              "\n",
              "  <style>\n",
              "    .colab-df-container {\n",
              "      display:flex;\n",
              "      gap: 12px;\n",
              "    }\n",
              "\n",
              "    .colab-df-convert {\n",
              "      background-color: #E8F0FE;\n",
              "      border: none;\n",
              "      border-radius: 50%;\n",
              "      cursor: pointer;\n",
              "      display: none;\n",
              "      fill: #1967D2;\n",
              "      height: 32px;\n",
              "      padding: 0 0 0 0;\n",
              "      width: 32px;\n",
              "    }\n",
              "\n",
              "    .colab-df-convert:hover {\n",
              "      background-color: #E2EBFA;\n",
              "      box-shadow: 0px 1px 2px rgba(60, 64, 67, 0.3), 0px 1px 3px 1px rgba(60, 64, 67, 0.15);\n",
              "      fill: #174EA6;\n",
              "    }\n",
              "\n",
              "    .colab-df-buttons div {\n",
              "      margin-bottom: 4px;\n",
              "    }\n",
              "\n",
              "    [theme=dark] .colab-df-convert {\n",
              "      background-color: #3B4455;\n",
              "      fill: #D2E3FC;\n",
              "    }\n",
              "\n",
              "    [theme=dark] .colab-df-convert:hover {\n",
              "      background-color: #434B5C;\n",
              "      box-shadow: 0px 1px 3px 1px rgba(0, 0, 0, 0.15);\n",
              "      filter: drop-shadow(0px 1px 2px rgba(0, 0, 0, 0.3));\n",
              "      fill: #FFFFFF;\n",
              "    }\n",
              "  </style>\n",
              "\n",
              "    <script>\n",
              "      const buttonEl =\n",
              "        document.querySelector('#df-8d8b8e7b-01ca-495b-ae5f-d5a956b12e7e button.colab-df-convert');\n",
              "      buttonEl.style.display =\n",
              "        google.colab.kernel.accessAllowed ? 'block' : 'none';\n",
              "\n",
              "      async function convertToInteractive(key) {\n",
              "        const element = document.querySelector('#df-8d8b8e7b-01ca-495b-ae5f-d5a956b12e7e');\n",
              "        const dataTable =\n",
              "          await google.colab.kernel.invokeFunction('convertToInteractive',\n",
              "                                                    [key], {});\n",
              "        if (!dataTable) return;\n",
              "\n",
              "        const docLinkHtml = 'Like what you see? Visit the ' +\n",
              "          '<a target=\"_blank\" href=https://colab.research.google.com/notebooks/data_table.ipynb>data table notebook</a>'\n",
              "          + ' to learn more about interactive tables.';\n",
              "        element.innerHTML = '';\n",
              "        dataTable['output_type'] = 'display_data';\n",
              "        await google.colab.output.renderOutput(dataTable, element);\n",
              "        const docLink = document.createElement('div');\n",
              "        docLink.innerHTML = docLinkHtml;\n",
              "        element.appendChild(docLink);\n",
              "      }\n",
              "    </script>\n",
              "  </div>\n",
              "\n",
              "    </div>\n",
              "  </div>\n"
            ],
            "text/plain": [
              "                                 Model  Loss  Accuracy  Sensitivity  \\\n",
              "0  Sequential, Word2Vec, EarlyStopping  0.52      0.81         0.71   \n",
              "\n",
              "   Specificity  Precision  F1 Score  \n",
              "0         0.87       0.81      0.75  "
            ]
          },
          "execution_count": 98,
          "metadata": {},
          "output_type": "execute_result"
        }
      ],
      "source": [
        "  df6 = pd.DataFrame(\n",
        "        {'Model' : \"Sequential, Word2Vec, EarlyStopping\",\n",
        "         'Loss': round(loss6,2),\n",
        "        'Accuracy': round(accuracy6,2),\n",
        "         'Sensitivity': round(recall6,2),\n",
        "         'Specificity': round(specificity6,2),\n",
        "         'Precision' : round(precision6,2),\n",
        "         'F1 Score' : round(f1_score6,2)\n",
        "        },index=[0]\n",
        "    )\n",
        "df6"
      ]
    },
    {
      "cell_type": "code",
      "execution_count": 100,
      "metadata": {
        "colab": {
          "base_uri": "https://localhost:8080/",
          "height": 225
        },
        "id": "r5FOe0aEiX56",
        "outputId": "01f2e98e-e8cf-4029-f733-be0df28ad02f"
      },
      "outputs": [
        {
          "data": {
            "text/html": [
              "\n",
              "  <div id=\"df-dd69be59-9b91-41c9-a4f1-adef6b9db9d6\" class=\"colab-df-container\">\n",
              "    <div>\n",
              "<style scoped>\n",
              "    .dataframe tbody tr th:only-of-type {\n",
              "        vertical-align: middle;\n",
              "    }\n",
              "\n",
              "    .dataframe tbody tr th {\n",
              "        vertical-align: top;\n",
              "    }\n",
              "\n",
              "    .dataframe thead th {\n",
              "        text-align: right;\n",
              "    }\n",
              "</style>\n",
              "<table border=\"1\" class=\"dataframe\">\n",
              "  <thead>\n",
              "    <tr style=\"text-align: right;\">\n",
              "      <th></th>\n",
              "      <th>Model</th>\n",
              "      <th>Loss</th>\n",
              "      <th>Accuracy</th>\n",
              "      <th>Sensitivity</th>\n",
              "      <th>Specificity</th>\n",
              "      <th>Precision</th>\n",
              "      <th>F1 Score</th>\n",
              "    </tr>\n",
              "  </thead>\n",
              "  <tbody>\n",
              "    <tr>\n",
              "      <th>0</th>\n",
              "      <td>Sequential, Bidirectional, LSTM</td>\n",
              "      <td>0.97</td>\n",
              "      <td>0.76</td>\n",
              "      <td>0.72</td>\n",
              "      <td>0.78</td>\n",
              "      <td>0.71</td>\n",
              "      <td>0.71</td>\n",
              "    </tr>\n",
              "    <tr>\n",
              "      <th>1</th>\n",
              "      <td>Sequential, Bidirectional, GRU</td>\n",
              "      <td>0.50</td>\n",
              "      <td>0.80</td>\n",
              "      <td>0.71</td>\n",
              "      <td>0.86</td>\n",
              "      <td>0.79</td>\n",
              "      <td>0.74</td>\n",
              "    </tr>\n",
              "    <tr>\n",
              "      <th>2</th>\n",
              "      <td>Sequential, Bidirectional, GRU, Regularization</td>\n",
              "      <td>0.51</td>\n",
              "      <td>0.81</td>\n",
              "      <td>0.73</td>\n",
              "      <td>0.87</td>\n",
              "      <td>0.80</td>\n",
              "      <td>0.76</td>\n",
              "    </tr>\n",
              "    <tr>\n",
              "      <th>3</th>\n",
              "      <td>Sequential, Word2Vec, EarlyStopping</td>\n",
              "      <td>0.52</td>\n",
              "      <td>0.81</td>\n",
              "      <td>0.71</td>\n",
              "      <td>0.87</td>\n",
              "      <td>0.81</td>\n",
              "      <td>0.75</td>\n",
              "    </tr>\n",
              "  </tbody>\n",
              "</table>\n",
              "</div>\n",
              "    <div class=\"colab-df-buttons\">\n",
              "\n",
              "  <div class=\"colab-df-container\">\n",
              "    <button class=\"colab-df-convert\" onclick=\"convertToInteractive('df-dd69be59-9b91-41c9-a4f1-adef6b9db9d6')\"\n",
              "            title=\"Convert this dataframe to an interactive table.\"\n",
              "            style=\"display:none;\">\n",
              "\n",
              "  <svg xmlns=\"http://www.w3.org/2000/svg\" height=\"24px\" viewBox=\"0 -960 960 960\">\n",
              "    <path d=\"M120-120v-720h720v720H120Zm60-500h600v-160H180v160Zm220 220h160v-160H400v160Zm0 220h160v-160H400v160ZM180-400h160v-160H180v160Zm440 0h160v-160H620v160ZM180-180h160v-160H180v160Zm440 0h160v-160H620v160Z\"/>\n",
              "  </svg>\n",
              "    </button>\n",
              "\n",
              "  <style>\n",
              "    .colab-df-container {\n",
              "      display:flex;\n",
              "      gap: 12px;\n",
              "    }\n",
              "\n",
              "    .colab-df-convert {\n",
              "      background-color: #E8F0FE;\n",
              "      border: none;\n",
              "      border-radius: 50%;\n",
              "      cursor: pointer;\n",
              "      display: none;\n",
              "      fill: #1967D2;\n",
              "      height: 32px;\n",
              "      padding: 0 0 0 0;\n",
              "      width: 32px;\n",
              "    }\n",
              "\n",
              "    .colab-df-convert:hover {\n",
              "      background-color: #E2EBFA;\n",
              "      box-shadow: 0px 1px 2px rgba(60, 64, 67, 0.3), 0px 1px 3px 1px rgba(60, 64, 67, 0.15);\n",
              "      fill: #174EA6;\n",
              "    }\n",
              "\n",
              "    .colab-df-buttons div {\n",
              "      margin-bottom: 4px;\n",
              "    }\n",
              "\n",
              "    [theme=dark] .colab-df-convert {\n",
              "      background-color: #3B4455;\n",
              "      fill: #D2E3FC;\n",
              "    }\n",
              "\n",
              "    [theme=dark] .colab-df-convert:hover {\n",
              "      background-color: #434B5C;\n",
              "      box-shadow: 0px 1px 3px 1px rgba(0, 0, 0, 0.15);\n",
              "      filter: drop-shadow(0px 1px 2px rgba(0, 0, 0, 0.3));\n",
              "      fill: #FFFFFF;\n",
              "    }\n",
              "  </style>\n",
              "\n",
              "    <script>\n",
              "      const buttonEl =\n",
              "        document.querySelector('#df-dd69be59-9b91-41c9-a4f1-adef6b9db9d6 button.colab-df-convert');\n",
              "      buttonEl.style.display =\n",
              "        google.colab.kernel.accessAllowed ? 'block' : 'none';\n",
              "\n",
              "      async function convertToInteractive(key) {\n",
              "        const element = document.querySelector('#df-dd69be59-9b91-41c9-a4f1-adef6b9db9d6');\n",
              "        const dataTable =\n",
              "          await google.colab.kernel.invokeFunction('convertToInteractive',\n",
              "                                                    [key], {});\n",
              "        if (!dataTable) return;\n",
              "\n",
              "        const docLinkHtml = 'Like what you see? Visit the ' +\n",
              "          '<a target=\"_blank\" href=https://colab.research.google.com/notebooks/data_table.ipynb>data table notebook</a>'\n",
              "          + ' to learn more about interactive tables.';\n",
              "        element.innerHTML = '';\n",
              "        dataTable['output_type'] = 'display_data';\n",
              "        await google.colab.output.renderOutput(dataTable, element);\n",
              "        const docLink = document.createElement('div');\n",
              "        docLink.innerHTML = docLinkHtml;\n",
              "        element.appendChild(docLink);\n",
              "      }\n",
              "    </script>\n",
              "  </div>\n",
              "\n",
              "\n",
              "<div id=\"df-84f69189-8f26-4562-a483-3f4aca09b6fe\">\n",
              "  <button class=\"colab-df-quickchart\" onclick=\"quickchart('df-84f69189-8f26-4562-a483-3f4aca09b6fe')\"\n",
              "            title=\"Suggest charts.\"\n",
              "            style=\"display:none;\">\n",
              "\n",
              "<svg xmlns=\"http://www.w3.org/2000/svg\" height=\"24px\"viewBox=\"0 0 24 24\"\n",
              "     width=\"24px\">\n",
              "    <g>\n",
              "        <path d=\"M19 3H5c-1.1 0-2 .9-2 2v14c0 1.1.9 2 2 2h14c1.1 0 2-.9 2-2V5c0-1.1-.9-2-2-2zM9 17H7v-7h2v7zm4 0h-2V7h2v10zm4 0h-2v-4h2v4z\"/>\n",
              "    </g>\n",
              "</svg>\n",
              "  </button>\n",
              "\n",
              "<style>\n",
              "  .colab-df-quickchart {\n",
              "      --bg-color: #E8F0FE;\n",
              "      --fill-color: #1967D2;\n",
              "      --hover-bg-color: #E2EBFA;\n",
              "      --hover-fill-color: #174EA6;\n",
              "      --disabled-fill-color: #AAA;\n",
              "      --disabled-bg-color: #DDD;\n",
              "  }\n",
              "\n",
              "  [theme=dark] .colab-df-quickchart {\n",
              "      --bg-color: #3B4455;\n",
              "      --fill-color: #D2E3FC;\n",
              "      --hover-bg-color: #434B5C;\n",
              "      --hover-fill-color: #FFFFFF;\n",
              "      --disabled-bg-color: #3B4455;\n",
              "      --disabled-fill-color: #666;\n",
              "  }\n",
              "\n",
              "  .colab-df-quickchart {\n",
              "    background-color: var(--bg-color);\n",
              "    border: none;\n",
              "    border-radius: 50%;\n",
              "    cursor: pointer;\n",
              "    display: none;\n",
              "    fill: var(--fill-color);\n",
              "    height: 32px;\n",
              "    padding: 0;\n",
              "    width: 32px;\n",
              "  }\n",
              "\n",
              "  .colab-df-quickchart:hover {\n",
              "    background-color: var(--hover-bg-color);\n",
              "    box-shadow: 0 1px 2px rgba(60, 64, 67, 0.3), 0 1px 3px 1px rgba(60, 64, 67, 0.15);\n",
              "    fill: var(--button-hover-fill-color);\n",
              "  }\n",
              "\n",
              "  .colab-df-quickchart-complete:disabled,\n",
              "  .colab-df-quickchart-complete:disabled:hover {\n",
              "    background-color: var(--disabled-bg-color);\n",
              "    fill: var(--disabled-fill-color);\n",
              "    box-shadow: none;\n",
              "  }\n",
              "\n",
              "  .colab-df-spinner {\n",
              "    border: 2px solid var(--fill-color);\n",
              "    border-color: transparent;\n",
              "    border-bottom-color: var(--fill-color);\n",
              "    animation:\n",
              "      spin 1s steps(1) infinite;\n",
              "  }\n",
              "\n",
              "  @keyframes spin {\n",
              "    0% {\n",
              "      border-color: transparent;\n",
              "      border-bottom-color: var(--fill-color);\n",
              "      border-left-color: var(--fill-color);\n",
              "    }\n",
              "    20% {\n",
              "      border-color: transparent;\n",
              "      border-left-color: var(--fill-color);\n",
              "      border-top-color: var(--fill-color);\n",
              "    }\n",
              "    30% {\n",
              "      border-color: transparent;\n",
              "      border-left-color: var(--fill-color);\n",
              "      border-top-color: var(--fill-color);\n",
              "      border-right-color: var(--fill-color);\n",
              "    }\n",
              "    40% {\n",
              "      border-color: transparent;\n",
              "      border-right-color: var(--fill-color);\n",
              "      border-top-color: var(--fill-color);\n",
              "    }\n",
              "    60% {\n",
              "      border-color: transparent;\n",
              "      border-right-color: var(--fill-color);\n",
              "    }\n",
              "    80% {\n",
              "      border-color: transparent;\n",
              "      border-right-color: var(--fill-color);\n",
              "      border-bottom-color: var(--fill-color);\n",
              "    }\n",
              "    90% {\n",
              "      border-color: transparent;\n",
              "      border-bottom-color: var(--fill-color);\n",
              "    }\n",
              "  }\n",
              "</style>\n",
              "\n",
              "  <script>\n",
              "    async function quickchart(key) {\n",
              "      const quickchartButtonEl =\n",
              "        document.querySelector('#' + key + ' button');\n",
              "      quickchartButtonEl.disabled = true;  // To prevent multiple clicks.\n",
              "      quickchartButtonEl.classList.add('colab-df-spinner');\n",
              "      try {\n",
              "        const charts = await google.colab.kernel.invokeFunction(\n",
              "            'suggestCharts', [key], {});\n",
              "      } catch (error) {\n",
              "        console.error('Error during call to suggestCharts:', error);\n",
              "      }\n",
              "      quickchartButtonEl.classList.remove('colab-df-spinner');\n",
              "      quickchartButtonEl.classList.add('colab-df-quickchart-complete');\n",
              "    }\n",
              "    (() => {\n",
              "      let quickchartButtonEl =\n",
              "        document.querySelector('#df-84f69189-8f26-4562-a483-3f4aca09b6fe button');\n",
              "      quickchartButtonEl.style.display =\n",
              "        google.colab.kernel.accessAllowed ? 'block' : 'none';\n",
              "    })();\n",
              "  </script>\n",
              "</div>\n",
              "    </div>\n",
              "  </div>\n"
            ],
            "text/plain": [
              "                                            Model  Loss  Accuracy  \\\n",
              "0                 Sequential, Bidirectional, LSTM  0.97      0.76   \n",
              "1                  Sequential, Bidirectional, GRU  0.50      0.80   \n",
              "2  Sequential, Bidirectional, GRU, Regularization  0.51      0.81   \n",
              "3             Sequential, Word2Vec, EarlyStopping  0.52      0.81   \n",
              "\n",
              "   Sensitivity  Specificity  Precision  F1 Score  \n",
              "0         0.72         0.78       0.71      0.71  \n",
              "1         0.71         0.86       0.79      0.74  \n",
              "2         0.73         0.87       0.80      0.76  \n",
              "3         0.71         0.87       0.81      0.75  "
            ]
          },
          "execution_count": 100,
          "metadata": {},
          "output_type": "execute_result"
        }
      ],
      "source": [
        "Comparison = pd.concat([df, df3, df4, df6],ignore_index=True)\n",
        "Comparison"
      ]
    },
    {
      "cell_type": "code",
      "execution_count": 101,
      "metadata": {
        "colab": {
          "base_uri": "https://localhost:8080/",
          "height": 927
        },
        "id": "GF2eobpmcjg9",
        "outputId": "fe18c562-53c4-4981-fdd1-2309d62f34f3"
      },
      "outputs": [
        {
          "data": {
            "image/png": "[encoded data removed]",
            "text/plain": [
              "<Figure size 640x480 with 1 Axes>"
            ]
          },
          "metadata": {},
          "output_type": "display_data"
        },
        {
          "data": {
            "image/png": "[encoded data removed]",
            "text/plain": [
              "<Figure size 640x480 with 1 Axes>"
            ]
          },
          "metadata": {},
          "output_type": "display_data"
        }
      ],
      "source": [
        "# summarize history for accuracy\n",
        "plt.plot(history6.history['acc'])\n",
        "plt.plot(history6.history['val_acc'])\n",
        "plt.title('Train vs Test Accuracy')\n",
        "plt.ylabel('Accuracy')\n",
        "plt.xlabel('Epoch')\n",
        "plt.legend(['Train', 'Test'], loc='upper left')\n",
        "plt.show()\n",
        "# summarize history for loss\n",
        "plt.plot(history6.history['loss'])\n",
        "plt.plot(history6.history['val_loss'])\n",
        "plt.title('Train vs Test Loss')\n",
        "plt.ylabel('Loss')\n",
        "plt.xlabel('Epoch')\n",
        "plt.legend(['Train', 'Test'], loc='upper left')\n",
        "plt.show()"
      ]
    },
    {
      "cell_type": "code",
      "execution_count": null,
      "metadata": {
        "id": "JBVaRwu8BegM"
      },
      "outputs": [],
      "source": [
        "import pickle"
      ]
    },
    {
      "cell_type": "code",
      "execution_count": null,
      "metadata": {
        "id": "RH6jyrXfBgcw"
      },
      "outputs": [],
      "source": [
        "with open('X_test.pkl', 'rb') as f:\n",
        "    X_test_in_model = pickle.load(f)"
      ]
    },
    {
      "cell_type": "markdown",
      "metadata": {
        "id": "WSCy7ca0cOPt"
      },
      "source": [
        "### Glove"
      ]
    },
    {
      "cell_type": "code",
      "execution_count": null,
      "metadata": {
        "id": "rBgZ1zPzN47l"
      },
      "outputs": [],
      "source": [
        "embedding_matrix_vocab = np.zeros(((vocab_size+1),embedding_dim))\n",
        "embeddings_index = {}\n",
        "file = \"glove.twitter.27B.200d.txt\"\n",
        "for line in file:\n",
        "    values = line.split()\n",
        "    word = values[0]\n",
        "    coefs = np.asarray(values[1:], dtype='float32')\n",
        "    embeddings_index[word] = coefs\n",
        "##https://www.geeksforgeeks.org/pre-trained-word-embedding-using-glove-in-nlp-models/"
      ]
    },
    {
      "cell_type": "code",
      "execution_count": null,
      "metadata": {
        "colab": {
          "base_uri": "https://localhost:8080/"
        },
        "id": "fNOsCv-3wyoR",
        "outputId": "fa4822ec-5ec9-4ab5-86f3-eeca4eb7e79e"
      },
      "outputs": [
        {
          "name": "stdout",
          "output_type": "stream",
          "text": [
            "Model: \"sequential_10\"\n",
            "_________________________________________________________________\n",
            " Layer (type)                Output Shape              Param #   \n",
            "=================================================================\n",
            " embedding_10 (Embedding)    (None, 200, 64)           320064    \n",
            "                                                                 \n",
            " bidirectional_11 (Bidirect  (None, 32)                7872      \n",
            " ional)                                                          \n",
            "                                                                 \n",
            " dense_17 (Dense)            (None, 8)                 264       \n",
            "                                                                 \n",
            " flatten_4 (Flatten)         (None, 8)                 0         \n",
            "                                                                 \n",
            " dense_18 (Dense)            (None, 1)                 9         \n",
            "                                                                 \n",
            "=================================================================\n",
            "Total params: 328209 (1.25 MB)\n",
            "Trainable params: 328209 (1.25 MB)\n",
            "Non-trainable params: 0 (0.00 Byte)\n",
            "_________________________________________________________________\n"
          ]
        }
      ],
      "source": [
        "model7 = Sequential()\n",
        "model7.add(Embedding((vocab_size+1), embedding_dim, input_length = max_length))\n",
        "model7.add(Bidirectional(tf.keras.layers.GRU(16)))\n",
        "model7.add(Dense(8, activation = 'relu', kernel_regularizer=tf.keras.regularizers.L2(0.01)))\n",
        "model7.add(Flatten())\n",
        "model7.add(Dense(1, activation = 'sigmoid'))\n",
        "\n",
        "model7.summary()"
      ]
    },
    {
      "cell_type": "code",
      "execution_count": null,
      "metadata": {
        "id": "OSbGrVP0yAWb"
      },
      "outputs": [],
      "source": [
        "model7.compile(loss = 'binary_crossentropy', optimizer = 'adam', metrics = ['acc'] )"
      ]
    },
    {
      "cell_type": "code",
      "execution_count": null,
      "metadata": {
        "colab": {
          "base_uri": "https://localhost:8080/"
        },
        "id": "UuuzV3lUyDoC",
        "outputId": "d14dadba-d866-4cc9-e153-11a08b07bc54"
      },
      "outputs": [
        {
          "name": "stdout",
          "output_type": "stream",
          "text": [
            "Epoch 1/5\n",
            "24/24 [==============================] - 9s 203ms/step - loss: 0.7992 - acc: 0.5738 - val_loss: 0.7754 - val_acc: 0.5736\n",
            "Epoch 2/5\n",
            "24/24 [==============================] - 4s 158ms/step - loss: 0.7354 - acc: 0.6203 - val_loss: 0.6955 - val_acc: 0.6902\n",
            "Epoch 3/5\n",
            "24/24 [==============================] - 6s 238ms/step - loss: 0.6210 - acc: 0.7697 - val_loss: 0.6152 - val_acc: 0.8001\n",
            "Epoch 4/5\n",
            "24/24 [==============================] - 4s 159ms/step - loss: 0.5117 - acc: 0.8632 - val_loss: 0.5954 - val_acc: 0.8081\n",
            "Epoch 5/5\n",
            "24/24 [==============================] - 4s 159ms/step - loss: 0.4216 - acc: 0.8980 - val_loss: 0.5762 - val_acc: 0.8075\n",
            "Epoch 5: early stopping\n"
          ]
        }
      ],
      "source": [
        "history7 = model7.fit(train_padded, y_train, validation_data = (test_padded, y_test),\n",
        "          batch_size = 256, epochs = 5, callbacks=[es])"
      ]
    },
    {
      "cell_type": "code",
      "execution_count": null,
      "metadata": {
        "colab": {
          "base_uri": "https://localhost:8080/",
          "height": 927
        },
        "id": "gmkX8jIbElQV",
        "outputId": "870acdeb-217c-4c8f-ee80-126af65103c2"
      },
      "outputs": [
        {
          "data": {
            "image/png": "[encoded data removed]",
            "text/plain": [
              "<Figure size 640x480 with 1 Axes>"
            ]
          },
          "metadata": {},
          "output_type": "display_data"
        },
        {
          "data": {
            "image/png": "[encoded data removed]",
            "text/plain": [
              "<Figure size 640x480 with 1 Axes>"
            ]
          },
          "metadata": {},
          "output_type": "display_data"
        }
      ],
      "source": [
        "# summarize history for accuracy\n",
        "plt.plot(history7.history['acc'])\n",
        "plt.plot(history7.history['val_acc'])\n",
        "plt.title('Train vs Test Accuracy')\n",
        "plt.ylabel('Accuracy')\n",
        "plt.xlabel('Epoch')\n",
        "plt.legend(['Train', 'Test'], loc='upper left')\n",
        "plt.show()\n",
        "# summarize history for loss\n",
        "plt.plot(history7.history['loss'])\n",
        "plt.plot(history7.history['val_loss'])\n",
        "plt.title('Train vs Test Loss')\n",
        "plt.ylabel('Loss')\n",
        "plt.xlabel('Epoch')\n",
        "plt.legend(['Train', 'Test'], loc='upper left')\n",
        "plt.show()"
      ]
    },
    {
      "cell_type": "code",
      "execution_count": null,
      "metadata": {
        "id": "YYZLeWuEycxU"
      },
      "outputs": [],
      "source": [
        "model8 = Sequential()\n",
        "model8.add(Embedding((vocab_size+1), embedding_dim, input_length = max_length))\n",
        "model8.add(Bidirectional(tf.keras.layers.GRU(64)))\n",
        "model8.add(Dense(16, activation = 'relu', kernel_regularizer=tf.keras.regularizers.L2(0.01)))\n",
        "model8.add(Flatten())\n",
        "model8.add(Dense(1, activation = 'sigmoid'))"
      ]
    },
    {
      "cell_type": "code",
      "execution_count": null,
      "metadata": {
        "id": "5sf7QnxhzDX4"
      },
      "outputs": [],
      "source": [
        "model8.compile(loss = 'binary_crossentropy', optimizer = 'adam', metrics = ['acc'])"
      ]
    },
    {
      "cell_type": "code",
      "execution_count": null,
      "metadata": {
        "colab": {
          "base_uri": "https://localhost:8080/"
        },
        "id": "fmyweQwLzC-E",
        "outputId": "e10b0300-bceb-4c96-8eef-141dca309291"
      },
      "outputs": [
        {
          "name": "stdout",
          "output_type": "stream",
          "text": [
            "Epoch 1/5\n",
            "24/24 [==============================] - 17s 559ms/step - loss: 0.9180 - acc: 0.5715 - val_loss: 0.8588 - val_acc: 0.5736\n",
            "Epoch 2/5\n",
            "24/24 [==============================] - 14s 583ms/step - loss: 0.7698 - acc: 0.6719 - val_loss: 0.6575 - val_acc: 0.7642\n",
            "Epoch 3/5\n",
            "24/24 [==============================] - 12s 505ms/step - loss: 0.5054 - acc: 0.8399 - val_loss: 0.5536 - val_acc: 0.8001\n",
            "Epoch 4/5\n",
            "24/24 [==============================] - 13s 534ms/step - loss: 0.3765 - acc: 0.8859 - val_loss: 0.5621 - val_acc: 0.8075\n",
            "Epoch 5/5\n",
            "24/24 [==============================] - 14s 569ms/step - loss: 0.2916 - acc: 0.9170 - val_loss: 0.5952 - val_acc: 0.7901\n",
            "Epoch 5: early stopping\n"
          ]
        }
      ],
      "source": [
        "history8 = model8.fit(train_padded, y_train, validation_data = (test_padded, y_test),\n",
        "          batch_size = 256, epochs = 5, callbacks=[es])"
      ]
    },
    {
      "cell_type": "markdown",
      "metadata": {
        "id": "vX7rUegWEWcJ"
      },
      "source": [
        "### Evaluation"
      ]
    },
    {
      "cell_type": "code",
      "execution_count": null,
      "metadata": {
        "id": "OTj7_E1Pv2l3"
      },
      "outputs": [],
      "source": []
    },
    {
      "cell_type": "code",
      "execution_count": null,
      "metadata": {
        "colab": {
          "base_uri": "https://localhost:8080/",
          "height": 1000
        },
        "id": "d6dFVxn3EM1l",
        "outputId": "129a9ec1-4b87-46f3-c183-f625b367cb08"
      },
      "outputs": [
        {
          "name": "stdout",
          "output_type": "stream",
          "text": [
            "47/47 [==============================] - 13s 179ms/step\n",
            "TN: 645\n",
            "FP: 216\n",
            "FN: 142\n",
            "TP: 498\n",
            "Sensitivity: 0.778125\n",
            "Specificity: 0.7491289198606271\n",
            "Validation Accuracy: 0.7614923384410394\n"
          ]
        },
        {
          "data": {
            "image/png": "[encoded data removed]",
            "text/plain": [
              "<Figure size 640x480 with 2 Axes>"
            ]
          },
          "metadata": {},
          "output_type": "display_data"
        },
        {
          "name": "stderr",
          "output_type": "stream",
          "text": [
            "<ipython-input-37-6f0ddcffe7c4>:29: UserWarning: \n",
            "\n",
            "`distplot` is a deprecated function and will be removed in seaborn v0.14.0.\n",
            "\n",
            "Please adapt your code to use either `displot` (a figure-level function with\n",
            "similar flexibility) or `histplot` (an axes-level function for histograms).\n",
            "\n",
            "For a guide to updating your code to use the new functions, please see\n",
            "https://gist.github.com/mwaskom/de44147ed2974457ad6372750bbe5751\n",
            "\n",
            "  sns.distplot(group[1], kde = False, bins = 20, label = f'Actual Outcome = {group[0]}')\n"
          ]
        },
        {
          "data": {
            "image/png": "[encoded data removed]",
            "text/plain": [
              "<Figure size 1200x500 with 1 Axes>"
            ]
          },
          "metadata": {},
          "output_type": "display_data"
        }
      ],
      "source": [
        "def keras_evaluations(model, X_test_in_model, y_test_truth, decision_boundary=0.2):\n",
        "\n",
        "  predict_probs = model.predict(X_test_in_model)\n",
        "\n",
        "  preds = (predict_probs > decision_boundary).astype(int)\n",
        "\n",
        "  conf_matrix = confusion_matrix(y_test_truth, preds)\n",
        "\n",
        "  tn, fp, fn, tp = conf_matrix.ravel()\n",
        "\n",
        "  print(f\"TN: {tn}\\nFP: {fp}\\nFN: {fn}\\nTP: {tp}\")\n",
        "\n",
        "  print(f\"Sensitivity: {tp/(tp+fn)}\\nSpecificity: {tn/(tn + fp)}\\nValidation Accuracy: {(tp+tn)/(tp+tn+fp+fn)}\")\n",
        "\n",
        "  sns.heatmap(conf_matrix, annot=True, fmt='d', cmap='Blues', xticklabels=['Predicted Regular', 'Predicted Disaster'], yticklabels=['Actual Regular', 'Actual Disaster'])\n",
        "  plt.xlabel('Predicted')\n",
        "  plt.ylabel('Actual')\n",
        "  plt.title('Confusion Matrix')\n",
        "  plt.show()\n",
        "\n",
        "  reshaped_probs = [l[0] for l in predict_probs]\n",
        "  reshaped_y_test = [l[0] for l in y_test_truth]\n",
        "\n",
        "  pred_df = pd.DataFrame({'true_values': reshaped_y_test, 'pred_probs': reshaped_probs})\n",
        "\n",
        "  plt.figure(figsize = (12, 5))\n",
        "  # plot distributions of predicted probabilities by actual values\n",
        "  for group in pred_df.groupby('true_values'):\n",
        "    sns.distplot(group[1], kde = False, bins = 20, label = f'Actual Outcome = {group[0]}')\n",
        "\n",
        "  # Add cutoff line\n",
        "  plt.axvline(decision_boundary, color = 'black', linestyle = '--')\n",
        "\n",
        "  plt.xlabel('Predicted Probability that Tweet is regarding a Disaster')\n",
        "  plt.legend();\n",
        "\n",
        "keras_evaluations(model, test_padded, y_test)"
      ]
    },
    {
      "cell_type": "code",
      "execution_count": null,
      "metadata": {
        "id": "kR_Gpiq2yqVI"
      },
      "outputs": [],
      "source": [
        "from sklearn.metrics import confusion_matrix, ConfusionMatrixDisplay, accuracy_score, RocCurveDisplay, roc_auc_score, recall_score, precision_score, f1_score"
      ]
    }
  ],
  "metadata": {
    "colab": {
      "provenance": []
    },
    "kernelspec": {
      "display_name": "Python 3",
      "name": "python3"
    },
    "language_info": {
      "name": "python"
    }
  },
  "nbformat": 4,
  "nbformat_minor": 0
}
