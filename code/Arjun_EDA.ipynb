{
 "cells": [
  {
   "cell_type": "markdown",
   "id": "5ef899de-7e22-43e6-a1ee-9969b9787aa9",
   "metadata": {},
   "source": [
    "# Just an initial exploration of the data\n",
    "\n",
    "For a more thorough and streamlined notebook - check GloVe_LSTM.ipynb... Modeling_Evaluation.ipynb is a great supplementary notebook to see my evaluation thought process"
   ]
  },
  {
   "cell_type": "code",
   "execution_count": 2,
   "id": "d2be14e6-143d-465f-baa8-845f3e924ade",
   "metadata": {
    "id": "d2be14e6-143d-465f-baa8-845f3e924ade",
    "tags": []
   },
   "outputs": [],
   "source": [
    "import numpy as np\n",
    "import pandas as pd\n",
    "#import seaborn as sns\n",
    "import matplotlib.pyplot as plt\n",
    "\n",
    "from sklearn.model_selection import train_test_split, GridSearchCV\n",
    "from sklearn.pipeline import Pipeline\n",
    "from sklearn.naive_bayes import MultinomialNB, BernoulliNB, GaussianNB\n",
    "from sklearn.linear_model import LogisticRegression\n",
    "from sklearn.metrics import confusion_matrix, ConfusionMatrixDisplay\n",
    "from sklearn.feature_extraction.text import CountVectorizer, TfidfVectorizer"
   ]
  },
  {
   "cell_type": "code",
   "execution_count": 3,
   "id": "49b11639-75bb-41ea-b9aa-10ed7583c7fd",
   "metadata": {
    "colab": {
     "base_uri": "https://localhost:8080/",
     "height": 355
    },
    "id": "49b11639-75bb-41ea-b9aa-10ed7583c7fd",
    "outputId": "643c7512-e5ba-4422-863c-cb362da9fa0e",
    "tags": []
   },
   "outputs": [],
   "source": [
    "df_train = pd.read_csv(\"train.csv\")\n",
    "df_test = pd.read_csv(\"test.csv\")"
   ]
  },
  {
   "cell_type": "code",
   "execution_count": 6,
   "id": "6bd1fde3-0504-4078-b93b-1c87d4755a4d",
   "metadata": {
    "colab": {
     "base_uri": "https://localhost:8080/"
    },
    "id": "6bd1fde3-0504-4078-b93b-1c87d4755a4d",
    "outputId": "6c702ef1-ed3f-4c70-8a43-be4784555911",
    "tags": []
   },
   "outputs": [
    {
     "name": "stdout",
     "output_type": "stream",
     "text": [
      "<class 'pandas.core.frame.DataFrame'>\n",
      "RangeIndex: 7613 entries, 0 to 7612\n",
      "Data columns (total 5 columns):\n",
      " #   Column    Non-Null Count  Dtype \n",
      "---  ------    --------------  ----- \n",
      " 0   id        7613 non-null   int64 \n",
      " 1   keyword   7552 non-null   object\n",
      " 2   location  5080 non-null   object\n",
      " 3   text      7613 non-null   object\n",
      " 4   target    7613 non-null   int64 \n",
      "dtypes: int64(2), object(3)\n",
      "memory usage: 297.5+ KB\n"
     ]
    }
   ],
   "source": [
    "df_train.info()"
   ]
  },
  {
   "cell_type": "markdown",
   "id": "d0090522-a25d-4d6c-9fc7-5a88a45c4ae5",
   "metadata": {
    "id": "d0090522-a25d-4d6c-9fc7-5a88a45c4ae5"
   },
   "source": [
    "Keyword and Location are the main missing features"
   ]
  },
  {
   "cell_type": "markdown",
   "id": "f2e17257-e760-4ffa-9966-a743a905302c",
   "metadata": {
    "id": "f2e17257-e760-4ffa-9966-a743a905302c"
   },
   "source": [
    "### Modeling"
   ]
  },
  {
   "cell_type": "code",
   "execution_count": 4,
   "id": "5057b363-b42d-4569-b3cc-56d095c271c1",
   "metadata": {
    "id": "5057b363-b42d-4569-b3cc-56d095c271c1",
    "tags": []
   },
   "outputs": [],
   "source": [
    "X = df_train['text']\n",
    "y = df_train['target']\n",
    "\n",
    "X_train, X_test, y_train, y_test = train_test_split(X,y, random_state = 972)"
   ]
  },
  {
   "cell_type": "code",
   "execution_count": 5,
   "id": "759b1468-1151-41f5-8123-cd25f525db6e",
   "metadata": {
    "id": "759b1468-1151-41f5-8123-cd25f525db6e",
    "outputId": "3704c8ff-9dba-458a-ef23-f7948eadc38b",
    "tags": []
   },
   "outputs": [
    {
     "data": {
      "text/plain": [
       "target\n",
       "0    0.57034\n",
       "1    0.42966\n",
       "Name: proportion, dtype: float64"
      ]
     },
     "execution_count": 5,
     "metadata": {},
     "output_type": "execute_result"
    }
   ],
   "source": [
    "y.value_counts(normalize=True)"
   ]
  },
  {
   "cell_type": "markdown",
   "id": "1b524009-4794-40f8-ab55-6f94867c04e8",
   "metadata": {
    "id": "1b524009-4794-40f8-ab55-6f94867c04e8"
   },
   "source": [
    "#### Logreg"
   ]
  },
  {
   "cell_type": "code",
   "execution_count": 6,
   "id": "f8635b4d-9937-4145-a133-4da33f4db224",
   "metadata": {
    "id": "f8635b4d-9937-4145-a133-4da33f4db224",
    "tags": []
   },
   "outputs": [],
   "source": [
    "logr = Pipeline([\n",
    "    ('tfidf', TfidfVectorizer()),\n",
    "    ('logr', LogisticRegression())\n",
    "])"
   ]
  },
  {
   "cell_type": "code",
   "execution_count": null,
   "id": "4255ae47-35c5-4e8f-a0b1-3e7043c73fd5",
   "metadata": {
    "id": "4255ae47-35c5-4e8f-a0b1-3e7043c73fd5",
    "tags": []
   },
   "outputs": [],
   "source": [
    "logr_params = {\n",
    "        'tfidf__max_features': [2000,2500],\n",
    "        'tfidf__min_df': [1,5,10],\n",
    "        'tfidf__max_df': [0.9, 0.95],\n",
    "        'tfidf__stop_words': ['english', None],\n",
    "        'tfidf__ngram_range': [(1, 2)],\n",
    "        'logr__C': [0.1, 1, 10],\n",
    "        'logr__penalty': ['l2'], #\n",
    "        'logr__solver': ['liblinear']\n",
    "    }"
   ]
  },
  {
   "cell_type": "code",
   "execution_count": null,
   "id": "a3285123-1242-4471-91dc-15320392aef2",
   "metadata": {
    "id": "a3285123-1242-4471-91dc-15320392aef2",
    "tags": []
   },
   "outputs": [],
   "source": [
    "gs_lr = GridSearchCV(logr, logr_params, cv=5, n_jobs=1)"
   ]
  },
  {
   "cell_type": "code",
   "execution_count": null,
   "id": "8c751d52-1629-4ef9-91e8-d08c3868d030",
   "metadata": {
    "id": "8c751d52-1629-4ef9-91e8-d08c3868d030",
    "outputId": "5483d41b-6db5-4e4e-e780-8fd955aec07b",
    "scrolled": true,
    "tags": []
   },
   "outputs": [
    {
     "data": {
      "text/html": [
       "<style>#sk-container-id-1 {color: black;}#sk-container-id-1 pre{padding: 0;}#sk-container-id-1 div.sk-toggleable {background-color: white;}#sk-container-id-1 label.sk-toggleable__label {cursor: pointer;display: block;width: 100%;margin-bottom: 0;padding: 0.3em;box-sizing: border-box;text-align: center;}#sk-container-id-1 label.sk-toggleable__label-arrow:before {content: \"▸\";float: left;margin-right: 0.25em;color: #696969;}#sk-container-id-1 label.sk-toggleable__label-arrow:hover:before {color: black;}#sk-container-id-1 div.sk-estimator:hover label.sk-toggleable__label-arrow:before {color: black;}#sk-container-id-1 div.sk-toggleable__content {max-height: 0;max-width: 0;overflow: hidden;text-align: left;background-color: #f0f8ff;}#sk-container-id-1 div.sk-toggleable__content pre {margin: 0.2em;color: black;border-radius: 0.25em;background-color: #f0f8ff;}#sk-container-id-1 input.sk-toggleable__control:checked~div.sk-toggleable__content {max-height: 200px;max-width: 100%;overflow: auto;}#sk-container-id-1 input.sk-toggleable__control:checked~label.sk-toggleable__label-arrow:before {content: \"▾\";}#sk-container-id-1 div.sk-estimator input.sk-toggleable__control:checked~label.sk-toggleable__label {background-color: #d4ebff;}#sk-container-id-1 div.sk-label input.sk-toggleable__control:checked~label.sk-toggleable__label {background-color: #d4ebff;}#sk-container-id-1 input.sk-hidden--visually {border: 0;clip: rect(1px 1px 1px 1px);clip: rect(1px, 1px, 1px, 1px);height: 1px;margin: -1px;overflow: hidden;padding: 0;position: absolute;width: 1px;}#sk-container-id-1 div.sk-estimator {font-family: monospace;background-color: #f0f8ff;border: 1px dotted black;border-radius: 0.25em;box-sizing: border-box;margin-bottom: 0.5em;}#sk-container-id-1 div.sk-estimator:hover {background-color: #d4ebff;}#sk-container-id-1 div.sk-parallel-item::after {content: \"\";width: 100%;border-bottom: 1px solid gray;flex-grow: 1;}#sk-container-id-1 div.sk-label:hover label.sk-toggleable__label {background-color: #d4ebff;}#sk-container-id-1 div.sk-serial::before {content: \"\";position: absolute;border-left: 1px solid gray;box-sizing: border-box;top: 0;bottom: 0;left: 50%;z-index: 0;}#sk-container-id-1 div.sk-serial {display: flex;flex-direction: column;align-items: center;background-color: white;padding-right: 0.2em;padding-left: 0.2em;position: relative;}#sk-container-id-1 div.sk-item {position: relative;z-index: 1;}#sk-container-id-1 div.sk-parallel {display: flex;align-items: stretch;justify-content: center;background-color: white;position: relative;}#sk-container-id-1 div.sk-item::before, #sk-container-id-1 div.sk-parallel-item::before {content: \"\";position: absolute;border-left: 1px solid gray;box-sizing: border-box;top: 0;bottom: 0;left: 50%;z-index: -1;}#sk-container-id-1 div.sk-parallel-item {display: flex;flex-direction: column;z-index: 1;position: relative;background-color: white;}#sk-container-id-1 div.sk-parallel-item:first-child::after {align-self: flex-end;width: 50%;}#sk-container-id-1 div.sk-parallel-item:last-child::after {align-self: flex-start;width: 50%;}#sk-container-id-1 div.sk-parallel-item:only-child::after {width: 0;}#sk-container-id-1 div.sk-dashed-wrapped {border: 1px dashed gray;margin: 0 0.4em 0.5em 0.4em;box-sizing: border-box;padding-bottom: 0.4em;background-color: white;}#sk-container-id-1 div.sk-label label {font-family: monospace;font-weight: bold;display: inline-block;line-height: 1.2em;}#sk-container-id-1 div.sk-label-container {text-align: center;}#sk-container-id-1 div.sk-container {/* jupyter's `normalize.less` sets `[hidden] { display: none; }` but bootstrap.min.css set `[hidden] { display: none !important; }` so we also need the `!important` here to be able to override the default hidden behavior on the sphinx rendered scikit-learn.org. See: https://github.com/scikit-learn/scikit-learn/issues/21755 */display: inline-block !important;position: relative;}#sk-container-id-1 div.sk-text-repr-fallback {display: none;}</style><div id=\"sk-container-id-1\" class=\"sk-top-container\"><div class=\"sk-text-repr-fallback\"><pre>GridSearchCV(cv=5,\n",
       "             estimator=Pipeline(steps=[(&#x27;tfidf&#x27;, TfidfVectorizer()),\n",
       "                                       (&#x27;logr&#x27;, LogisticRegression())]),\n",
       "             n_jobs=1,\n",
       "             param_grid={&#x27;logr__C&#x27;: [0.1, 1, 10], &#x27;logr__penalty&#x27;: [&#x27;l2&#x27;],\n",
       "                         &#x27;logr__solver&#x27;: [&#x27;liblinear&#x27;],\n",
       "                         &#x27;tfidf__max_df&#x27;: [0.9, 0.95],\n",
       "                         &#x27;tfidf__max_features&#x27;: [2000, 2500],\n",
       "                         &#x27;tfidf__min_df&#x27;: [1, 5, 10],\n",
       "                         &#x27;tfidf__ngram_range&#x27;: [(1, 2)],\n",
       "                         &#x27;tfidf__stop_words&#x27;: [&#x27;english&#x27;, None]})</pre><b>In a Jupyter environment, please rerun this cell to show the HTML representation or trust the notebook. <br />On GitHub, the HTML representation is unable to render, please try loading this page with nbviewer.org.</b></div><div class=\"sk-container\" hidden><div class=\"sk-item sk-dashed-wrapped\"><div class=\"sk-label-container\"><div class=\"sk-label sk-toggleable\"><input class=\"sk-toggleable__control sk-hidden--visually\" id=\"sk-estimator-id-1\" type=\"checkbox\" ><label for=\"sk-estimator-id-1\" class=\"sk-toggleable__label sk-toggleable__label-arrow\">GridSearchCV</label><div class=\"sk-toggleable__content\"><pre>GridSearchCV(cv=5,\n",
       "             estimator=Pipeline(steps=[(&#x27;tfidf&#x27;, TfidfVectorizer()),\n",
       "                                       (&#x27;logr&#x27;, LogisticRegression())]),\n",
       "             n_jobs=1,\n",
       "             param_grid={&#x27;logr__C&#x27;: [0.1, 1, 10], &#x27;logr__penalty&#x27;: [&#x27;l2&#x27;],\n",
       "                         &#x27;logr__solver&#x27;: [&#x27;liblinear&#x27;],\n",
       "                         &#x27;tfidf__max_df&#x27;: [0.9, 0.95],\n",
       "                         &#x27;tfidf__max_features&#x27;: [2000, 2500],\n",
       "                         &#x27;tfidf__min_df&#x27;: [1, 5, 10],\n",
       "                         &#x27;tfidf__ngram_range&#x27;: [(1, 2)],\n",
       "                         &#x27;tfidf__stop_words&#x27;: [&#x27;english&#x27;, None]})</pre></div></div></div><div class=\"sk-parallel\"><div class=\"sk-parallel-item\"><div class=\"sk-item\"><div class=\"sk-label-container\"><div class=\"sk-label sk-toggleable\"><input class=\"sk-toggleable__control sk-hidden--visually\" id=\"sk-estimator-id-2\" type=\"checkbox\" ><label for=\"sk-estimator-id-2\" class=\"sk-toggleable__label sk-toggleable__label-arrow\">estimator: Pipeline</label><div class=\"sk-toggleable__content\"><pre>Pipeline(steps=[(&#x27;tfidf&#x27;, TfidfVectorizer()), (&#x27;logr&#x27;, LogisticRegression())])</pre></div></div></div><div class=\"sk-serial\"><div class=\"sk-item\"><div class=\"sk-serial\"><div class=\"sk-item\"><div class=\"sk-estimator sk-toggleable\"><input class=\"sk-toggleable__control sk-hidden--visually\" id=\"sk-estimator-id-3\" type=\"checkbox\" ><label for=\"sk-estimator-id-3\" class=\"sk-toggleable__label sk-toggleable__label-arrow\">TfidfVectorizer</label><div class=\"sk-toggleable__content\"><pre>TfidfVectorizer()</pre></div></div></div><div class=\"sk-item\"><div class=\"sk-estimator sk-toggleable\"><input class=\"sk-toggleable__control sk-hidden--visually\" id=\"sk-estimator-id-4\" type=\"checkbox\" ><label for=\"sk-estimator-id-4\" class=\"sk-toggleable__label sk-toggleable__label-arrow\">LogisticRegression</label><div class=\"sk-toggleable__content\"><pre>LogisticRegression()</pre></div></div></div></div></div></div></div></div></div></div></div></div>"
      ],
      "text/plain": [
       "GridSearchCV(cv=5,\n",
       "             estimator=Pipeline(steps=[('tfidf', TfidfVectorizer()),\n",
       "                                       ('logr', LogisticRegression())]),\n",
       "             n_jobs=1,\n",
       "             param_grid={'logr__C': [0.1, 1, 10], 'logr__penalty': ['l2'],\n",
       "                         'logr__solver': ['liblinear'],\n",
       "                         'tfidf__max_df': [0.9, 0.95],\n",
       "                         'tfidf__max_features': [2000, 2500],\n",
       "                         'tfidf__min_df': [1, 5, 10],\n",
       "                         'tfidf__ngram_range': [(1, 2)],\n",
       "                         'tfidf__stop_words': ['english', None]})"
      ]
     },
     "execution_count": 13,
     "metadata": {},
     "output_type": "execute_result"
    }
   ],
   "source": [
    "gs_lr.fit(X_train,y_train)"
   ]
  },
  {
   "cell_type": "code",
   "execution_count": null,
   "id": "38644c47-c80f-48c1-aada-1478e170a337",
   "metadata": {
    "id": "38644c47-c80f-48c1-aada-1478e170a337",
    "outputId": "39ea3d40-45ae-471f-aa9e-42e237c7c504"
   },
   "outputs": [
    {
     "data": {
      "text/plain": [
       "{'logr__C': 1,\n",
       " 'logr__penalty': 'l2',\n",
       " 'logr__solver': 'liblinear',\n",
       " 'tfidf': TfidfVectorizer(max_df=0.9, max_features=2500, ngram_range=(1, 2),\n",
       "                 stop_words='english'),\n",
       " 'tfidf__max_df': 0.9,\n",
       " 'tfidf__max_features': 2500,\n",
       " 'tfidf__min_df': 1,\n",
       " 'tfidf__ngram_range': (1, 2),\n",
       " 'tfidf__stop_words': 'english'}"
      ]
     },
     "execution_count": 49,
     "metadata": {},
     "output_type": "execute_result"
    }
   ],
   "source": [
    "gs_lr.best_params_"
   ]
  },
  {
   "cell_type": "code",
   "execution_count": null,
   "id": "451f9b21-b661-4064-8807-4cf3e944785a",
   "metadata": {
    "id": "451f9b21-b661-4064-8807-4cf3e944785a",
    "outputId": "9cc63f4b-09ce-4d17-9602-a4937602d6d5",
    "tags": []
   },
   "outputs": [
    {
     "data": {
      "text/plain": [
       "(0.859520056051848, 0.7962184873949579)"
      ]
     },
     "execution_count": 14,
     "metadata": {},
     "output_type": "execute_result"
    }
   ],
   "source": [
    "gs_lr.score(X_train,y_train), gs_lr.score(X_test,y_test)"
   ]
  },
  {
   "cell_type": "code",
   "execution_count": null,
   "id": "252eebf0-568d-440a-b2e1-7b10335b9c78",
   "metadata": {
    "id": "252eebf0-568d-440a-b2e1-7b10335b9c78"
   },
   "outputs": [],
   "source": [
    "# Get predictions\n",
    "preds = gs_lr.predict(X_test)\n",
    "# Save confusion matrix values\n",
    "tn, fp, fn, tp = confusion_matrix(y_test, preds).ravel()"
   ]
  },
  {
   "cell_type": "code",
   "execution_count": null,
   "id": "66c20ac1-52a7-4981-abff-156f71107547",
   "metadata": {
    "id": "66c20ac1-52a7-4981-abff-156f71107547",
    "outputId": "647d4224-2ae3-4fd3-d122-c33aa0abe361"
   },
   "outputs": [
    {
     "data": {
      "image/png": "[encoded data removed]",
      "text/plain": [
       "<Figure size 640x480 with 2 Axes>"
      ]
     },
     "metadata": {},
     "output_type": "display_data"
    }
   ],
   "source": [
    "# View confusion matrix\n",
    "ConfusionMatrixDisplay.from_estimator(gs_lr, X_test, y_test, cmap='Blues', values_format='d');"
   ]
  },
  {
   "cell_type": "code",
   "execution_count": null,
   "id": "1820f1e2-6f12-470f-bf70-355bb15b2eed",
   "metadata": {
    "id": "1820f1e2-6f12-470f-bf70-355bb15b2eed",
    "outputId": "e1e2348c-1d69-4b96-bd86-4e5d5984aa57"
   },
   "outputs": [
    {
     "data": {
      "text/html": [
       "<div>\n",
       "<style scoped>\n",
       "    .dataframe tbody tr th:only-of-type {\n",
       "        vertical-align: middle;\n",
       "    }\n",
       "\n",
       "    .dataframe tbody tr th {\n",
       "        vertical-align: top;\n",
       "    }\n",
       "\n",
       "    .dataframe thead th {\n",
       "        text-align: right;\n",
       "    }\n",
       "</style>\n",
       "<table border=\"1\" class=\"dataframe\">\n",
       "  <thead>\n",
       "    <tr style=\"text-align: right;\">\n",
       "      <th></th>\n",
       "      <th>true_values</th>\n",
       "      <th>pred_probs</th>\n",
       "    </tr>\n",
       "  </thead>\n",
       "  <tbody>\n",
       "    <tr>\n",
       "      <th>421</th>\n",
       "      <td>0</td>\n",
       "      <td>0.258008</td>\n",
       "    </tr>\n",
       "    <tr>\n",
       "      <th>5047</th>\n",
       "      <td>0</td>\n",
       "      <td>0.671224</td>\n",
       "    </tr>\n",
       "    <tr>\n",
       "      <th>5046</th>\n",
       "      <td>0</td>\n",
       "      <td>0.385309</td>\n",
       "    </tr>\n",
       "    <tr>\n",
       "      <th>1881</th>\n",
       "      <td>0</td>\n",
       "      <td>0.175295</td>\n",
       "    </tr>\n",
       "    <tr>\n",
       "      <th>6543</th>\n",
       "      <td>0</td>\n",
       "      <td>0.210184</td>\n",
       "    </tr>\n",
       "  </tbody>\n",
       "</table>\n",
       "</div>"
      ],
      "text/plain": [
       "      true_values  pred_probs\n",
       "421             0    0.258008\n",
       "5047            0    0.671224\n",
       "5046            0    0.385309\n",
       "1881            0    0.175295\n",
       "6543            0    0.210184"
      ]
     },
     "execution_count": 60,
     "metadata": {},
     "output_type": "execute_result"
    }
   ],
   "source": [
    "pred_df = pd.DataFrame({'true_values': y_test,\n",
    "                        'pred_probs': gs_lr.predict_proba(X_test)[:,1]})\n",
    "\n",
    "pred_df.head()"
   ]
  },
  {
   "cell_type": "code",
   "execution_count": null,
   "id": "8b3b21f7-c85f-4152-88c7-ac44440fb085",
   "metadata": {
    "id": "8b3b21f7-c85f-4152-88c7-ac44440fb085"
   },
   "outputs": [],
   "source": []
  },
  {
   "cell_type": "markdown",
   "id": "ebfe70ce-048d-40de-b650-9e28279e12a5",
   "metadata": {
    "id": "ebfe70ce-048d-40de-b650-9e28279e12a5"
   },
   "source": [
    "#### MNB"
   ]
  },
  {
   "cell_type": "code",
   "execution_count": null,
   "id": "7317033f-139c-477b-b299-834b6b36af00",
   "metadata": {
    "id": "7317033f-139c-477b-b299-834b6b36af00"
   },
   "outputs": [],
   "source": [
    "pipe =Pipeline([\n",
    "    ('tfidf', TfidfVectorizer()),\n",
    "    ('mnb', MultinomialNB())\n",
    "])"
   ]
  },
  {
   "cell_type": "code",
   "execution_count": null,
   "id": "f3949b41-22a3-4708-8486-d15023ee967d",
   "metadata": {
    "id": "f3949b41-22a3-4708-8486-d15023ee967d"
   },
   "outputs": [],
   "source": [
    "pipe_params = {\n",
    "    'tfidf__max_df': [0.5, 0.75, 1.0],\n",
    "    'tfidf__max_features': [1000, 5000, 10000],\n",
    "    'tfidf__min_df': [1, 2, 3],\n",
    "    'tfidf__ngram_range': [(1, 1), (1, 2)],\n",
    "    'tfidf__stop_words': [None, 'english'],\n",
    "    'mnb__alpha': [0.1, 0.5, 1.0],\n",
    "}"
   ]
  },
  {
   "cell_type": "code",
   "execution_count": null,
   "id": "20366f24-4f32-40be-839b-8f5602bd3189",
   "metadata": {
    "id": "20366f24-4f32-40be-839b-8f5602bd3189"
   },
   "outputs": [],
   "source": [
    "gs = GridSearchCV(pipe, pipe_params, cv=5, n_jobs=1 )"
   ]
  },
  {
   "cell_type": "code",
   "execution_count": null,
   "id": "485fad80-d6e0-48a7-b990-31c64ece1589",
   "metadata": {
    "id": "485fad80-d6e0-48a7-b990-31c64ece1589",
    "outputId": "dac64293-5c2d-4dd4-942a-c21302daacbb"
   },
   "outputs": [
    {
     "data": {
      "text/html": [
       "<style>#sk-container-id-1 {color: black;}#sk-container-id-1 pre{padding: 0;}#sk-container-id-1 div.sk-toggleable {background-color: white;}#sk-container-id-1 label.sk-toggleable__label {cursor: pointer;display: block;width: 100%;margin-bottom: 0;padding: 0.3em;box-sizing: border-box;text-align: center;}#sk-container-id-1 label.sk-toggleable__label-arrow:before {content: \"▸\";float: left;margin-right: 0.25em;color: #696969;}#sk-container-id-1 label.sk-toggleable__label-arrow:hover:before {color: black;}#sk-container-id-1 div.sk-estimator:hover label.sk-toggleable__label-arrow:before {color: black;}#sk-container-id-1 div.sk-toggleable__content {max-height: 0;max-width: 0;overflow: hidden;text-align: left;background-color: #f0f8ff;}#sk-container-id-1 div.sk-toggleable__content pre {margin: 0.2em;color: black;border-radius: 0.25em;background-color: #f0f8ff;}#sk-container-id-1 input.sk-toggleable__control:checked~div.sk-toggleable__content {max-height: 200px;max-width: 100%;overflow: auto;}#sk-container-id-1 input.sk-toggleable__control:checked~label.sk-toggleable__label-arrow:before {content: \"▾\";}#sk-container-id-1 div.sk-estimator input.sk-toggleable__control:checked~label.sk-toggleable__label {background-color: #d4ebff;}#sk-container-id-1 div.sk-label input.sk-toggleable__control:checked~label.sk-toggleable__label {background-color: #d4ebff;}#sk-container-id-1 input.sk-hidden--visually {border: 0;clip: rect(1px 1px 1px 1px);clip: rect(1px, 1px, 1px, 1px);height: 1px;margin: -1px;overflow: hidden;padding: 0;position: absolute;width: 1px;}#sk-container-id-1 div.sk-estimator {font-family: monospace;background-color: #f0f8ff;border: 1px dotted black;border-radius: 0.25em;box-sizing: border-box;margin-bottom: 0.5em;}#sk-container-id-1 div.sk-estimator:hover {background-color: #d4ebff;}#sk-container-id-1 div.sk-parallel-item::after {content: \"\";width: 100%;border-bottom: 1px solid gray;flex-grow: 1;}#sk-container-id-1 div.sk-label:hover label.sk-toggleable__label {background-color: #d4ebff;}#sk-container-id-1 div.sk-serial::before {content: \"\";position: absolute;border-left: 1px solid gray;box-sizing: border-box;top: 0;bottom: 0;left: 50%;z-index: 0;}#sk-container-id-1 div.sk-serial {display: flex;flex-direction: column;align-items: center;background-color: white;padding-right: 0.2em;padding-left: 0.2em;position: relative;}#sk-container-id-1 div.sk-item {position: relative;z-index: 1;}#sk-container-id-1 div.sk-parallel {display: flex;align-items: stretch;justify-content: center;background-color: white;position: relative;}#sk-container-id-1 div.sk-item::before, #sk-container-id-1 div.sk-parallel-item::before {content: \"\";position: absolute;border-left: 1px solid gray;box-sizing: border-box;top: 0;bottom: 0;left: 50%;z-index: -1;}#sk-container-id-1 div.sk-parallel-item {display: flex;flex-direction: column;z-index: 1;position: relative;background-color: white;}#sk-container-id-1 div.sk-parallel-item:first-child::after {align-self: flex-end;width: 50%;}#sk-container-id-1 div.sk-parallel-item:last-child::after {align-self: flex-start;width: 50%;}#sk-container-id-1 div.sk-parallel-item:only-child::after {width: 0;}#sk-container-id-1 div.sk-dashed-wrapped {border: 1px dashed gray;margin: 0 0.4em 0.5em 0.4em;box-sizing: border-box;padding-bottom: 0.4em;background-color: white;}#sk-container-id-1 div.sk-label label {font-family: monospace;font-weight: bold;display: inline-block;line-height: 1.2em;}#sk-container-id-1 div.sk-label-container {text-align: center;}#sk-container-id-1 div.sk-container {/* jupyter's `normalize.less` sets `[hidden] { display: none; }` but bootstrap.min.css set `[hidden] { display: none !important; }` so we also need the `!important` here to be able to override the default hidden behavior on the sphinx rendered scikit-learn.org. See: https://github.com/scikit-learn/scikit-learn/issues/21755 */display: inline-block !important;position: relative;}#sk-container-id-1 div.sk-text-repr-fallback {display: none;}</style><div id=\"sk-container-id-1\" class=\"sk-top-container\"><div class=\"sk-text-repr-fallback\"><pre>GridSearchCV(cv=5,\n",
       "             estimator=Pipeline(steps=[(&#x27;tfidf&#x27;, TfidfVectorizer()),\n",
       "                                       (&#x27;mnb&#x27;, MultinomialNB())]),\n",
       "             n_jobs=1,\n",
       "             param_grid={&#x27;mnb__alpha&#x27;: [0.1, 0.5, 1.0],\n",
       "                         &#x27;tfidf__max_df&#x27;: [0.5, 0.75, 1.0],\n",
       "                         &#x27;tfidf__max_features&#x27;: [1000, 5000, 10000],\n",
       "                         &#x27;tfidf__min_df&#x27;: [1, 2, 3],\n",
       "                         &#x27;tfidf__ngram_range&#x27;: [(1, 1), (1, 2)],\n",
       "                         &#x27;tfidf__stop_words&#x27;: [None, &#x27;english&#x27;]})</pre><b>In a Jupyter environment, please rerun this cell to show the HTML representation or trust the notebook. <br />On GitHub, the HTML representation is unable to render, please try loading this page with nbviewer.org.</b></div><div class=\"sk-container\" hidden><div class=\"sk-item sk-dashed-wrapped\"><div class=\"sk-label-container\"><div class=\"sk-label sk-toggleable\"><input class=\"sk-toggleable__control sk-hidden--visually\" id=\"sk-estimator-id-1\" type=\"checkbox\" ><label for=\"sk-estimator-id-1\" class=\"sk-toggleable__label sk-toggleable__label-arrow\">GridSearchCV</label><div class=\"sk-toggleable__content\"><pre>GridSearchCV(cv=5,\n",
       "             estimator=Pipeline(steps=[(&#x27;tfidf&#x27;, TfidfVectorizer()),\n",
       "                                       (&#x27;mnb&#x27;, MultinomialNB())]),\n",
       "             n_jobs=1,\n",
       "             param_grid={&#x27;mnb__alpha&#x27;: [0.1, 0.5, 1.0],\n",
       "                         &#x27;tfidf__max_df&#x27;: [0.5, 0.75, 1.0],\n",
       "                         &#x27;tfidf__max_features&#x27;: [1000, 5000, 10000],\n",
       "                         &#x27;tfidf__min_df&#x27;: [1, 2, 3],\n",
       "                         &#x27;tfidf__ngram_range&#x27;: [(1, 1), (1, 2)],\n",
       "                         &#x27;tfidf__stop_words&#x27;: [None, &#x27;english&#x27;]})</pre></div></div></div><div class=\"sk-parallel\"><div class=\"sk-parallel-item\"><div class=\"sk-item\"><div class=\"sk-label-container\"><div class=\"sk-label sk-toggleable\"><input class=\"sk-toggleable__control sk-hidden--visually\" id=\"sk-estimator-id-2\" type=\"checkbox\" ><label for=\"sk-estimator-id-2\" class=\"sk-toggleable__label sk-toggleable__label-arrow\">estimator: Pipeline</label><div class=\"sk-toggleable__content\"><pre>Pipeline(steps=[(&#x27;tfidf&#x27;, TfidfVectorizer()), (&#x27;mnb&#x27;, MultinomialNB())])</pre></div></div></div><div class=\"sk-serial\"><div class=\"sk-item\"><div class=\"sk-serial\"><div class=\"sk-item\"><div class=\"sk-estimator sk-toggleable\"><input class=\"sk-toggleable__control sk-hidden--visually\" id=\"sk-estimator-id-3\" type=\"checkbox\" ><label for=\"sk-estimator-id-3\" class=\"sk-toggleable__label sk-toggleable__label-arrow\">TfidfVectorizer</label><div class=\"sk-toggleable__content\"><pre>TfidfVectorizer()</pre></div></div></div><div class=\"sk-item\"><div class=\"sk-estimator sk-toggleable\"><input class=\"sk-toggleable__control sk-hidden--visually\" id=\"sk-estimator-id-4\" type=\"checkbox\" ><label for=\"sk-estimator-id-4\" class=\"sk-toggleable__label sk-toggleable__label-arrow\">MultinomialNB</label><div class=\"sk-toggleable__content\"><pre>MultinomialNB()</pre></div></div></div></div></div></div></div></div></div></div></div></div>"
      ],
      "text/plain": [
       "GridSearchCV(cv=5,\n",
       "             estimator=Pipeline(steps=[('tfidf', TfidfVectorizer()),\n",
       "                                       ('mnb', MultinomialNB())]),\n",
       "             n_jobs=1,\n",
       "             param_grid={'mnb__alpha': [0.1, 0.5, 1.0],\n",
       "                         'tfidf__max_df': [0.5, 0.75, 1.0],\n",
       "                         'tfidf__max_features': [1000, 5000, 10000],\n",
       "                         'tfidf__min_df': [1, 2, 3],\n",
       "                         'tfidf__ngram_range': [(1, 1), (1, 2)],\n",
       "                         'tfidf__stop_words': [None, 'english']})"
      ]
     },
     "execution_count": 16,
     "metadata": {},
     "output_type": "execute_result"
    }
   ],
   "source": [
    "gs.fit(X_train,y_train)"
   ]
  },
  {
   "cell_type": "code",
   "execution_count": null,
   "id": "b8a50c8e-9f9c-4b6a-98da-b102b54f233a",
   "metadata": {
    "id": "b8a50c8e-9f9c-4b6a-98da-b102b54f233a",
    "outputId": "61e5dfd6-418d-4fda-b852-d85e3680513b"
   },
   "outputs": [
    {
     "name": "stdout",
     "output_type": "stream",
     "text": [
      "Best Parameters:  {'mnb__alpha': 0.5, 'tfidf__max_df': 0.5, 'tfidf__max_features': 10000, 'tfidf__min_df': 2, 'tfidf__ngram_range': (1, 2), 'tfidf__stop_words': None}\n",
      "Best Cross-Validation Score: 0.80\n"
     ]
    }
   ],
   "source": [
    "print(\"Best Parameters: \", gs.best_params_)\n",
    "print(\"Best Cross-Validation Score: {:.2f}\".format(gs.best_score_))\n"
   ]
  },
  {
   "cell_type": "code",
   "execution_count": null,
   "id": "2e248728-9acf-4d42-b047-95ddf7bdfbf8",
   "metadata": {
    "id": "2e248728-9acf-4d42-b047-95ddf7bdfbf8",
    "outputId": "7de9c1cf-6aca-4d17-df41-96151d071f84"
   },
   "outputs": [
    {
     "data": {
      "text/plain": [
       "0.8728323699421965"
      ]
     },
     "execution_count": 21,
     "metadata": {},
     "output_type": "execute_result"
    }
   ],
   "source": [
    "gs.score(X_train,y_train)"
   ]
  },
  {
   "cell_type": "code",
   "execution_count": null,
   "id": "f1abccde-30f8-4443-8324-29b67fbe2e8e",
   "metadata": {
    "id": "f1abccde-30f8-4443-8324-29b67fbe2e8e",
    "outputId": "0ab75dff-eba5-4c6c-c17c-4d7907020bae"
   },
   "outputs": [
    {
     "data": {
      "text/plain": [
       "0.8009453781512605"
      ]
     },
     "execution_count": 20,
     "metadata": {},
     "output_type": "execute_result"
    }
   ],
   "source": [
    "gs.score(X_test,y_test)"
   ]
  },
  {
   "cell_type": "markdown",
   "id": "41e99efe-0971-47cd-a46b-784ab52278bb",
   "metadata": {
    "id": "41e99efe-0971-47cd-a46b-784ab52278bb"
   },
   "source": [
    "# LSTM and Glove Embeddings"
   ]
  },
  {
   "cell_type": "markdown",
   "id": "13326c69-468d-4007-a531-729263151501",
   "metadata": {},
   "source": [
    "Works on Colab"
   ]
  },
  {
   "cell_type": "code",
   "execution_count": 7,
   "id": "1e3913e2-4f3e-4b59-b81a-0555c7601644",
   "metadata": {
    "colab": {
     "base_uri": "https://localhost:8080/"
    },
    "id": "1e3913e2-4f3e-4b59-b81a-0555c7601644",
    "outputId": "bb6d3eb7-b6fb-4e25-b899-526ac1e6c8db",
    "tags": []
   },
   "outputs": [
    {
     "name": "stderr",
     "output_type": "stream",
     "text": [
      "[nltk_data] Downloading package stopwords to\n",
      "[nltk_data]     C:\\Users\\kalya\\AppData\\Roaming\\nltk_data...\n",
      "[nltk_data]   Unzipping corpora\\stopwords.zip.\n"
     ]
    },
    {
     "ename": "ModuleNotFoundError",
     "evalue": "No module named 'tensorflow'",
     "output_type": "error",
     "traceback": [
      "\u001b[1;31m---------------------------------------------------------------------------\u001b[0m",
      "\u001b[1;31mModuleNotFoundError\u001b[0m                       Traceback (most recent call last)",
      "Cell \u001b[1;32mIn[7], line 12\u001b[0m\n\u001b[0;32m      9\u001b[0m \u001b[38;5;28;01mfrom\u001b[39;00m \u001b[38;5;21;01mnltk\u001b[39;00m\u001b[38;5;21;01m.\u001b[39;00m\u001b[38;5;21;01mcorpus\u001b[39;00m \u001b[38;5;28;01mimport\u001b[39;00m stopwords\n\u001b[0;32m     10\u001b[0m \u001b[38;5;28;01mfrom\u001b[39;00m \u001b[38;5;21;01mnltk\u001b[39;00m\u001b[38;5;21;01m.\u001b[39;00m\u001b[38;5;21;01mstem\u001b[39;00m \u001b[38;5;28;01mimport\u001b[39;00m PorterStemmer\n\u001b[1;32m---> 12\u001b[0m \u001b[38;5;28;01mfrom\u001b[39;00m \u001b[38;5;21;01mtensorflow\u001b[39;00m\u001b[38;5;21;01m.\u001b[39;00m\u001b[38;5;21;01mkeras\u001b[39;00m\u001b[38;5;21;01m.\u001b[39;00m\u001b[38;5;21;01mpreprocessing\u001b[39;00m\u001b[38;5;21;01m.\u001b[39;00m\u001b[38;5;21;01mtext\u001b[39;00m \u001b[38;5;28;01mimport\u001b[39;00m Tokenizer\n\u001b[0;32m     13\u001b[0m \u001b[38;5;28;01mfrom\u001b[39;00m \u001b[38;5;21;01mtensorflow\u001b[39;00m\u001b[38;5;21;01m.\u001b[39;00m\u001b[38;5;21;01mkeras\u001b[39;00m\u001b[38;5;21;01m.\u001b[39;00m\u001b[38;5;21;01mpreprocessing\u001b[39;00m\u001b[38;5;21;01m.\u001b[39;00m\u001b[38;5;21;01msequence\u001b[39;00m \u001b[38;5;28;01mimport\u001b[39;00m pad_sequences\n\u001b[0;32m     14\u001b[0m \u001b[38;5;28;01mfrom\u001b[39;00m \u001b[38;5;21;01mtensorflow\u001b[39;00m\u001b[38;5;21;01m.\u001b[39;00m\u001b[38;5;21;01mkeras\u001b[39;00m\u001b[38;5;21;01m.\u001b[39;00m\u001b[38;5;21;01mlayers\u001b[39;00m \u001b[38;5;28;01mimport\u001b[39;00m Dense, LSTM, Embedding, Input, Dropout, Bidirectional, Flatten\n",
      "\u001b[1;31mModuleNotFoundError\u001b[0m: No module named 'tensorflow'"
     ]
    }
   ],
   "source": [
    "import pandas as pd\n",
    "import numpy as np\n",
    "\n",
    "from sklearn.model_selection import train_test_split\n",
    "from sklearn.preprocessing import LabelEncoder, StandardScaler\n",
    "\n",
    "import nltk\n",
    "nltk.download('stopwords')\n",
    "from nltk.corpus import stopwords\n",
    "from nltk.stem import PorterStemmer\n",
    "\n",
    "from tensorflow.keras.preprocessing.text import Tokenizer\n",
    "from tensorflow.keras.preprocessing.sequence import pad_sequences\n",
    "from tensorflow.keras.layers import Dense, LSTM, Embedding, Input, Dropout, Bidirectional, Flatten\n",
    "from tensorflow.keras.models import Sequential\n",
    "\n",
    "\n",
    "\n",
    "import re\n",
    "\n",
    "from gensim.models.word2vec import Word2Vec\n",
    "import gensim.downloader"
   ]
  },
  {
   "cell_type": "code",
   "execution_count": 113,
   "id": "d137cd2d-be04-479b-924b-541702e94d58",
   "metadata": {
    "id": "d137cd2d-be04-479b-924b-541702e94d58"
   },
   "outputs": [],
   "source": [
    "df_train = pd.read_csv(\"train.csv\")\n",
    "df_test = pd.read_csv(\"test.csv\")\n",
    "\n",
    "train = df_train.drop(columns=['id','keyword','location'])\n",
    "test =  df_test.drop(columns=['id','keyword','location'])\n",
    "\n",
    "# X = df_train['text']\n",
    "# y = df_train['target']\n",
    "\n",
    "# X_train, X_test, y_train, y_test = train_test_split(X,y, random_state = 972)"
   ]
  },
  {
   "cell_type": "markdown",
   "id": "qD8mpMxmMVM9",
   "metadata": {
    "id": "qD8mpMxmMVM9"
   },
   "source": [
    "First, some minor cleaning"
   ]
  },
  {
   "cell_type": "code",
   "execution_count": 114,
   "id": "694b3edd-6eaa-474e-94ec-5cb94daba275",
   "metadata": {
    "colab": {
     "base_uri": "https://localhost:8080/",
     "height": 35
    },
    "id": "694b3edd-6eaa-474e-94ec-5cb94daba275",
    "outputId": "4ba40218-04a9-4b52-b186-59a1aaf00d67"
   },
   "outputs": [
    {
     "data": {
      "application/vnd.google.colaboratory.intrinsic+json": {
       "type": "string"
      },
      "text/plain": [
       "'#RockyFire Update => California Hwy. 20 closed in both directions due to Lake County fire - #CAfire #wildfires'"
      ]
     },
     "execution_count": 114,
     "metadata": {},
     "output_type": "execute_result"
    }
   ],
   "source": [
    "train.loc[5,'text']"
   ]
  },
  {
   "cell_type": "code",
   "execution_count": 115,
   "id": "8371c6d3-7f0d-47c8-ae9f-f358fc2c2ada",
   "metadata": {
    "id": "8371c6d3-7f0d-47c8-ae9f-f358fc2c2ada"
   },
   "outputs": [],
   "source": [
    "def tweet_cleaner(df, feature = 'text', target='target'):\n",
    "  list_of_tokens = []\n",
    "  list_of_stems = []\n",
    "  list_of_sentences = []\n",
    "  labels = []\n",
    "\n",
    "  for index, row in df.iterrows():\n",
    "\n",
    "    labels.append(row[target])\n",
    "\n",
    "    # only alphanumeric words for now.\n",
    "    pattern = r'\\b\\w+\\b'\n",
    "\n",
    "    token_list = [x.lower() for x in re.findall(pattern, row[feature]) if x not in stopwords.words('english')]\n",
    "\n",
    "    stemmed_tokens = [PorterStemmer().stem(token) for token in token_list]\n",
    "\n",
    "    list_of_tokens.append(token_list)\n",
    "    list_of_stems.append(stemmed_tokens)\n",
    "    list_of_sentences.append(\" \".join(token_list))\n",
    "\n",
    "  return list_of_tokens, list_of_stems,  list_of_sentences, labels\n",
    "\n"
   ]
  },
  {
   "cell_type": "code",
   "execution_count": 116,
   "id": "1ckI2Rf8FNoN",
   "metadata": {
    "id": "1ckI2Rf8FNoN"
   },
   "outputs": [],
   "source": [
    "tokens, stems, sentences, labels = tweet_cleaner(train)"
   ]
  },
  {
   "cell_type": "markdown",
   "id": "DeQEo89xSWmZ",
   "metadata": {
    "id": "DeQEo89xSWmZ"
   },
   "source": [
    "Train test split"
   ]
  },
  {
   "cell_type": "code",
   "execution_count": 117,
   "id": "J1Xa68WuSYLS",
   "metadata": {
    "id": "J1Xa68WuSYLS"
   },
   "outputs": [],
   "source": [
    "X_train, X_test, y_train, y_test = train_test_split(sentences,labels, random_state = 972, stratify=labels)"
   ]
  },
  {
   "cell_type": "markdown",
   "id": "yQNraW2BR1Yx",
   "metadata": {
    "id": "yQNraW2BR1Yx"
   },
   "source": [
    "Ok now I tokenize(turn to numbers), and pad"
   ]
  },
  {
   "cell_type": "code",
   "execution_count": 118,
   "id": "VxGY9RoKRTfe",
   "metadata": {
    "id": "VxGY9RoKRTfe"
   },
   "outputs": [],
   "source": [
    "max_sequence_length = 100  # Adjust as needed\n",
    "max_words = 5000  # Adjust as needed\n",
    "\n",
    "tokenizer = Tokenizer(num_words=max_words, oov_token='<OOV>')\n",
    "tokenizer.fit_on_texts(X_train)\n",
    "\n",
    "X_train_seq = tokenizer.texts_to_sequences(X_train)\n",
    "X_test_seq = tokenizer.texts_to_sequences(X_test)\n",
    "\n",
    "X_train_padded = pad_sequences(X_train_seq, maxlen=max_sequence_length, padding='post',truncating='post')\n",
    "X_test_padded = pad_sequences(X_test_seq, maxlen=max_sequence_length, padding='post',truncating='post')"
   ]
  },
  {
   "cell_type": "code",
   "execution_count": 121,
   "id": "SeO3efaurzAz",
   "metadata": {
    "colab": {
     "base_uri": "https://localhost:8080/"
    },
    "id": "SeO3efaurzAz",
    "outputId": "a3945a47-73cf-4352-8d22-74bdf0ace8f0"
   },
   "outputs": [
    {
     "data": {
      "text/plain": [
       "(5709, 100)"
      ]
     },
     "execution_count": 121,
     "metadata": {},
     "output_type": "execute_result"
    }
   ],
   "source": [
    "X_train_padded.shape"
   ]
  },
  {
   "cell_type": "markdown",
   "id": "dma1R12jTntJ",
   "metadata": {
    "id": "dma1R12jTntJ"
   },
   "source": [
    "Ok now I'm going to just downlaod the glove embeddings"
   ]
  },
  {
   "cell_type": "code",
   "execution_count": 119,
   "id": "sRnobIeQRTdC",
   "metadata": {
    "id": "sRnobIeQRTdC"
   },
   "outputs": [],
   "source": [
    "# Load pretrained GloVe embeddings\n",
    "embedding_dim = 25  # Adjust based on the chosen GloVe model dimension\n",
    "embedding_matrix = np.zeros((max_words, embedding_dim))\n",
    "\n",
    "glove_path = 'glove.twitter.27B.25d.txt'\n",
    "\n",
    "\n",
    "with open(glove_path, encoding='utf-8') as glove_file:\n",
    "    for line in glove_file:\n",
    "        values = line.split()\n",
    "        word = values[0]\n",
    "        if word in tokenizer.word_index and tokenizer.word_index[word] < max_words:\n",
    "            embedding_vector = np.array(values[1:], dtype='float32')\n",
    "            embedding_matrix[tokenizer.word_index[word]] = embedding_vector"
   ]
  },
  {
   "cell_type": "code",
   "execution_count": 120,
   "id": "hU6id9-WRTaJ",
   "metadata": {
    "colab": {
     "base_uri": "https://localhost:8080/"
    },
    "id": "hU6id9-WRTaJ",
    "outputId": "864f9bcf-a911-425b-d6e2-9dacfae9a6c3"
   },
   "outputs": [
    {
     "data": {
      "text/plain": [
       "(5000, 25)"
      ]
     },
     "execution_count": 120,
     "metadata": {},
     "output_type": "execute_result"
    }
   ],
   "source": [
    "embedding_matrix.shape"
   ]
  },
  {
   "cell_type": "markdown",
   "id": "oqXSBR4OUb3J",
   "metadata": {
    "id": "oqXSBR4OUb3J"
   },
   "source": [
    "Try a Keras LSTM"
   ]
  },
  {
   "cell_type": "code",
   "execution_count": 88,
   "id": "scTHrrfmU6nu",
   "metadata": {
    "colab": {
     "base_uri": "https://localhost:8080/"
    },
    "id": "scTHrrfmU6nu",
    "outputId": "eb815562-6d90-499b-9381-3711898f05cd"
   },
   "outputs": [
    {
     "name": "stdout",
     "output_type": "stream",
     "text": [
      "Model: \"sequential_7\"\n",
      "_________________________________________________________________\n",
      " Layer (type)                Output Shape              Param #   \n",
      "=================================================================\n",
      " embedding_7 (Embedding)     (None, 100, 25)           125000    \n",
      "                                                                 \n",
      " bidirectional_7 (Bidirecti  (None, 100, 128)          46080     \n",
      " onal)                                                           \n",
      "                                                                 \n",
      " bidirectional_8 (Bidirecti  (None, 128)               98816     \n",
      " onal)                                                           \n",
      "                                                                 \n",
      " flatten_3 (Flatten)         (None, 128)               0         \n",
      "                                                                 \n",
      " dense_4 (Dense)             (None, 1)                 129       \n",
      "                                                                 \n",
      "=================================================================\n",
      "Total params: 270025 (1.03 MB)\n",
      "Trainable params: 145025 (566.50 KB)\n",
      "Non-trainable params: 125000 (488.28 KB)\n",
      "_________________________________________________________________\n"
     ]
    }
   ],
   "source": [
    "model = Sequential()\n",
    "model.add(Embedding(max_words, embedding_dim, input_length=max_sequence_length, weights=[embedding_matrix], trainable=False))\n",
    "model.add(Bidirectional(LSTM(64, return_sequences = True)))\n",
    "model.add(Bidirectional(LSTM(64,return_sequences = False)))\n",
    "model.add(Flatten())\n",
    "model.add(Dense(1, activation = 'sigmoid'))\n",
    "model.summary()"
   ]
  },
  {
   "cell_type": "code",
   "execution_count": 89,
   "id": "V6vdJQ3ZRTRZ",
   "metadata": {
    "id": "V6vdJQ3ZRTRZ"
   },
   "outputs": [],
   "source": [
    "model.compile(loss='binary_crossentropy', optimizer='adam', metrics=['accuracy'])\n"
   ]
  },
  {
   "cell_type": "code",
   "execution_count": 90,
   "id": "as9C0htlViLq",
   "metadata": {
    "colab": {
     "base_uri": "https://localhost:8080/"
    },
    "id": "as9C0htlViLq",
    "outputId": "e7ce7ef0-d99b-4596-f59d-af6df436bd60"
   },
   "outputs": [
    {
     "name": "stdout",
     "output_type": "stream",
     "text": [
      "Epoch 1/4\n",
      "90/90 [==============================] - 11s 44ms/step - loss: 0.5154 - accuracy: 0.7614 - val_loss: 0.4642 - val_accuracy: 0.7952\n",
      "Epoch 2/4\n",
      "90/90 [==============================] - 2s 23ms/step - loss: 0.4611 - accuracy: 0.7921 - val_loss: 0.4643 - val_accuracy: 0.7910\n",
      "Epoch 3/4\n",
      "90/90 [==============================] - 2s 23ms/step - loss: 0.4478 - accuracy: 0.7952 - val_loss: 0.4399 - val_accuracy: 0.8004\n",
      "Epoch 4/4\n",
      "90/90 [==============================] - 2s 20ms/step - loss: 0.4351 - accuracy: 0.8045 - val_loss: 0.4314 - val_accuracy: 0.8067\n"
     ]
    },
    {
     "data": {
      "text/plain": [
       "<keras.src.callbacks.History at 0x7f50ce151840>"
      ]
     },
     "execution_count": 90,
     "metadata": {},
     "output_type": "execute_result"
    }
   ],
   "source": [
    "model.fit(X_train_padded,\n",
    "          np.asarray(y_train),\n",
    "          validation_data = (X_test_padded, np.asarray(y_test)),\n",
    "          epochs=4,\n",
    "          batch_size=64)\n",
    "\n",
    "\n"
   ]
  },
  {
   "cell_type": "code",
   "execution_count": 91,
   "id": "1e5-vPigeUm6",
   "metadata": {
    "id": "1e5-vPigeUm6"
   },
   "outputs": [],
   "source": [
    "import pickle\n",
    "\n",
    "with open('arjun_model.pkl', 'wb') as file:\n",
    "    # A new file will be created\n",
    "    pickle.dump(model, file)"
   ]
  },
  {
   "cell_type": "markdown",
   "id": "uR5dwiT1Nqk5",
   "metadata": {
    "id": "uR5dwiT1Nqk5"
   },
   "source": [
    "# Trying out making our own embeddings using word2vec"
   ]
  },
  {
   "cell_type": "code",
   "execution_count": 36,
   "id": "iAKnQgneITEo",
   "metadata": {
    "id": "iAKnQgneITEo"
   },
   "outputs": [],
   "source": [
    "# Train a word2vec model!\n",
    "wv = Word2Vec(sentences=sentences,      # Corpus of data.\n",
    "              vector_size=30,    # How many dimensions do you want in your word vector?\n",
    "              window=4,    # How many \"context words\" do you want?\n",
    "              min_count=1, # Ignores words below this threshold.\n",
    "              sg=0,        # SG = 1 uses SkipGram, SG = 0 uses CBOW (default).\n",
    "              workers=4)   # Number of \"worker threads\" to use (parallelizes process).c"
   ]
  },
  {
   "cell_type": "code",
   "execution_count": 50,
   "id": "lHTUbgcHKlD7",
   "metadata": {
    "colab": {
     "base_uri": "https://localhost:8080/"
    },
    "collapsed": true,
    "id": "lHTUbgcHKlD7",
    "jupyter": {
     "outputs_hidden": true
    },
    "outputId": "a922d7c3-6bbd-4d99-c0c8-4c59a3374a5e",
    "tags": []
   },
   "outputs": [
    {
     "data": {
      "text/plain": [
       "[('since', 0.9988051056861877),\n",
       " ('us', 0.9983085989952087),\n",
       " ('amp', 0.9983000755310059),\n",
       " ('best', 0.9982950687408447),\n",
       " ('first', 0.9980924129486084),\n",
       " ('you', 0.9980767369270325),\n",
       " ('like', 0.9980363845825195),\n",
       " ('red', 0.9980309009552002),\n",
       " ('new', 0.9980042576789856),\n",
       " ('day', 0.99798983335495),\n",
       " ('in', 0.997977614402771),\n",
       " ('county', 0.99797523021698),\n",
       " ('he', 0.9979395866394043),\n",
       " ('run', 0.9978729486465454),\n",
       " ('my', 0.9978727698326111),\n",
       " ('the', 0.9978623390197754),\n",
       " ('even', 0.997861921787262),\n",
       " ('2', 0.9978586435317993),\n",
       " ('fires', 0.9978358149528503),\n",
       " ('food', 0.9978311061859131),\n",
       " ('would', 0.9978294372558594),\n",
       " ('live', 0.9978278279304504),\n",
       " ('emergency', 0.9978129863739014),\n",
       " ('many', 0.9977896809577942),\n",
       " ('two', 0.9977848529815674),\n",
       " ('still', 0.9977837800979614),\n",
       " ('collapse', 0.9977515339851379),\n",
       " ('fire', 0.9977496862411499),\n",
       " ('i', 0.9977399706840515),\n",
       " ('back', 0.997736930847168),\n",
       " ('3', 0.9976901412010193),\n",
       " ('crash', 0.9976752400398254),\n",
       " ('china', 0.9976679682731628),\n",
       " ('storm', 0.997635006904602),\n",
       " ('5', 0.9976224899291992),\n",
       " ('body', 0.9976174831390381),\n",
       " ('life', 0.9975783824920654),\n",
       " ('hurricane', 0.9975530505180359),\n",
       " ('one', 0.997530460357666),\n",
       " ('services', 0.9975254535675049),\n",
       " ('hiroshima', 0.9975078105926514),\n",
       " ('everyone', 0.9975054264068604),\n",
       " ('explosion', 0.9974967241287231),\n",
       " ('world', 0.9974944591522217),\n",
       " ('people', 0.9974818825721741),\n",
       " ('s', 0.9974814057350159),\n",
       " ('4', 0.997458815574646),\n",
       " ('left', 0.9974541068077087),\n",
       " ('cause', 0.9974501729011536),\n",
       " ('please', 0.9974439144134521),\n",
       " ('it', 0.9974433779716492),\n",
       " ('could', 0.9974380135536194),\n",
       " ('said', 0.997437059879303),\n",
       " ('police', 0.9974339604377747),\n",
       " ('chemical', 0.9974284172058105),\n",
       " ('battle', 0.9974256157875061),\n",
       " ('1', 0.997411847114563),\n",
       " ('inundated', 0.9974095225334167),\n",
       " ('don', 0.9974029660224915),\n",
       " ('injury', 0.9974004626274109),\n",
       " ('order', 0.9973981976509094),\n",
       " ('good', 0.9973915219306946),\n",
       " ('flood', 0.9973915219306946),\n",
       " ('on', 0.9973913431167603),\n",
       " ('may', 0.9973847270011902),\n",
       " ('9', 0.9973747730255127),\n",
       " ('thunder', 0.9973745942115784),\n",
       " ('got', 0.9973673224449158),\n",
       " ('today', 0.9973646402359009),\n",
       " ('really', 0.9973582625389099),\n",
       " ('hot', 0.9973383545875549),\n",
       " ('time', 0.997321605682373),\n",
       " ('ûªs', 0.9973151683807373),\n",
       " ('much', 0.9973143339157104),\n",
       " ('getting', 0.9973021745681763),\n",
       " ('for', 0.9972929358482361),\n",
       " ('2015', 0.9972922801971436),\n",
       " ('way', 0.9972916841506958),\n",
       " ('help', 0.9972794651985168),\n",
       " ('lightning', 0.9972674250602722),\n",
       " ('death', 0.9972661733627319),\n",
       " ('plan', 0.997258722782135),\n",
       " ('make', 0.9972517490386963),\n",
       " ('we', 0.997251570224762),\n",
       " ('near', 0.9972499012947083),\n",
       " ('deluge', 0.9972413778305054),\n",
       " ('flooding', 0.9972347021102905),\n",
       " ('take', 0.9972226023674011),\n",
       " ('rt', 0.9972168207168579),\n",
       " ('face', 0.9972109794616699),\n",
       " ('military', 0.9972077012062073),\n",
       " ('hit', 0.9972069263458252),\n",
       " ('refugees', 0.9971998333930969),\n",
       " ('15', 0.9971970915794373),\n",
       " ('how', 0.9971967339515686),\n",
       " ('man', 0.9971964955329895),\n",
       " ('û', 0.9971946477890015),\n",
       " ('burning', 0.997189462184906),\n",
       " ('blood', 0.9971856474876404),\n",
       " ('survive', 0.9971806406974792)]"
      ]
     },
     "execution_count": 50,
     "metadata": {},
     "output_type": "execute_result"
    }
   ],
   "source": [
    "wv.wv.most_similar('women', topn=100)"
   ]
  },
  {
   "cell_type": "markdown",
   "id": "KG9zhAfBN0HR",
   "metadata": {
    "id": "KG9zhAfBN0HR"
   },
   "source": [
    "Ok turns out, gensim already has pretrained embedding eights in it\n"
   ]
  },
  {
   "cell_type": "code",
   "execution_count": 44,
   "id": "pzcoDJufN3sQ",
   "metadata": {
    "colab": {
     "base_uri": "https://localhost:8080/"
    },
    "id": "pzcoDJufN3sQ",
    "outputId": "a0282d8d-3dd9-4516-e5a5-785240dd56af"
   },
   "outputs": [
    {
     "data": {
      "text/plain": [
       "['fasttext-wiki-news-subwords-300',\n",
       " 'conceptnet-numberbatch-17-06-300',\n",
       " 'word2vec-ruscorpora-300',\n",
       " 'word2vec-google-news-300',\n",
       " 'glove-wiki-gigaword-50',\n",
       " 'glove-wiki-gigaword-100',\n",
       " 'glove-wiki-gigaword-200',\n",
       " 'glove-wiki-gigaword-300',\n",
       " 'glove-twitter-25',\n",
       " 'glove-twitter-50',\n",
       " 'glove-twitter-100',\n",
       " 'glove-twitter-200',\n",
       " '__testing_word2vec-matrix-synopsis']"
      ]
     },
     "execution_count": 44,
     "metadata": {},
     "output_type": "execute_result"
    }
   ],
   "source": [
    "list(gensim.downloader.info()['models'].keys())"
   ]
  },
  {
   "cell_type": "code",
   "execution_count": 45,
   "id": "Xx0DCctmOAeZ",
   "metadata": {
    "colab": {
     "base_uri": "https://localhost:8080/"
    },
    "id": "Xx0DCctmOAeZ",
    "outputId": "45b63bd2-b3fc-4ae9-d09c-fb3f0c38278c"
   },
   "outputs": [
    {
     "name": "stdout",
     "output_type": "stream",
     "text": [
      "[==================================================] 100.0% 104.8/104.8MB downloaded\n"
     ]
    }
   ],
   "source": [
    "glove_vectors = gensim.downloader.load('glove-twitter-25')"
   ]
  },
  {
   "cell_type": "code",
   "execution_count": 48,
   "id": "J0JhXU1zOREb",
   "metadata": {
    "colab": {
     "base_uri": "https://localhost:8080/",
     "height": 175
    },
    "id": "J0JhXU1zOREb",
    "outputId": "05017f7a-39b3-45f6-b7a3-25691e849faf"
   },
   "outputs": [
    {
     "ename": "AttributeError",
     "evalue": "ignored",
     "output_type": "error",
     "traceback": [
      "\u001b[0;31m---------------------------------------------------------------------------\u001b[0m",
      "\u001b[0;31mAttributeError\u001b[0m                            Traceback (most recent call last)",
      "\u001b[0;32m<ipython-input-48-9ff13c6ff90f>\u001b[0m in \u001b[0;36m<cell line: 1>\u001b[0;34m()\u001b[0m\n\u001b[0;32m----> 1\u001b[0;31m \u001b[0mglove_vectors\u001b[0m\u001b[0;34m.\u001b[0m\u001b[0mkeys\u001b[0m\u001b[0;34m(\u001b[0m\u001b[0;34m)\u001b[0m\u001b[0;34m\u001b[0m\u001b[0;34m\u001b[0m\u001b[0m\n\u001b[0m",
      "\u001b[0;31mAttributeError\u001b[0m: 'KeyedVectors' object has no attribute 'keys'"
     ]
    }
   ],
   "source": [
    "glove_vectors.mos()"
   ]
  },
  {
   "cell_type": "markdown",
   "id": "moTYcIVNicKb",
   "metadata": {
    "id": "moTYcIVNicKb"
   },
   "source": [
    "# ok now, I will use tfidf with the stemmed words\n"
   ]
  },
  {
   "cell_type": "code",
   "execution_count": 8,
   "id": "t4MRZCLDihpy",
   "metadata": {
    "id": "t4MRZCLDihpy",
    "tags": []
   },
   "outputs": [
    {
     "ename": "NameError",
     "evalue": "name 'stems' is not defined",
     "output_type": "error",
     "traceback": [
      "\u001b[1;31m---------------------------------------------------------------------------\u001b[0m",
      "\u001b[1;31mNameError\u001b[0m                                 Traceback (most recent call last)",
      "Cell \u001b[1;32mIn[8], line 1\u001b[0m\n\u001b[1;32m----> 1\u001b[0m X_train, X_test, y_train, y_test \u001b[38;5;241m=\u001b[39m train_test_split(stems,labels, random_state \u001b[38;5;241m=\u001b[39m \u001b[38;5;241m972\u001b[39m, stratify\u001b[38;5;241m=\u001b[39mlabels)\n",
      "\u001b[1;31mNameError\u001b[0m: name 'stems' is not defined"
     ]
    }
   ],
   "source": [
    "X_train, X_test, y_train, y_test = train_test_split(stems,labels, random_state = 972, stratify=labels)"
   ]
  },
  {
   "cell_type": "code",
   "execution_count": 93,
   "id": "YBg771aoiuhC",
   "metadata": {
    "colab": {
     "base_uri": "https://localhost:8080/"
    },
    "id": "YBg771aoiuhC",
    "outputId": "42e8865e-ae81-42ef-a6ba-4dda7cb88650"
   },
   "outputs": [
    {
     "data": {
      "text/plain": [
       "['polic', 'offic', 'wound', 'suspect', 'dead', 'after', 'exchang', 'shot']"
      ]
     },
     "execution_count": 93,
     "metadata": {},
     "output_type": "execute_result"
    }
   ],
   "source": [
    "X_train[0]"
   ]
  },
  {
   "cell_type": "code",
   "execution_count": 12,
   "id": "l1VPhYNQamlI",
   "metadata": {
    "colab": {
     "base_uri": "https://localhost:8080/"
    },
    "id": "l1VPhYNQamlI",
    "outputId": "17f8d03c-cd70-4bfe-b005-f6db19dd1d5d"
   },
   "outputs": [
    {
     "data": {
      "text/plain": [
       "7613"
      ]
     },
     "execution_count": 12,
     "metadata": {},
     "output_type": "execute_result"
    }
   ],
   "source": [
    "len(text)"
   ]
  },
  {
   "cell_type": "code",
   "execution_count": 9,
   "id": "0c39dfb0-80e1-4614-9ae8-2cd15d0aca63",
   "metadata": {
    "colab": {
     "base_uri": "https://localhost:8080/",
     "height": 35
    },
    "id": "0c39dfb0-80e1-4614-9ae8-2cd15d0aca63",
    "outputId": "2d7900b4-ff73-4ced-cb2e-4e194e051c37"
   },
   "outputs": [
    {
     "data": {
      "application/vnd.google.colaboratory.intrinsic+json": {
       "type": "string"
      },
      "text/plain": [
       "'#RockyFire Update => California Hwy. 20 closed in both directions due to Lake County fire - #CAfire #wildfires'"
      ]
     },
     "execution_count": 9,
     "metadata": {},
     "output_type": "execute_result"
    }
   ],
   "source": [
    "train.loc[5,'text']"
   ]
  },
  {
   "cell_type": "code",
   "execution_count": 10,
   "id": "e72RlNKTaHnl",
   "metadata": {
    "colab": {
     "base_uri": "https://localhost:8080/",
     "height": 35
    },
    "id": "e72RlNKTaHnl",
    "outputId": "5b815b0d-7cdb-4301-bf6f-e6a15f5034d2"
   },
   "outputs": [
    {
     "data": {
      "application/vnd.google.colaboratory.intrinsic+json": {
       "type": "string"
      },
      "text/plain": [
       "'rockyfir updat california hwi 20 close direct due lake counti fire cafir wildfir'"
      ]
     },
     "execution_count": 10,
     "metadata": {},
     "output_type": "execute_result"
    }
   ],
   "source": [
    "text[5]"
   ]
  },
  {
   "cell_type": "code",
   "execution_count": 11,
   "id": "v4rOnyQVgOav",
   "metadata": {
    "id": "v4rOnyQVgOav"
   },
   "outputs": [],
   "source": [
    "vocab_size = 5000 # Max number of words\n",
    "embedding_dim = 64 # Word Vector dimension\n",
    "max_length = 200 # Max length of the sequence\n",
    "trunc_type = 'post' # where to chop off\n",
    "padding_type = 'post' # where to put the padding\n",
    "oov_tok = '<OOV>'\n",
    "\n",
    "tokenizer = Tokenizer(num_words=vocab_size, oov_token=oov_tok)\n",
    "\n",
    "tokenizer.fit_on_texts(text)\n"
   ]
  },
  {
   "cell_type": "code",
   "execution_count": 12,
   "id": "_ePHUrhiggwm",
   "metadata": {
    "id": "_ePHUrhiggwm"
   },
   "outputs": [],
   "source": [
    "text_numbered = tokenizer.texts_to_sequences(text)"
   ]
  },
  {
   "cell_type": "code",
   "execution_count": 13,
   "id": "jzCoL3x8g0ml",
   "metadata": {
    "colab": {
     "base_uri": "https://localhost:8080/"
    },
    "id": "jzCoL3x8g0ml",
    "outputId": "bf249032-c2a0-4829-cb60-1cfab27b482e"
   },
   "outputs": [
    {
     "data": {
      "text/plain": [
       "[2678, 242, 60, 1421, 681, 394, 907, 551, 1004, 418, 8, 3970, 134]"
      ]
     },
     "execution_count": 13,
     "metadata": {},
     "output_type": "execute_result"
    }
   ],
   "source": [
    "text_numbered[5]"
   ]
  },
  {
   "cell_type": "code",
   "execution_count": 14,
   "id": "kD8YRw8JhDKe",
   "metadata": {
    "id": "kD8YRw8JhDKe"
   },
   "outputs": [],
   "source": [
    "text_padded = pad_sequences(text_numbered, maxlen=max_length, padding= padding_type,truncating = trunc_type)"
   ]
  },
  {
   "cell_type": "code",
   "execution_count": 15,
   "id": "x4tPmTA0hJeW",
   "metadata": {
    "colab": {
     "base_uri": "https://localhost:8080/"
    },
    "id": "x4tPmTA0hJeW",
    "outputId": "0d2f294b-aa44-4332-bd80-fe7c1b058a0a"
   },
   "outputs": [
    {
     "data": {
      "text/plain": [
       "array([2678,  242,   60, 1421,  681,  394,  907,  551, 1004,  418,    8,\n",
       "       3970,  134,    0,    0,    0,    0,    0,    0,    0,    0,    0,\n",
       "          0,    0,    0,    0,    0,    0,    0,    0,    0,    0,    0,\n",
       "          0,    0,    0,    0,    0,    0,    0,    0,    0,    0,    0,\n",
       "          0,    0,    0,    0,    0,    0,    0,    0,    0,    0,    0,\n",
       "          0,    0,    0,    0,    0,    0,    0,    0,    0,    0,    0,\n",
       "          0,    0,    0,    0,    0,    0,    0,    0,    0,    0,    0,\n",
       "          0,    0,    0,    0,    0,    0,    0,    0,    0,    0,    0,\n",
       "          0,    0,    0,    0,    0,    0,    0,    0,    0,    0,    0,\n",
       "          0,    0,    0,    0,    0,    0,    0,    0,    0,    0,    0,\n",
       "          0,    0,    0,    0,    0,    0,    0,    0,    0,    0,    0,\n",
       "          0,    0,    0,    0,    0,    0,    0,    0,    0,    0,    0,\n",
       "          0,    0,    0,    0,    0,    0,    0,    0,    0,    0,    0,\n",
       "          0,    0,    0,    0,    0,    0,    0,    0,    0,    0,    0,\n",
       "          0,    0,    0,    0,    0,    0,    0,    0,    0,    0,    0,\n",
       "          0,    0,    0,    0,    0,    0,    0,    0,    0,    0,    0,\n",
       "          0,    0,    0,    0,    0,    0,    0,    0,    0,    0,    0,\n",
       "          0,    0,    0,    0,    0,    0,    0,    0,    0,    0,    0,\n",
       "          0,    0], dtype=int32)"
      ]
     },
     "execution_count": 15,
     "metadata": {},
     "output_type": "execute_result"
    }
   ],
   "source": [
    "text_padded[5]"
   ]
  },
  {
   "cell_type": "code",
   "execution_count": 21,
   "id": "RFvT-jF1jpDv",
   "metadata": {
    "id": "RFvT-jF1jpDv"
   },
   "outputs": [],
   "source": [
    "X_train, X_test, y_train, y_test = train_test_split(np.asarray(text_padded),np.asarray(labels), random_state = 972)"
   ]
  },
  {
   "cell_type": "code",
   "execution_count": null,
   "id": "o-U0M9S-lZ5u",
   "metadata": {
    "id": "o-U0M9S-lZ5u"
   },
   "outputs": [],
   "source": []
  },
  {
   "cell_type": "code",
   "execution_count": 59,
   "id": "DKQqfrbuhbSI",
   "metadata": {
    "colab": {
     "base_uri": "https://localhost:8080/"
    },
    "id": "DKQqfrbuhbSI",
    "outputId": "fecc355b-f5a5-4cb0-f256-024f38259d73"
   },
   "outputs": [
    {
     "name": "stdout",
     "output_type": "stream",
     "text": [
      "Model: \"sequential_14\"\n",
      "_________________________________________________________________\n",
      " Layer (type)                Output Shape              Param #   \n",
      "=================================================================\n",
      " embedding_10 (Embedding)    (None, 200, 5)            25000     \n",
      "                                                                 \n",
      " bidirectional_19 (Bidirect  (None, 64)                9728      \n",
      " ional)                                                          \n",
      "                                                                 \n",
      " dense_18 (Dense)            (None, 32)                2080      \n",
      "                                                                 \n",
      " dropout_8 (Dropout)         (None, 32)                0         \n",
      "                                                                 \n",
      " dense_19 (Dense)            (None, 1)                 33        \n",
      "                                                                 \n",
      "=================================================================\n",
      "Total params: 36841 (143.91 KB)\n",
      "Trainable params: 36841 (143.91 KB)\n",
      "Non-trainable params: 0 (0.00 Byte)\n",
      "_________________________________________________________________\n"
     ]
    }
   ],
   "source": [
    "# @title Default title text\n",
    "from tensorflow.keras.layers import Bidirectional\n",
    "\n",
    "model = Sequential()\n",
    "model.add(Embedding(vocab_size, 5, input_length = max_length))\n",
    "#model.add(LSTM(16, return_sequences = True))\n",
    "model.add(Bidirectional(LSTM(32)))\n",
    "model.add(Dense(32,activation = 'relu'))\n",
    "model.add(Dropout(0.2))\n",
    "model.add(Dense(1, activation = 'sigmoid'))\n",
    "\n",
    "model.summary()"
   ]
  },
  {
   "cell_type": "code",
   "execution_count": 60,
   "id": "wfEjyq_-hbPX",
   "metadata": {
    "id": "wfEjyq_-hbPX"
   },
   "outputs": [],
   "source": [
    "model.compile(loss = 'bce', optimizer = 'adam', metrics = ['acc'])\n"
   ]
  },
  {
   "cell_type": "code",
   "execution_count": 61,
   "id": "SjWt4EE_kZdG",
   "metadata": {
    "colab": {
     "base_uri": "https://localhost:8080/"
    },
    "id": "SjWt4EE_kZdG",
    "outputId": "db2921bc-d482-47fc-ce74-d8d0279764c8"
   },
   "outputs": [
    {
     "data": {
      "text/plain": [
       "(200,)"
      ]
     },
     "execution_count": 61,
     "metadata": {},
     "output_type": "execute_result"
    }
   ],
   "source": [
    "X_train[0].shape"
   ]
  },
  {
   "cell_type": "code",
   "execution_count": 62,
   "id": "wZZNyrNJhbM-",
   "metadata": {
    "colab": {
     "base_uri": "https://localhost:8080/"
    },
    "id": "wZZNyrNJhbM-",
    "outputId": "9309b37f-0c15-4eea-e59f-74a273693f57"
   },
   "outputs": [
    {
     "name": "stdout",
     "output_type": "stream",
     "text": [
      "Epoch 1/10\n",
      "23/23 [==============================] - 10s 222ms/step - loss: 0.6853 - acc: 0.5670 - val_loss: 0.6816 - val_acc: 0.5683\n",
      "Epoch 2/10\n",
      "23/23 [==============================] - 5s 225ms/step - loss: 0.6725 - acc: 0.5710 - val_loss: 0.6598 - val_acc: 0.5683\n",
      "Epoch 3/10\n",
      "23/23 [==============================] - 3s 119ms/step - loss: 0.6196 - acc: 0.6716 - val_loss: 0.6015 - val_acc: 0.7096\n",
      "Epoch 4/10\n",
      "23/23 [==============================] - 3s 138ms/step - loss: 0.5136 - acc: 0.7849 - val_loss: 0.4947 - val_acc: 0.7747\n",
      "Epoch 5/10\n",
      "23/23 [==============================] - 3s 144ms/step - loss: 0.3960 - acc: 0.8364 - val_loss: 0.4792 - val_acc: 0.7784\n",
      "Epoch 6/10\n",
      "23/23 [==============================] - 3s 113ms/step - loss: 0.3316 - acc: 0.8662 - val_loss: 0.4935 - val_acc: 0.7915\n",
      "Epoch 7/10\n",
      "23/23 [==============================] - 2s 86ms/step - loss: 0.2893 - acc: 0.8861 - val_loss: 0.4977 - val_acc: 0.7857\n",
      "Epoch 8/10\n",
      "23/23 [==============================] - 2s 62ms/step - loss: 0.2503 - acc: 0.9056 - val_loss: 0.5181 - val_acc: 0.7862\n",
      "Epoch 9/10\n",
      "23/23 [==============================] - 1s 53ms/step - loss: 0.2216 - acc: 0.9205 - val_loss: 0.5491 - val_acc: 0.7889\n",
      "Epoch 10/10\n",
      "23/23 [==============================] - 1s 54ms/step - loss: 0.1992 - acc: 0.9280 - val_loss: 0.5920 - val_acc: 0.7820\n"
     ]
    },
    {
     "data": {
      "text/plain": [
       "<keras.src.callbacks.History at 0x7ddff6e76710>"
      ]
     },
     "execution_count": 62,
     "metadata": {},
     "output_type": "execute_result"
    }
   ],
   "source": [
    "model.fit(X_train, y_train, validation_data = (X_test, y_test),\n",
    "          batch_size = 256, epochs = 10)"
   ]
  },
  {
   "cell_type": "code",
   "execution_count": null,
   "id": "WA6ogkPehbKe",
   "metadata": {
    "id": "WA6ogkPehbKe"
   },
   "outputs": [],
   "source": []
  },
  {
   "cell_type": "code",
   "execution_count": null,
   "id": "V8EZrJXwhbHG",
   "metadata": {
    "id": "V8EZrJXwhbHG"
   },
   "outputs": [],
   "source": []
  },
  {
   "cell_type": "code",
   "execution_count": null,
   "id": "FDOuDmbVha_X",
   "metadata": {
    "id": "FDOuDmbVha_X"
   },
   "outputs": [],
   "source": []
  },
  {
   "cell_type": "markdown",
   "id": "ANv1dhRHdSQW",
   "metadata": {
    "id": "ANv1dhRHdSQW"
   },
   "source": [
    "Ok now doing word2vec"
   ]
  },
  {
   "cell_type": "code",
   "execution_count": null,
   "id": "4APCEtj7fus2",
   "metadata": {
    "id": "4APCEtj7fus2"
   },
   "outputs": [],
   "source": []
  },
  {
   "cell_type": "code",
   "execution_count": null,
   "id": "PZa0zj8Rfuf-",
   "metadata": {
    "id": "PZa0zj8Rfuf-"
   },
   "outputs": [],
   "source": []
  },
  {
   "cell_type": "code",
   "execution_count": null,
   "id": "zLW4F8ABfuRW",
   "metadata": {
    "id": "zLW4F8ABfuRW"
   },
   "outputs": [],
   "source": []
  },
  {
   "cell_type": "code",
   "execution_count": null,
   "id": "-GN_j991aV8M",
   "metadata": {
    "id": "-GN_j991aV8M"
   },
   "outputs": [],
   "source": [
    "# Train a model!\n",
    "wv = Word2Vec(corpus,      # Corpus of data.\n",
    "              size=100,    # How many dimensions do you want in your word vector?\n",
    "              window=2,    # How many \"context words\" do you want?\n",
    "              min_count=1, # Ignores words below this threshold.\n",
    "              sg=0,        # SG = 1 uses SkipGram, SG = 0 uses CBOW (default).\n",
    "              workers=4)   # Number of \"worker threads\" to use (parallelizes process).\n"
   ]
  }
 ],
 "metadata": {
  "accelerator": "GPU",
  "colab": {
   "gpuType": "T4",
   "provenance": []
  },
  "kernelspec": {
   "display_name": "Python 3 (ipykernel)",
   "language": "python",
   "name": "python3"
  },
  "language_info": {
   "codemirror_mode": {
    "name": "ipython",
    "version": 3
   },
   "file_extension": ".py",
   "mimetype": "text/x-python",
   "name": "python",
   "nbconvert_exporter": "python",
   "pygments_lexer": "ipython3",
   "version": "3.11.5"
  }
 },
 "nbformat": 4,
 "nbformat_minor": 5
}
