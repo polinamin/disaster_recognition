{
 "cells": [
  {
   "cell_type": "markdown",
   "id": "41e99efe-0971-47cd-a46b-784ab52278bb",
   "metadata": {
    "id": "41e99efe-0971-47cd-a46b-784ab52278bb"
   },
   "source": [
    "# LSTM and Glove Embeddings"
   ]
  },
  {
   "cell_type": "markdown",
   "id": "13326c69-468d-4007-a531-729263151501",
   "metadata": {
    "id": "13326c69-468d-4007-a531-729263151501"
   },
   "source": [
    "Works on Colab"
   ]
  },
  {
   "cell_type": "code",
   "execution_count": 1,
   "id": "1e3913e2-4f3e-4b59-b81a-0555c7601644",
   "metadata": {
    "colab": {
     "base_uri": "https://localhost:8080/"
    },
    "id": "1e3913e2-4f3e-4b59-b81a-0555c7601644",
    "outputId": "1562affc-1a9c-4738-cf81-ab85a734ee3e",
    "tags": []
   },
   "outputs": [
    {
     "name": "stderr",
     "output_type": "stream",
     "text": [
      "[nltk_data] Downloading package stopwords to /root/nltk_data...\n",
      "[nltk_data]   Unzipping corpora/stopwords.zip.\n"
     ]
    }
   ],
   "source": [
    "import pandas as pd\n",
    "import numpy as np\n",
    "\n",
    "from sklearn.model_selection import train_test_split\n",
    "from sklearn.preprocessing import LabelEncoder, StandardScaler\n",
    "\n",
    "import re\n",
    "import nltk\n",
    "nltk.download('stopwords')\n",
    "from nltk.stem import PorterStemmer\n",
    "\n",
    "from tensorflow.keras.preprocessing.text import Tokenizer\n",
    "from tensorflow.keras.preprocessing.sequence import pad_sequences\n",
    "from tensorflow.keras.layers import Dense, LSTM, Embedding, Input, Dropout, Bidirectional, Flatten\n",
    "from tensorflow.keras.models import Sequential\n",
    "\n",
    "\n",
    "\n",
    "import re\n",
    "\n",
    "from gensim.models.word2vec import Word2Vec\n",
    "import gensim.downloader"
   ]
  },
  {
   "cell_type": "markdown",
   "id": "9ZJabGEG3w8F",
   "metadata": {
    "id": "9ZJabGEG3w8F"
   },
   "source": [
    "Juat using text"
   ]
  },
  {
   "cell_type": "code",
   "execution_count": 5,
   "id": "d137cd2d-be04-479b-924b-541702e94d58",
   "metadata": {
    "id": "d137cd2d-be04-479b-924b-541702e94d58"
   },
   "outputs": [],
   "source": [
    "df_train = pd.read_csv(\"train.csv\")\n",
    "df_test = pd.read_csv(\"test.csv\")\n",
    "\n",
    "train = df_train.drop(columns=['id','keyword','location'])\n",
    "test =  df_test.drop(columns=['id','keyword','location'])\n",
    "\n",
    "# X = df_train['text']\n",
    "# y = df_train['target']\n",
    "\n",
    "# X_train, X_test, y_train, y_test = train_test_split(X,y, random_state = 972)"
   ]
  },
  {
   "cell_type": "markdown",
   "id": "qD8mpMxmMVM9",
   "metadata": {
    "id": "qD8mpMxmMVM9"
   },
   "source": [
    "First, some minor cleaning"
   ]
  },
  {
   "cell_type": "code",
   "execution_count": 13,
   "id": "8371c6d3-7f0d-47c8-ae9f-f358fc2c2ada",
   "metadata": {
    "id": "8371c6d3-7f0d-47c8-ae9f-f358fc2c2ada"
   },
   "outputs": [],
   "source": [
    "def tweet_cleaner(df, feature = 'text', is_train=True, stemmer = PorterStemmer(), include_username=True):\n",
    "  '''\n",
    "  made for tweet texts\n",
    "\n",
    "  input: Dataframe(for test set, set is_train to False)\n",
    "         feature: whatever the name of the text feature is. default is 'text'\n",
    "         is_train: set to False if input dataframe is test.csv. else leave as default\n",
    "         include_username: True (default) means @username -> username\n",
    "                           False means @username ... have not implemented yet\n",
    "         stemmer = Stemming object that does the steming. must have a .stem() method. PorterStemmer is default\n",
    "\n",
    "  output: list_of_words = returns of list of lists. each inner list has the full words as elements\n",
    "          list_of_stems = returns of list of lists. each inner list has the stemmed words as elements\n",
    "          list_of_sentences = returns list of 'list_of_words' joined\n",
    "          labels = returns a list of the target labels. returns empty list if is_train=False\n",
    "\n",
    "\n",
    "\n",
    "  '''\n",
    "  list_of_words = []\n",
    "  list_of_stems = []\n",
    "  list_of_sentences = []\n",
    "  labels = []\n",
    "\n",
    "  for index, row in df.iterrows():\n",
    "\n",
    "    if is_train:\n",
    "      labels.append(row['target'])\n",
    "\n",
    "    # only alphanumeric words for now.\n",
    "    pattern = r'\\b[a-zA-Z]+\\b'\n",
    "\n",
    "\n",
    "    # including new stopwords unique to tweets. and adding them to nltk\n",
    "\n",
    "    stops = nltk.corpus.stopwords.words('english')\n",
    "    new_stop_words = [\"ha\", \"wa\", \"http\", \"s\", \"https\", \"com\", \"'s\", \"' s\", \"'ll\", \"' ll\", \"' d\", \"'d\", \"'re\", \"' re\", \"co\", \"amp\", \"url\"]\n",
    "    stops.extend(new_stop_words)\n",
    "\n",
    "    # Gets list of words from re.findall() and filters out stop words and 1 letter words\n",
    "\n",
    "    word_list = [x.lower() for x in re.findall(pattern, row[feature]) if (x not in stops) and (len(x)>1)]\n",
    "\n",
    "    # stems the words\n",
    "    stemmed_tokens = [stemmer.stem(token) for token in word_list]\n",
    "\n",
    "    list_of_words.append(word_list)\n",
    "    list_of_stems.append(stemmed_tokens)\n",
    "    list_of_sentences.append(\" \".join(word_list))\n",
    "\n",
    "\n",
    "\n",
    "  return list_of_words, list_of_stems,  list_of_sentences, labels\n"
   ]
  },
  {
   "cell_type": "code",
   "execution_count": 14,
   "id": "UapYolplCBlI",
   "metadata": {
    "id": "UapYolplCBlI"
   },
   "outputs": [],
   "source": [
    "def remove_usernames_links(tweet):\n",
    "    tweet = re.sub('@[^\\s]+','',tweet) # removes usernames\n",
    "    tweet = re.sub('http[^\\s]+','',tweet) # removes urls\n",
    "    tweet = re.sub('https[^\\s]+','',tweet)\n",
    "    tweet = re.sub('www[^\\s]+','',tweet)\n",
    "    return tweet\n"
   ]
  },
  {
   "cell_type": "code",
   "execution_count": 20,
   "id": "yzU4S_RGDUTD",
   "metadata": {
    "id": "yzU4S_RGDUTD"
   },
   "outputs": [],
   "source": [
    "cleaned_train = df_train.copy()\n",
    "tokens, stems, sentences, labels = tweet_cleaner(df_train)\n",
    "cleaned_train['cleaned_words'] = sentences\n",
    "cleaned_train['cleaned_words'] = cleaned_train['cleaned_words'].apply(remove_usernames_links)\n",
    "cleaned_train['stems'] = stems"
   ]
  },
  {
   "cell_type": "code",
   "execution_count": 22,
   "id": "JNZ89HEoEBN5",
   "metadata": {
    "id": "JNZ89HEoEBN5"
   },
   "outputs": [],
   "source": [
    "cleaned_test = df_test.copy()\n",
    "tokens, stems, sentences, labels = tweet_cleaner(df_test, is_train=False)\n",
    "cleaned_test['cleaned_words'] = sentences\n",
    "cleaned_test['cleaned_words'] = cleaned_test['cleaned_words'].apply(remove_usernames_links)\n",
    "cleaned_test['stems'] = stems\n"
   ]
  },
  {
   "cell_type": "code",
   "execution_count": 23,
   "id": "9zXe0szxEKt3",
   "metadata": {
    "id": "9zXe0szxEKt3"
   },
   "outputs": [],
   "source": [
    "cleaned_train.to_csv('cleaned_train.csv', index=False)\n",
    "cleaned_test.to_csv('cleaned_test.csv', index=False)"
   ]
  },
  {
   "cell_type": "code",
   "execution_count": 25,
   "id": "U9FEhkjuFBD_",
   "metadata": {
    "colab": {
     "base_uri": "https://localhost:8080/",
     "height": 206
    },
    "id": "U9FEhkjuFBD_",
    "outputId": "92966bd6-781c-4f3d-a1e0-af02cb1bc645"
   },
   "outputs": [
    {
     "data": {
      "text/html": [
       "\n",
       "  <div id=\"df-345fb4b4-ea20-4485-8ea6-e49baf15ce01\" class=\"colab-df-container\">\n",
       "    <div>\n",
       "<style scoped>\n",
       "    .dataframe tbody tr th:only-of-type {\n",
       "        vertical-align: middle;\n",
       "    }\n",
       "\n",
       "    .dataframe tbody tr th {\n",
       "        vertical-align: top;\n",
       "    }\n",
       "\n",
       "    .dataframe thead th {\n",
       "        text-align: right;\n",
       "    }\n",
       "</style>\n",
       "<table border=\"1\" class=\"dataframe\">\n",
       "  <thead>\n",
       "    <tr style=\"text-align: right;\">\n",
       "      <th></th>\n",
       "      <th>id</th>\n",
       "      <th>keyword</th>\n",
       "      <th>location</th>\n",
       "      <th>text</th>\n",
       "      <th>target</th>\n",
       "      <th>cleaned_words</th>\n",
       "      <th>stems</th>\n",
       "    </tr>\n",
       "  </thead>\n",
       "  <tbody>\n",
       "    <tr>\n",
       "      <th>0</th>\n",
       "      <td>1</td>\n",
       "      <td>NaN</td>\n",
       "      <td>NaN</td>\n",
       "      <td>Our Deeds are the Reason of this #earthquake M...</td>\n",
       "      <td>1</td>\n",
       "      <td>our deeds reason earthquake may allah forgive us</td>\n",
       "      <td>[our, deed, reason, earthquak, may, allah, for...</td>\n",
       "    </tr>\n",
       "    <tr>\n",
       "      <th>1</th>\n",
       "      <td>4</td>\n",
       "      <td>NaN</td>\n",
       "      <td>NaN</td>\n",
       "      <td>Forest fire near La Ronge Sask. Canada</td>\n",
       "      <td>1</td>\n",
       "      <td>forest fire near la ronge sask canada</td>\n",
       "      <td>[forest, fire, near, la, rong, sask, canada]</td>\n",
       "    </tr>\n",
       "    <tr>\n",
       "      <th>2</th>\n",
       "      <td>5</td>\n",
       "      <td>NaN</td>\n",
       "      <td>NaN</td>\n",
       "      <td>All residents asked to 'shelter in place' are ...</td>\n",
       "      <td>1</td>\n",
       "      <td>all residents asked shelter place notified off...</td>\n",
       "      <td>[all, resid, ask, shelter, place, notifi, offi...</td>\n",
       "    </tr>\n",
       "    <tr>\n",
       "      <th>3</th>\n",
       "      <td>6</td>\n",
       "      <td>NaN</td>\n",
       "      <td>NaN</td>\n",
       "      <td>13,000 people receive #wildfires evacuation or...</td>\n",
       "      <td>1</td>\n",
       "      <td>people receive wildfires evacuation orders cal...</td>\n",
       "      <td>[peopl, receiv, wildfir, evacu, order, califor...</td>\n",
       "    </tr>\n",
       "    <tr>\n",
       "      <th>4</th>\n",
       "      <td>7</td>\n",
       "      <td>NaN</td>\n",
       "      <td>NaN</td>\n",
       "      <td>Just got sent this photo from Ruby #Alaska as ...</td>\n",
       "      <td>1</td>\n",
       "      <td>just got sent photo ruby alaska smoke wildfire...</td>\n",
       "      <td>[just, got, sent, photo, rubi, alaska, smoke, ...</td>\n",
       "    </tr>\n",
       "  </tbody>\n",
       "</table>\n",
       "</div>\n",
       "    <div class=\"colab-df-buttons\">\n",
       "\n",
       "  <div class=\"colab-df-container\">\n",
       "    <button class=\"colab-df-convert\" onclick=\"convertToInteractive('df-345fb4b4-ea20-4485-8ea6-e49baf15ce01')\"\n",
       "            title=\"Convert this dataframe to an interactive table.\"\n",
       "            style=\"display:none;\">\n",
       "\n",
       "  <svg xmlns=\"http://www.w3.org/2000/svg\" height=\"24px\" viewBox=\"0 -960 960 960\">\n",
       "    <path d=\"M120-120v-720h720v720H120Zm60-500h600v-160H180v160Zm220 220h160v-160H400v160Zm0 220h160v-160H400v160ZM180-400h160v-160H180v160Zm440 0h160v-160H620v160ZM180-180h160v-160H180v160Zm440 0h160v-160H620v160Z\"/>\n",
       "  </svg>\n",
       "    </button>\n",
       "\n",
       "  <style>\n",
       "    .colab-df-container {\n",
       "      display:flex;\n",
       "      gap: 12px;\n",
       "    }\n",
       "\n",
       "    .colab-df-convert {\n",
       "      background-color: #E8F0FE;\n",
       "      border: none;\n",
       "      border-radius: 50%;\n",
       "      cursor: pointer;\n",
       "      display: none;\n",
       "      fill: #1967D2;\n",
       "      height: 32px;\n",
       "      padding: 0 0 0 0;\n",
       "      width: 32px;\n",
       "    }\n",
       "\n",
       "    .colab-df-convert:hover {\n",
       "      background-color: #E2EBFA;\n",
       "      box-shadow: 0px 1px 2px rgba(60, 64, 67, 0.3), 0px 1px 3px 1px rgba(60, 64, 67, 0.15);\n",
       "      fill: #174EA6;\n",
       "    }\n",
       "\n",
       "    .colab-df-buttons div {\n",
       "      margin-bottom: 4px;\n",
       "    }\n",
       "\n",
       "    [theme=dark] .colab-df-convert {\n",
       "      background-color: #3B4455;\n",
       "      fill: #D2E3FC;\n",
       "    }\n",
       "\n",
       "    [theme=dark] .colab-df-convert:hover {\n",
       "      background-color: #434B5C;\n",
       "      box-shadow: 0px 1px 3px 1px rgba(0, 0, 0, 0.15);\n",
       "      filter: drop-shadow(0px 1px 2px rgba(0, 0, 0, 0.3));\n",
       "      fill: #FFFFFF;\n",
       "    }\n",
       "  </style>\n",
       "\n",
       "    <script>\n",
       "      const buttonEl =\n",
       "        document.querySelector('#df-345fb4b4-ea20-4485-8ea6-e49baf15ce01 button.colab-df-convert');\n",
       "      buttonEl.style.display =\n",
       "        google.colab.kernel.accessAllowed ? 'block' : 'none';\n",
       "\n",
       "      async function convertToInteractive(key) {\n",
       "        const element = document.querySelector('#df-345fb4b4-ea20-4485-8ea6-e49baf15ce01');\n",
       "        const dataTable =\n",
       "          await google.colab.kernel.invokeFunction('convertToInteractive',\n",
       "                                                    [key], {});\n",
       "        if (!dataTable) return;\n",
       "\n",
       "        const docLinkHtml = 'Like what you see? Visit the ' +\n",
       "          '<a target=\"_blank\" href=https://colab.research.google.com/notebooks/data_table.ipynb>data table notebook</a>'\n",
       "          + ' to learn more about interactive tables.';\n",
       "        element.innerHTML = '';\n",
       "        dataTable['output_type'] = 'display_data';\n",
       "        await google.colab.output.renderOutput(dataTable, element);\n",
       "        const docLink = document.createElement('div');\n",
       "        docLink.innerHTML = docLinkHtml;\n",
       "        element.appendChild(docLink);\n",
       "      }\n",
       "    </script>\n",
       "  </div>\n",
       "\n",
       "\n",
       "<div id=\"df-d900892d-87d4-45ac-85e8-004e83d8ac4a\">\n",
       "  <button class=\"colab-df-quickchart\" onclick=\"quickchart('df-d900892d-87d4-45ac-85e8-004e83d8ac4a')\"\n",
       "            title=\"Suggest charts.\"\n",
       "            style=\"display:none;\">\n",
       "\n",
       "<svg xmlns=\"http://www.w3.org/2000/svg\" height=\"24px\"viewBox=\"0 0 24 24\"\n",
       "     width=\"24px\">\n",
       "    <g>\n",
       "        <path d=\"M19 3H5c-1.1 0-2 .9-2 2v14c0 1.1.9 2 2 2h14c1.1 0 2-.9 2-2V5c0-1.1-.9-2-2-2zM9 17H7v-7h2v7zm4 0h-2V7h2v10zm4 0h-2v-4h2v4z\"/>\n",
       "    </g>\n",
       "</svg>\n",
       "  </button>\n",
       "\n",
       "<style>\n",
       "  .colab-df-quickchart {\n",
       "      --bg-color: #E8F0FE;\n",
       "      --fill-color: #1967D2;\n",
       "      --hover-bg-color: #E2EBFA;\n",
       "      --hover-fill-color: #174EA6;\n",
       "      --disabled-fill-color: #AAA;\n",
       "      --disabled-bg-color: #DDD;\n",
       "  }\n",
       "\n",
       "  [theme=dark] .colab-df-quickchart {\n",
       "      --bg-color: #3B4455;\n",
       "      --fill-color: #D2E3FC;\n",
       "      --hover-bg-color: #434B5C;\n",
       "      --hover-fill-color: #FFFFFF;\n",
       "      --disabled-bg-color: #3B4455;\n",
       "      --disabled-fill-color: #666;\n",
       "  }\n",
       "\n",
       "  .colab-df-quickchart {\n",
       "    background-color: var(--bg-color);\n",
       "    border: none;\n",
       "    border-radius: 50%;\n",
       "    cursor: pointer;\n",
       "    display: none;\n",
       "    fill: var(--fill-color);\n",
       "    height: 32px;\n",
       "    padding: 0;\n",
       "    width: 32px;\n",
       "  }\n",
       "\n",
       "  .colab-df-quickchart:hover {\n",
       "    background-color: var(--hover-bg-color);\n",
       "    box-shadow: 0 1px 2px rgba(60, 64, 67, 0.3), 0 1px 3px 1px rgba(60, 64, 67, 0.15);\n",
       "    fill: var(--button-hover-fill-color);\n",
       "  }\n",
       "\n",
       "  .colab-df-quickchart-complete:disabled,\n",
       "  .colab-df-quickchart-complete:disabled:hover {\n",
       "    background-color: var(--disabled-bg-color);\n",
       "    fill: var(--disabled-fill-color);\n",
       "    box-shadow: none;\n",
       "  }\n",
       "\n",
       "  .colab-df-spinner {\n",
       "    border: 2px solid var(--fill-color);\n",
       "    border-color: transparent;\n",
       "    border-bottom-color: var(--fill-color);\n",
       "    animation:\n",
       "      spin 1s steps(1) infinite;\n",
       "  }\n",
       "\n",
       "  @keyframes spin {\n",
       "    0% {\n",
       "      border-color: transparent;\n",
       "      border-bottom-color: var(--fill-color);\n",
       "      border-left-color: var(--fill-color);\n",
       "    }\n",
       "    20% {\n",
       "      border-color: transparent;\n",
       "      border-left-color: var(--fill-color);\n",
       "      border-top-color: var(--fill-color);\n",
       "    }\n",
       "    30% {\n",
       "      border-color: transparent;\n",
       "      border-left-color: var(--fill-color);\n",
       "      border-top-color: var(--fill-color);\n",
       "      border-right-color: var(--fill-color);\n",
       "    }\n",
       "    40% {\n",
       "      border-color: transparent;\n",
       "      border-right-color: var(--fill-color);\n",
       "      border-top-color: var(--fill-color);\n",
       "    }\n",
       "    60% {\n",
       "      border-color: transparent;\n",
       "      border-right-color: var(--fill-color);\n",
       "    }\n",
       "    80% {\n",
       "      border-color: transparent;\n",
       "      border-right-color: var(--fill-color);\n",
       "      border-bottom-color: var(--fill-color);\n",
       "    }\n",
       "    90% {\n",
       "      border-color: transparent;\n",
       "      border-bottom-color: var(--fill-color);\n",
       "    }\n",
       "  }\n",
       "</style>\n",
       "\n",
       "  <script>\n",
       "    async function quickchart(key) {\n",
       "      const quickchartButtonEl =\n",
       "        document.querySelector('#' + key + ' button');\n",
       "      quickchartButtonEl.disabled = true;  // To prevent multiple clicks.\n",
       "      quickchartButtonEl.classList.add('colab-df-spinner');\n",
       "      try {\n",
       "        const charts = await google.colab.kernel.invokeFunction(\n",
       "            'suggestCharts', [key], {});\n",
       "      } catch (error) {\n",
       "        console.error('Error during call to suggestCharts:', error);\n",
       "      }\n",
       "      quickchartButtonEl.classList.remove('colab-df-spinner');\n",
       "      quickchartButtonEl.classList.add('colab-df-quickchart-complete');\n",
       "    }\n",
       "    (() => {\n",
       "      let quickchartButtonEl =\n",
       "        document.querySelector('#df-d900892d-87d4-45ac-85e8-004e83d8ac4a button');\n",
       "      quickchartButtonEl.style.display =\n",
       "        google.colab.kernel.accessAllowed ? 'block' : 'none';\n",
       "    })();\n",
       "  </script>\n",
       "</div>\n",
       "    </div>\n",
       "  </div>\n"
      ],
      "text/plain": [
       "   id keyword location                                               text  \\\n",
       "0   1     NaN      NaN  Our Deeds are the Reason of this #earthquake M...   \n",
       "1   4     NaN      NaN             Forest fire near La Ronge Sask. Canada   \n",
       "2   5     NaN      NaN  All residents asked to 'shelter in place' are ...   \n",
       "3   6     NaN      NaN  13,000 people receive #wildfires evacuation or...   \n",
       "4   7     NaN      NaN  Just got sent this photo from Ruby #Alaska as ...   \n",
       "\n",
       "   target                                      cleaned_words  \\\n",
       "0       1   our deeds reason earthquake may allah forgive us   \n",
       "1       1              forest fire near la ronge sask canada   \n",
       "2       1  all residents asked shelter place notified off...   \n",
       "3       1  people receive wildfires evacuation orders cal...   \n",
       "4       1  just got sent photo ruby alaska smoke wildfire...   \n",
       "\n",
       "                                               stems  \n",
       "0  [our, deed, reason, earthquak, may, allah, for...  \n",
       "1       [forest, fire, near, la, rong, sask, canada]  \n",
       "2  [all, resid, ask, shelter, place, notifi, offi...  \n",
       "3  [peopl, receiv, wildfir, evacu, order, califor...  \n",
       "4  [just, got, sent, photo, rubi, alaska, smoke, ...  "
      ]
     },
     "execution_count": 25,
     "metadata": {},
     "output_type": "execute_result"
    }
   ],
   "source": [
    "cleaned_train.head()"
   ]
  },
  {
   "cell_type": "code",
   "execution_count": null,
   "id": "zd11UdJbKiGI",
   "metadata": {
    "colab": {
     "base_uri": "https://localhost:8080/",
     "height": 35
    },
    "id": "zd11UdJbKiGI",
    "outputId": "3de56902-a850-457f-d284-0f66b5f17a8c"
   },
   "outputs": [
    {
     "data": {
      "application/vnd.google.colaboratory.intrinsic+json": {
       "type": "string"
      },
      "text/plain": [
       "'M1.94 [01:04 UTC]?5km S of Volcano Hawaii. http://t.co/zDtoyd8EbJ'"
      ]
     },
     "execution_count": 47,
     "metadata": {},
     "output_type": "execute_result"
    }
   ],
   "source": [
    "train.loc[7610,'text']"
   ]
  },
  {
   "cell_type": "code",
   "execution_count": null,
   "id": "-7oGFOgRMWcB",
   "metadata": {
    "colab": {
     "base_uri": "https://localhost:8080/",
     "height": 35
    },
    "id": "-7oGFOgRMWcB",
    "outputId": "7763235a-5433-49c0-e29a-2fe092341a23"
   },
   "outputs": [
    {
     "data": {
      "application/vnd.google.colaboratory.intrinsic+json": {
       "type": "string"
      },
      "text/plain": [
       "'utc volcano hawaii'"
      ]
     },
     "execution_count": 48,
     "metadata": {},
     "output_type": "execute_result"
    }
   ],
   "source": [
    "sentences[7610]"
   ]
  },
  {
   "cell_type": "code",
   "execution_count": null,
   "id": "RdSedkG-fYPN",
   "metadata": {
    "colab": {
     "base_uri": "https://localhost:8080/",
     "height": 35
    },
    "id": "RdSedkG-fYPN",
    "outputId": "9dfa75ff-ceb4-436d-9f99-24545705279f"
   },
   "outputs": [
    {
     "data": {
      "application/vnd.google.colaboratory.intrinsic+json": {
       "type": "string"
      },
      "text/plain": [
       "\"'Remembering that you are going to die is the best way I know to avoid the trap of thinking you have something to lose.' \\x89ÛÒ Steve Jobs\""
      ]
     },
     "execution_count": 56,
     "metadata": {},
     "output_type": "execute_result"
    }
   ],
   "source": [
    "train.loc[128,'text']"
   ]
  },
  {
   "cell_type": "code",
   "execution_count": null,
   "id": "nyVIXf44fYz1",
   "metadata": {
    "colab": {
     "base_uri": "https://localhost:8080/",
     "height": 35
    },
    "id": "nyVIXf44fYz1",
    "outputId": "0cb7f071-7caf-4a01-b35b-6d9213b2e4ba"
   },
   "outputs": [
    {
     "data": {
      "application/vnd.google.colaboratory.intrinsic+json": {
       "type": "string"
      },
      "text/plain": [
       "'remembering going die best way know avoid trap thinking something lose steve jobs'"
      ]
     },
     "execution_count": 57,
     "metadata": {},
     "output_type": "execute_result"
    }
   ],
   "source": [
    "sentences[128]"
   ]
  },
  {
   "cell_type": "code",
   "execution_count": null,
   "id": "694b3edd-6eaa-474e-94ec-5cb94daba275",
   "metadata": {
    "colab": {
     "base_uri": "https://localhost:8080/",
     "height": 35
    },
    "id": "694b3edd-6eaa-474e-94ec-5cb94daba275",
    "outputId": "50019f94-53a6-47ff-ef5b-239b52998798"
   },
   "outputs": [
    {
     "data": {
      "application/vnd.google.colaboratory.intrinsic+json": {
       "type": "string"
      },
      "text/plain": [
       "'#RockyFire Update => California Hwy. 20 closed in both directions due to Lake County fire - #CAfire #wildfires'"
      ]
     },
     "execution_count": 49,
     "metadata": {},
     "output_type": "execute_result"
    }
   ],
   "source": [
    "train.loc[5,'text']"
   ]
  },
  {
   "cell_type": "code",
   "execution_count": null,
   "id": "F83XgxIN5xiC",
   "metadata": {
    "colab": {
     "base_uri": "https://localhost:8080/",
     "height": 35
    },
    "id": "F83XgxIN5xiC",
    "outputId": "2c6c541a-4565-419e-c4ae-9ad52177ae92"
   },
   "outputs": [
    {
     "data": {
      "application/vnd.google.colaboratory.intrinsic+json": {
       "type": "string"
      },
      "text/plain": [
       "'rockyfire update california hwy closed directions due lake county fire cafire wildfires'"
      ]
     },
     "execution_count": 50,
     "metadata": {},
     "output_type": "execute_result"
    }
   ],
   "source": [
    "sentences[5]"
   ]
  },
  {
   "cell_type": "code",
   "execution_count": null,
   "id": "YUFAhfQHSPqY",
   "metadata": {
    "colab": {
     "base_uri": "https://localhost:8080/",
     "height": 35
    },
    "id": "YUFAhfQHSPqY",
    "outputId": "d38e074c-1103-4732-b06e-d8bc2865c129"
   },
   "outputs": [
    {
     "data": {
      "application/vnd.google.colaboratory.intrinsic+json": {
       "type": "string"
      },
      "text/plain": [
       "'#AFRICANBAZE: Breaking news:Nigeria flag set ablaze in Aba. http://t.co/2nndBGwyEi'"
      ]
     },
     "execution_count": 58,
     "metadata": {},
     "output_type": "execute_result"
    }
   ],
   "source": [
    "train.loc[33,'text']"
   ]
  },
  {
   "cell_type": "code",
   "execution_count": null,
   "id": "v98Ds_ccihDN",
   "metadata": {
    "colab": {
     "base_uri": "https://localhost:8080/",
     "height": 35
    },
    "id": "v98Ds_ccihDN",
    "outputId": "bb62eb35-d04c-4656-fd92-60a8f31c167a"
   },
   "outputs": [
    {
     "data": {
      "application/vnd.google.colaboratory.intrinsic+json": {
       "type": "string"
      },
      "text/plain": [
       "\"\\x89ÛÏ@LeoBlakeCarter: This dog thinks he's an ambulance ?????? http://t.co/MG1lpGr0RM\\x89Û\\x9d@natasha_rideout\""
      ]
     },
     "execution_count": 59,
     "metadata": {},
     "output_type": "execute_result"
    }
   ],
   "source": [
    "train.loc[199,'text']"
   ]
  },
  {
   "cell_type": "code",
   "execution_count": null,
   "id": "TRiI3jrGij08",
   "metadata": {
    "colab": {
     "base_uri": "https://localhost:8080/",
     "height": 35
    },
    "id": "TRiI3jrGij08",
    "outputId": "1f1a65ca-10de-4521-86b7-274fcded97c6"
   },
   "outputs": [
    {
     "data": {
      "application/vnd.google.colaboratory.intrinsic+json": {
       "type": "string"
      },
      "text/plain": [
       "'leoblakecarter this dog thinks ambulance'"
      ]
     },
     "execution_count": 60,
     "metadata": {},
     "output_type": "execute_result"
    }
   ],
   "source": [
    "sentences[199]"
   ]
  },
  {
   "cell_type": "code",
   "execution_count": null,
   "id": "bFoJVPHVSPi_",
   "metadata": {
    "colab": {
     "base_uri": "https://localhost:8080/",
     "height": 35
    },
    "id": "bFoJVPHVSPi_",
    "outputId": "ffa135be-3529-4517-8bf2-12b6b1ec6c54"
   },
   "outputs": [
    {
     "data": {
      "application/vnd.google.colaboratory.intrinsic+json": {
       "type": "string"
      },
      "text/plain": [
       "'africanbaze breaking news nigeria flag set ablaze aba'"
      ]
     },
     "execution_count": 52,
     "metadata": {},
     "output_type": "execute_result"
    }
   ],
   "source": [
    "sentences[33]"
   ]
  },
  {
   "cell_type": "code",
   "execution_count": null,
   "id": "dn6vWbjpStlk",
   "metadata": {
    "colab": {
     "base_uri": "https://localhost:8080/",
     "height": 35
    },
    "id": "dn6vWbjpStlk",
    "outputId": "9ce383a6-e324-41b8-d59b-c58767d46b61"
   },
   "outputs": [
    {
     "data": {
      "application/vnd.google.colaboratory.intrinsic+json": {
       "type": "string"
      },
      "text/plain": [
       "'@bbcmtd Wholesale Markets ablaze http://t.co/lHYXEOHY6C'"
      ]
     },
     "execution_count": 53,
     "metadata": {},
     "output_type": "execute_result"
    }
   ],
   "source": [
    "train.loc[31,'text']"
   ]
  },
  {
   "cell_type": "code",
   "execution_count": null,
   "id": "gyIDwLJkSudu",
   "metadata": {
    "colab": {
     "base_uri": "https://localhost:8080/",
     "height": 35
    },
    "id": "gyIDwLJkSudu",
    "outputId": "4ac847db-eb30-42d3-b4a9-834c6a43c130"
   },
   "outputs": [
    {
     "data": {
      "application/vnd.google.colaboratory.intrinsic+json": {
       "type": "string"
      },
      "text/plain": [
       "'bbcmtd wholesale markets ablaze'"
      ]
     },
     "execution_count": 54,
     "metadata": {},
     "output_type": "execute_result"
    }
   ],
   "source": [
    "sentences[31]"
   ]
  },
  {
   "cell_type": "markdown",
   "id": "DeQEo89xSWmZ",
   "metadata": {
    "id": "DeQEo89xSWmZ"
   },
   "source": [
    "Train test split"
   ]
  },
  {
   "cell_type": "code",
   "execution_count": 27,
   "id": "J1Xa68WuSYLS",
   "metadata": {
    "id": "J1Xa68WuSYLS"
   },
   "outputs": [],
   "source": [
    "X_train, X_test, y_train, y_test = train_test_split(cleaned_train['cleaned_words'],cleaned_train['target'], random_state = 972, stratify=cleaned_train['target'])"
   ]
  },
  {
   "cell_type": "markdown",
   "id": "yQNraW2BR1Yx",
   "metadata": {
    "id": "yQNraW2BR1Yx"
   },
   "source": [
    "Ok now I tokenize(turn to numbers), and pad"
   ]
  },
  {
   "cell_type": "code",
   "execution_count": 28,
   "id": "VxGY9RoKRTfe",
   "metadata": {
    "id": "VxGY9RoKRTfe"
   },
   "outputs": [],
   "source": [
    "max_sequence_length = 100  # Adjust as needed\n",
    "max_words = 6000  # Adjust as needed\n",
    "\n",
    "tokenizer = Tokenizer(num_words=max_words, oov_token='<OOV>')\n",
    "tokenizer.fit_on_texts(X_train)\n",
    "\n",
    "X_train_seq = tokenizer.texts_to_sequences(X_train)\n",
    "X_test_seq = tokenizer.texts_to_sequences(X_test)\n",
    "\n",
    "X_train_padded = pad_sequences(X_train_seq, maxlen=max_sequence_length, padding='post',truncating='post')\n",
    "X_test_padded = pad_sequences(X_test_seq, maxlen=max_sequence_length, padding='post',truncating='post')"
   ]
  },
  {
   "cell_type": "code",
   "execution_count": 29,
   "id": "SeO3efaurzAz",
   "metadata": {
    "colab": {
     "base_uri": "https://localhost:8080/"
    },
    "id": "SeO3efaurzAz",
    "outputId": "cb7a223f-ecb9-4ed7-b940-d212b726b5a7"
   },
   "outputs": [
    {
     "data": {
      "text/plain": [
       "(5709, 100)"
      ]
     },
     "execution_count": 29,
     "metadata": {},
     "output_type": "execute_result"
    }
   ],
   "source": [
    "X_train_padded.shape"
   ]
  },
  {
   "cell_type": "markdown",
   "id": "dma1R12jTntJ",
   "metadata": {
    "id": "dma1R12jTntJ"
   },
   "source": [
    "Ok now I'm going to just downlaod the glove embeddings"
   ]
  },
  {
   "cell_type": "code",
   "execution_count": 31,
   "id": "sRnobIeQRTdC",
   "metadata": {
    "id": "sRnobIeQRTdC"
   },
   "outputs": [],
   "source": [
    "# Load pretrained GloVe embeddings\n",
    "embedding_dim = 25  # Adjust based on the chosen GloVe model dimension\n",
    "embedding_matrix = np.zeros((max_words, embedding_dim))\n",
    "\n",
    "glove_path = '/glove.twitter.27B.25d.txt'\n",
    "\n",
    "\n",
    "with open(glove_path, encoding='utf-8') as glove_file:\n",
    "    for line in glove_file:\n",
    "        values = line.split()\n",
    "        word = values[0]\n",
    "        if word in tokenizer.word_index and tokenizer.word_index[word] < max_words:\n",
    "            embedding_vector = np.array(values[1:], dtype='float32')\n",
    "            embedding_matrix[tokenizer.word_index[word]] = embedding_vector"
   ]
  },
  {
   "cell_type": "code",
   "execution_count": null,
   "id": "hU6id9-WRTaJ",
   "metadata": {
    "colab": {
     "base_uri": "https://localhost:8080/"
    },
    "id": "hU6id9-WRTaJ",
    "outputId": "d062a482-11b8-4cea-e063-54dfc8777b98"
   },
   "outputs": [
    {
     "data": {
      "text/plain": [
       "(6000, 25)"
      ]
     },
     "execution_count": 22,
     "metadata": {},
     "output_type": "execute_result"
    }
   ],
   "source": [
    "embedding_matrix.shape"
   ]
  },
  {
   "cell_type": "markdown",
   "id": "oqXSBR4OUb3J",
   "metadata": {
    "id": "oqXSBR4OUb3J"
   },
   "source": [
    "Try a Keras LSTM"
   ]
  },
  {
   "cell_type": "code",
   "execution_count": 32,
   "id": "scTHrrfmU6nu",
   "metadata": {
    "colab": {
     "base_uri": "https://localhost:8080/"
    },
    "id": "scTHrrfmU6nu",
    "outputId": "f089582c-7490-49a0-a54f-b67ea56072a8"
   },
   "outputs": [
    {
     "name": "stdout",
     "output_type": "stream",
     "text": [
      "Model: \"sequential\"\n",
      "_________________________________________________________________\n",
      " Layer (type)                Output Shape              Param #   \n",
      "=================================================================\n",
      " embedding (Embedding)       (None, 100, 25)           150000    \n",
      "                                                                 \n",
      " bidirectional (Bidirection  (None, 100, 128)          46080     \n",
      " al)                                                             \n",
      "                                                                 \n",
      " bidirectional_1 (Bidirecti  (None, 128)               98816     \n",
      " onal)                                                           \n",
      "                                                                 \n",
      " flatten (Flatten)           (None, 128)               0         \n",
      "                                                                 \n",
      " dense (Dense)               (None, 1)                 129       \n",
      "                                                                 \n",
      "=================================================================\n",
      "Total params: 295025 (1.13 MB)\n",
      "Trainable params: 295025 (1.13 MB)\n",
      "Non-trainable params: 0 (0.00 Byte)\n",
      "_________________________________________________________________\n"
     ]
    }
   ],
   "source": [
    "model = Sequential()\n",
    "model.add(Embedding(max_words, embedding_dim, input_length=max_sequence_length, weights=[embedding_matrix], trainable=True))\n",
    "model.add(Bidirectional(LSTM(64, return_sequences = True)))\n",
    "model.add(Bidirectional(LSTM(64,return_sequences = False)))\n",
    "model.add(Flatten())\n",
    "model.add(Dense(1, activation = 'sigmoid'))\n",
    "model.summary()"
   ]
  },
  {
   "cell_type": "code",
   "execution_count": 33,
   "id": "V6vdJQ3ZRTRZ",
   "metadata": {
    "id": "V6vdJQ3ZRTRZ"
   },
   "outputs": [],
   "source": [
    "model.compile(loss='binary_crossentropy', optimizer='adam', metrics=['accuracy'])\n"
   ]
  },
  {
   "cell_type": "code",
   "execution_count": 34,
   "id": "as9C0htlViLq",
   "metadata": {
    "colab": {
     "base_uri": "https://localhost:8080/"
    },
    "id": "as9C0htlViLq",
    "outputId": "56ab329f-2e3c-4299-937f-94ce4b71a3fa"
   },
   "outputs": [
    {
     "name": "stdout",
     "output_type": "stream",
     "text": [
      "Epoch 1/4\n",
      "90/90 [==============================] - 54s 515ms/step - loss: 0.5046 - accuracy: 0.7667 - val_loss: 0.4512 - val_accuracy: 0.8004\n",
      "Epoch 2/4\n",
      "90/90 [==============================] - 36s 406ms/step - loss: 0.4315 - accuracy: 0.8066 - val_loss: 0.4355 - val_accuracy: 0.8072\n",
      "Epoch 3/4\n",
      "90/90 [==============================] - 40s 441ms/step - loss: 0.4001 - accuracy: 0.8283 - val_loss: 0.4462 - val_accuracy: 0.7957\n",
      "Epoch 4/4\n",
      "90/90 [==============================] - 38s 428ms/step - loss: 0.3694 - accuracy: 0.8422 - val_loss: 0.4260 - val_accuracy: 0.8125\n"
     ]
    },
    {
     "data": {
      "text/plain": [
       "<keras.src.callbacks.History at 0x7a58c0491600>"
      ]
     },
     "execution_count": 34,
     "metadata": {},
     "output_type": "execute_result"
    }
   ],
   "source": [
    "model.fit(X_train_padded,\n",
    "          np.asarray(y_train),\n",
    "          validation_data = (X_test_padded, np.asarray(y_test)),\n",
    "          epochs=4,\n",
    "          batch_size=64)\n",
    "\n",
    "\n"
   ]
  },
  {
   "cell_type": "markdown",
   "id": "u43-aOV1GeXv",
   "metadata": {
    "id": "u43-aOV1GeXv"
   },
   "source": [
    "Ok, time to get the kaggle submission ready"
   ]
  },
  {
   "cell_type": "code",
   "execution_count": 36,
   "id": "j7eNW4VsG09o",
   "metadata": {
    "id": "j7eNW4VsG09o"
   },
   "outputs": [],
   "source": [
    "max_sequence_length = 100  # Adjust as needed\n",
    "max_words = 6000  # Adjust as needed\n",
    "\n",
    "X_kaggle_seq = tokenizer.texts_to_sequences(cleaned_test['cleaned_words'])\n",
    "\n",
    "X_kaggle_padded = pad_sequences(X_kaggle_seq, maxlen=max_sequence_length, padding='post',truncating='post')\n"
   ]
  },
  {
   "cell_type": "code",
   "execution_count": 39,
   "id": "fbuSbinaG1qQ",
   "metadata": {
    "colab": {
     "base_uri": "https://localhost:8080/"
    },
    "id": "fbuSbinaG1qQ",
    "outputId": "7af551bf-68e3-4c88-982a-1783a8c596d0"
   },
   "outputs": [
    {
     "name": "stdout",
     "output_type": "stream",
     "text": [
      "102/102 [==============================] - 8s 81ms/step\n"
     ]
    }
   ],
   "source": [
    "predictions = model.predict(X_kaggle_padded)"
   ]
  },
  {
   "cell_type": "code",
   "execution_count": 40,
   "id": "r_lzsnZ7G1hv",
   "metadata": {
    "id": "r_lzsnZ7G1hv"
   },
   "outputs": [],
   "source": [
    "binary_predictions = (predictions > 0.5).astype(int)"
   ]
  },
  {
   "cell_type": "code",
   "execution_count": 42,
   "id": "SlqgTFThG1d2",
   "metadata": {
    "id": "SlqgTFThG1d2"
   },
   "outputs": [],
   "source": [
    "kaggle_submission = cleaned_test.drop(columns=['keyword', 'location', 'text', 'cleaned_words', 'stems']) # everything but 'id'\n",
    "kaggle_submission['target'] = binary_predictions"
   ]
  },
  {
   "cell_type": "code",
   "execution_count": 45,
   "id": "r4yUi-hqKfDy",
   "metadata": {
    "id": "r4yUi-hqKfDy"
   },
   "outputs": [],
   "source": [
    "kaggle_submission.to_csv('test_submission.csv', index=False)"
   ]
  },
  {
   "cell_type": "code",
   "execution_count": 41,
   "id": "ymPS9-WdJ0Xf",
   "metadata": {
    "colab": {
     "base_uri": "https://localhost:8080/"
    },
    "id": "ymPS9-WdJ0Xf",
    "outputId": "ede1e4ea-769d-4a2c-de1e-4b45f8c61837"
   },
   "outputs": [
    {
     "data": {
      "text/plain": [
       "Index(['id', 'keyword', 'location', 'text', 'cleaned_words', 'stems'], dtype='object')"
      ]
     },
     "execution_count": 41,
     "metadata": {},
     "output_type": "execute_result"
    }
   ],
   "source": [
    "cleaned_test.columns"
   ]
  },
  {
   "cell_type": "code",
   "execution_count": null,
   "id": "1e5-vPigeUm6",
   "metadata": {
    "id": "1e5-vPigeUm6"
   },
   "outputs": [],
   "source": [
    "import pickle\n",
    "\n",
    "with open('arjun_model.pkl', 'wb') as file:\n",
    "    # A new file will be created\n",
    "    pickle.dump(model, file)"
   ]
  },
  {
   "cell_type": "markdown",
   "id": "uR5dwiT1Nqk5",
   "metadata": {
    "id": "uR5dwiT1Nqk5"
   },
   "source": [
    "# Trying out making our own embeddings using word2vec"
   ]
  },
  {
   "cell_type": "code",
   "execution_count": null,
   "id": "iAKnQgneITEo",
   "metadata": {
    "id": "iAKnQgneITEo"
   },
   "outputs": [],
   "source": [
    "# Train a word2vec model!\n",
    "wv = Word2Vec(sentences=sentences,      # Corpus of data.\n",
    "              vector_size=30,    # How many dimensions do you want in your word vector?\n",
    "              window=4,    # How many \"context words\" do you want?\n",
    "              min_count=1, # Ignores words below this threshold.\n",
    "              sg=0,        # SG = 1 uses SkipGram, SG = 0 uses CBOW (default).\n",
    "              workers=4)   # Number of \"worker threads\" to use (parallelizes process).c"
   ]
  },
  {
   "cell_type": "code",
   "execution_count": null,
   "id": "lHTUbgcHKlD7",
   "metadata": {
    "colab": {
     "base_uri": "https://localhost:8080/"
    },
    "collapsed": true,
    "id": "lHTUbgcHKlD7",
    "jupyter": {
     "outputs_hidden": true
    },
    "outputId": "a922d7c3-6bbd-4d99-c0c8-4c59a3374a5e",
    "tags": []
   },
   "outputs": [
    {
     "data": {
      "text/plain": [
       "[('since', 0.9988051056861877),\n",
       " ('us', 0.9983085989952087),\n",
       " ('amp', 0.9983000755310059),\n",
       " ('best', 0.9982950687408447),\n",
       " ('first', 0.9980924129486084),\n",
       " ('you', 0.9980767369270325),\n",
       " ('like', 0.9980363845825195),\n",
       " ('red', 0.9980309009552002),\n",
       " ('new', 0.9980042576789856),\n",
       " ('day', 0.99798983335495),\n",
       " ('in', 0.997977614402771),\n",
       " ('county', 0.99797523021698),\n",
       " ('he', 0.9979395866394043),\n",
       " ('run', 0.9978729486465454),\n",
       " ('my', 0.9978727698326111),\n",
       " ('the', 0.9978623390197754),\n",
       " ('even', 0.997861921787262),\n",
       " ('2', 0.9978586435317993),\n",
       " ('fires', 0.9978358149528503),\n",
       " ('food', 0.9978311061859131),\n",
       " ('would', 0.9978294372558594),\n",
       " ('live', 0.9978278279304504),\n",
       " ('emergency', 0.9978129863739014),\n",
       " ('many', 0.9977896809577942),\n",
       " ('two', 0.9977848529815674),\n",
       " ('still', 0.9977837800979614),\n",
       " ('collapse', 0.9977515339851379),\n",
       " ('fire', 0.9977496862411499),\n",
       " ('i', 0.9977399706840515),\n",
       " ('back', 0.997736930847168),\n",
       " ('3', 0.9976901412010193),\n",
       " ('crash', 0.9976752400398254),\n",
       " ('china', 0.9976679682731628),\n",
       " ('storm', 0.997635006904602),\n",
       " ('5', 0.9976224899291992),\n",
       " ('body', 0.9976174831390381),\n",
       " ('life', 0.9975783824920654),\n",
       " ('hurricane', 0.9975530505180359),\n",
       " ('one', 0.997530460357666),\n",
       " ('services', 0.9975254535675049),\n",
       " ('hiroshima', 0.9975078105926514),\n",
       " ('everyone', 0.9975054264068604),\n",
       " ('explosion', 0.9974967241287231),\n",
       " ('world', 0.9974944591522217),\n",
       " ('people', 0.9974818825721741),\n",
       " ('s', 0.9974814057350159),\n",
       " ('4', 0.997458815574646),\n",
       " ('left', 0.9974541068077087),\n",
       " ('cause', 0.9974501729011536),\n",
       " ('please', 0.9974439144134521),\n",
       " ('it', 0.9974433779716492),\n",
       " ('could', 0.9974380135536194),\n",
       " ('said', 0.997437059879303),\n",
       " ('police', 0.9974339604377747),\n",
       " ('chemical', 0.9974284172058105),\n",
       " ('battle', 0.9974256157875061),\n",
       " ('1', 0.997411847114563),\n",
       " ('inundated', 0.9974095225334167),\n",
       " ('don', 0.9974029660224915),\n",
       " ('injury', 0.9974004626274109),\n",
       " ('order', 0.9973981976509094),\n",
       " ('good', 0.9973915219306946),\n",
       " ('flood', 0.9973915219306946),\n",
       " ('on', 0.9973913431167603),\n",
       " ('may', 0.9973847270011902),\n",
       " ('9', 0.9973747730255127),\n",
       " ('thunder', 0.9973745942115784),\n",
       " ('got', 0.9973673224449158),\n",
       " ('today', 0.9973646402359009),\n",
       " ('really', 0.9973582625389099),\n",
       " ('hot', 0.9973383545875549),\n",
       " ('time', 0.997321605682373),\n",
       " ('ûªs', 0.9973151683807373),\n",
       " ('much', 0.9973143339157104),\n",
       " ('getting', 0.9973021745681763),\n",
       " ('for', 0.9972929358482361),\n",
       " ('2015', 0.9972922801971436),\n",
       " ('way', 0.9972916841506958),\n",
       " ('help', 0.9972794651985168),\n",
       " ('lightning', 0.9972674250602722),\n",
       " ('death', 0.9972661733627319),\n",
       " ('plan', 0.997258722782135),\n",
       " ('make', 0.9972517490386963),\n",
       " ('we', 0.997251570224762),\n",
       " ('near', 0.9972499012947083),\n",
       " ('deluge', 0.9972413778305054),\n",
       " ('flooding', 0.9972347021102905),\n",
       " ('take', 0.9972226023674011),\n",
       " ('rt', 0.9972168207168579),\n",
       " ('face', 0.9972109794616699),\n",
       " ('military', 0.9972077012062073),\n",
       " ('hit', 0.9972069263458252),\n",
       " ('refugees', 0.9971998333930969),\n",
       " ('15', 0.9971970915794373),\n",
       " ('how', 0.9971967339515686),\n",
       " ('man', 0.9971964955329895),\n",
       " ('û', 0.9971946477890015),\n",
       " ('burning', 0.997189462184906),\n",
       " ('blood', 0.9971856474876404),\n",
       " ('survive', 0.9971806406974792)]"
      ]
     },
     "execution_count": 50,
     "metadata": {},
     "output_type": "execute_result"
    }
   ],
   "source": [
    "wv.wv.most_similar('women', topn=100)"
   ]
  },
  {
   "cell_type": "markdown",
   "id": "KG9zhAfBN0HR",
   "metadata": {
    "id": "KG9zhAfBN0HR"
   },
   "source": [
    "Ok turns out, gensim already has pretrained embedding eights in it\n"
   ]
  },
  {
   "cell_type": "code",
   "execution_count": null,
   "id": "pzcoDJufN3sQ",
   "metadata": {
    "colab": {
     "base_uri": "https://localhost:8080/"
    },
    "id": "pzcoDJufN3sQ",
    "outputId": "a0282d8d-3dd9-4516-e5a5-785240dd56af"
   },
   "outputs": [
    {
     "data": {
      "text/plain": [
       "['fasttext-wiki-news-subwords-300',\n",
       " 'conceptnet-numberbatch-17-06-300',\n",
       " 'word2vec-ruscorpora-300',\n",
       " 'word2vec-google-news-300',\n",
       " 'glove-wiki-gigaword-50',\n",
       " 'glove-wiki-gigaword-100',\n",
       " 'glove-wiki-gigaword-200',\n",
       " 'glove-wiki-gigaword-300',\n",
       " 'glove-twitter-25',\n",
       " 'glove-twitter-50',\n",
       " 'glove-twitter-100',\n",
       " 'glove-twitter-200',\n",
       " '__testing_word2vec-matrix-synopsis']"
      ]
     },
     "execution_count": 44,
     "metadata": {},
     "output_type": "execute_result"
    }
   ],
   "source": [
    "list(gensim.downloader.info()['models'].keys())"
   ]
  },
  {
   "cell_type": "code",
   "execution_count": null,
   "id": "Xx0DCctmOAeZ",
   "metadata": {
    "colab": {
     "base_uri": "https://localhost:8080/"
    },
    "id": "Xx0DCctmOAeZ",
    "outputId": "45b63bd2-b3fc-4ae9-d09c-fb3f0c38278c"
   },
   "outputs": [
    {
     "name": "stdout",
     "output_type": "stream",
     "text": [
      "[==================================================] 100.0% 104.8/104.8MB downloaded\n"
     ]
    }
   ],
   "source": [
    "glove_vectors = gensim.downloader.load('glove-twitter-25')"
   ]
  },
  {
   "cell_type": "code",
   "execution_count": null,
   "id": "J0JhXU1zOREb",
   "metadata": {
    "colab": {
     "base_uri": "https://localhost:8080/",
     "height": 175
    },
    "id": "J0JhXU1zOREb",
    "outputId": "05017f7a-39b3-45f6-b7a3-25691e849faf"
   },
   "outputs": [
    {
     "ename": "AttributeError",
     "evalue": "ignored",
     "output_type": "error",
     "traceback": [
      "\u001b[0;31m---------------------------------------------------------------------------\u001b[0m",
      "\u001b[0;31mAttributeError\u001b[0m                            Traceback (most recent call last)",
      "\u001b[0;32m<ipython-input-48-9ff13c6ff90f>\u001b[0m in \u001b[0;36m<cell line: 1>\u001b[0;34m()\u001b[0m\n\u001b[0;32m----> 1\u001b[0;31m \u001b[0mglove_vectors\u001b[0m\u001b[0;34m.\u001b[0m\u001b[0mkeys\u001b[0m\u001b[0;34m(\u001b[0m\u001b[0;34m)\u001b[0m\u001b[0;34m\u001b[0m\u001b[0;34m\u001b[0m\u001b[0m\n\u001b[0m",
      "\u001b[0;31mAttributeError\u001b[0m: 'KeyedVectors' object has no attribute 'keys'"
     ]
    }
   ],
   "source": [
    "glove_vectors.mos()"
   ]
  },
  {
   "cell_type": "markdown",
   "id": "moTYcIVNicKb",
   "metadata": {
    "id": "moTYcIVNicKb"
   },
   "source": [
    "# ok now, I will use tfidf with the stemmed words\n"
   ]
  },
  {
   "cell_type": "code",
   "execution_count": null,
   "id": "t4MRZCLDihpy",
   "metadata": {
    "id": "t4MRZCLDihpy",
    "outputId": "ea4852ad-3ff4-4f8c-ceb0-90b6dcebc864",
    "tags": []
   },
   "outputs": [
    {
     "ename": "NameError",
     "evalue": "name 'stems' is not defined",
     "output_type": "error",
     "traceback": [
      "\u001b[1;31m---------------------------------------------------------------------------\u001b[0m",
      "\u001b[1;31mNameError\u001b[0m                                 Traceback (most recent call last)",
      "Cell \u001b[1;32mIn[8], line 1\u001b[0m\n\u001b[1;32m----> 1\u001b[0m X_train, X_test, y_train, y_test \u001b[38;5;241m=\u001b[39m train_test_split(stems,labels, random_state \u001b[38;5;241m=\u001b[39m \u001b[38;5;241m972\u001b[39m, stratify\u001b[38;5;241m=\u001b[39mlabels)\n",
      "\u001b[1;31mNameError\u001b[0m: name 'stems' is not defined"
     ]
    }
   ],
   "source": [
    "X_train, X_test, y_train, y_test = train_test_split(stems,labels, random_state = 972, stratify=labels)"
   ]
  },
  {
   "cell_type": "code",
   "execution_count": null,
   "id": "YBg771aoiuhC",
   "metadata": {
    "colab": {
     "base_uri": "https://localhost:8080/"
    },
    "id": "YBg771aoiuhC",
    "outputId": "42e8865e-ae81-42ef-a6ba-4dda7cb88650"
   },
   "outputs": [
    {
     "data": {
      "text/plain": [
       "['polic', 'offic', 'wound', 'suspect', 'dead', 'after', 'exchang', 'shot']"
      ]
     },
     "execution_count": 93,
     "metadata": {},
     "output_type": "execute_result"
    }
   ],
   "source": [
    "X_train[0]"
   ]
  },
  {
   "cell_type": "code",
   "execution_count": null,
   "id": "l1VPhYNQamlI",
   "metadata": {
    "colab": {
     "base_uri": "https://localhost:8080/"
    },
    "id": "l1VPhYNQamlI",
    "outputId": "17f8d03c-cd70-4bfe-b005-f6db19dd1d5d"
   },
   "outputs": [
    {
     "data": {
      "text/plain": [
       "7613"
      ]
     },
     "execution_count": 12,
     "metadata": {},
     "output_type": "execute_result"
    }
   ],
   "source": [
    "len(text)"
   ]
  },
  {
   "cell_type": "code",
   "execution_count": null,
   "id": "0c39dfb0-80e1-4614-9ae8-2cd15d0aca63",
   "metadata": {
    "colab": {
     "base_uri": "https://localhost:8080/",
     "height": 35
    },
    "id": "0c39dfb0-80e1-4614-9ae8-2cd15d0aca63",
    "outputId": "2d7900b4-ff73-4ced-cb2e-4e194e051c37"
   },
   "outputs": [
    {
     "data": {
      "application/vnd.google.colaboratory.intrinsic+json": {
       "type": "string"
      },
      "text/plain": [
       "'#RockyFire Update => California Hwy. 20 closed in both directions due to Lake County fire - #CAfire #wildfires'"
      ]
     },
     "execution_count": 9,
     "metadata": {},
     "output_type": "execute_result"
    }
   ],
   "source": [
    "train.loc[5,'text']"
   ]
  },
  {
   "cell_type": "code",
   "execution_count": null,
   "id": "e72RlNKTaHnl",
   "metadata": {
    "colab": {
     "base_uri": "https://localhost:8080/",
     "height": 35
    },
    "id": "e72RlNKTaHnl",
    "outputId": "5b815b0d-7cdb-4301-bf6f-e6a15f5034d2"
   },
   "outputs": [
    {
     "data": {
      "application/vnd.google.colaboratory.intrinsic+json": {
       "type": "string"
      },
      "text/plain": [
       "'rockyfir updat california hwi 20 close direct due lake counti fire cafir wildfir'"
      ]
     },
     "execution_count": 10,
     "metadata": {},
     "output_type": "execute_result"
    }
   ],
   "source": [
    "text[5]"
   ]
  },
  {
   "cell_type": "code",
   "execution_count": null,
   "id": "v4rOnyQVgOav",
   "metadata": {
    "id": "v4rOnyQVgOav"
   },
   "outputs": [],
   "source": [
    "vocab_size = 5000 # Max number of words\n",
    "embedding_dim = 64 # Word Vector dimension\n",
    "max_length = 200 # Max length of the sequence\n",
    "trunc_type = 'post' # where to chop off\n",
    "padding_type = 'post' # where to put the padding\n",
    "oov_tok = '<OOV>'\n",
    "\n",
    "tokenizer = Tokenizer(num_words=vocab_size, oov_token=oov_tok)\n",
    "\n",
    "tokenizer.fit_on_texts(text)\n"
   ]
  },
  {
   "cell_type": "code",
   "execution_count": null,
   "id": "_ePHUrhiggwm",
   "metadata": {
    "id": "_ePHUrhiggwm"
   },
   "outputs": [],
   "source": [
    "text_numbered = tokenizer.texts_to_sequences(text)"
   ]
  },
  {
   "cell_type": "code",
   "execution_count": null,
   "id": "jzCoL3x8g0ml",
   "metadata": {
    "colab": {
     "base_uri": "https://localhost:8080/"
    },
    "id": "jzCoL3x8g0ml",
    "outputId": "bf249032-c2a0-4829-cb60-1cfab27b482e"
   },
   "outputs": [
    {
     "data": {
      "text/plain": [
       "[2678, 242, 60, 1421, 681, 394, 907, 551, 1004, 418, 8, 3970, 134]"
      ]
     },
     "execution_count": 13,
     "metadata": {},
     "output_type": "execute_result"
    }
   ],
   "source": [
    "text_numbered[5]"
   ]
  },
  {
   "cell_type": "code",
   "execution_count": null,
   "id": "kD8YRw8JhDKe",
   "metadata": {
    "id": "kD8YRw8JhDKe"
   },
   "outputs": [],
   "source": [
    "text_padded = pad_sequences(text_numbered, maxlen=max_length, padding= padding_type,truncating = trunc_type)"
   ]
  },
  {
   "cell_type": "code",
   "execution_count": null,
   "id": "x4tPmTA0hJeW",
   "metadata": {
    "colab": {
     "base_uri": "https://localhost:8080/"
    },
    "id": "x4tPmTA0hJeW",
    "outputId": "0d2f294b-aa44-4332-bd80-fe7c1b058a0a"
   },
   "outputs": [
    {
     "data": {
      "text/plain": [
       "array([2678,  242,   60, 1421,  681,  394,  907,  551, 1004,  418,    8,\n",
       "       3970,  134,    0,    0,    0,    0,    0,    0,    0,    0,    0,\n",
       "          0,    0,    0,    0,    0,    0,    0,    0,    0,    0,    0,\n",
       "          0,    0,    0,    0,    0,    0,    0,    0,    0,    0,    0,\n",
       "          0,    0,    0,    0,    0,    0,    0,    0,    0,    0,    0,\n",
       "          0,    0,    0,    0,    0,    0,    0,    0,    0,    0,    0,\n",
       "          0,    0,    0,    0,    0,    0,    0,    0,    0,    0,    0,\n",
       "          0,    0,    0,    0,    0,    0,    0,    0,    0,    0,    0,\n",
       "          0,    0,    0,    0,    0,    0,    0,    0,    0,    0,    0,\n",
       "          0,    0,    0,    0,    0,    0,    0,    0,    0,    0,    0,\n",
       "          0,    0,    0,    0,    0,    0,    0,    0,    0,    0,    0,\n",
       "          0,    0,    0,    0,    0,    0,    0,    0,    0,    0,    0,\n",
       "          0,    0,    0,    0,    0,    0,    0,    0,    0,    0,    0,\n",
       "          0,    0,    0,    0,    0,    0,    0,    0,    0,    0,    0,\n",
       "          0,    0,    0,    0,    0,    0,    0,    0,    0,    0,    0,\n",
       "          0,    0,    0,    0,    0,    0,    0,    0,    0,    0,    0,\n",
       "          0,    0,    0,    0,    0,    0,    0,    0,    0,    0,    0,\n",
       "          0,    0,    0,    0,    0,    0,    0,    0,    0,    0,    0,\n",
       "          0,    0], dtype=int32)"
      ]
     },
     "execution_count": 15,
     "metadata": {},
     "output_type": "execute_result"
    }
   ],
   "source": [
    "text_padded[5]"
   ]
  },
  {
   "cell_type": "code",
   "execution_count": null,
   "id": "RFvT-jF1jpDv",
   "metadata": {
    "id": "RFvT-jF1jpDv"
   },
   "outputs": [],
   "source": [
    "X_train, X_test, y_train, y_test = train_test_split(np.asarray(text_padded),np.asarray(labels), random_state = 972)"
   ]
  },
  {
   "cell_type": "code",
   "execution_count": null,
   "id": "o-U0M9S-lZ5u",
   "metadata": {
    "id": "o-U0M9S-lZ5u"
   },
   "outputs": [],
   "source": []
  },
  {
   "cell_type": "code",
   "execution_count": null,
   "id": "DKQqfrbuhbSI",
   "metadata": {
    "colab": {
     "base_uri": "https://localhost:8080/"
    },
    "id": "DKQqfrbuhbSI",
    "outputId": "fecc355b-f5a5-4cb0-f256-024f38259d73"
   },
   "outputs": [
    {
     "name": "stdout",
     "output_type": "stream",
     "text": [
      "Model: \"sequential_14\"\n",
      "_________________________________________________________________\n",
      " Layer (type)                Output Shape              Param #   \n",
      "=================================================================\n",
      " embedding_10 (Embedding)    (None, 200, 5)            25000     \n",
      "                                                                 \n",
      " bidirectional_19 (Bidirect  (None, 64)                9728      \n",
      " ional)                                                          \n",
      "                                                                 \n",
      " dense_18 (Dense)            (None, 32)                2080      \n",
      "                                                                 \n",
      " dropout_8 (Dropout)         (None, 32)                0         \n",
      "                                                                 \n",
      " dense_19 (Dense)            (None, 1)                 33        \n",
      "                                                                 \n",
      "=================================================================\n",
      "Total params: 36841 (143.91 KB)\n",
      "Trainable params: 36841 (143.91 KB)\n",
      "Non-trainable params: 0 (0.00 Byte)\n",
      "_________________________________________________________________\n"
     ]
    }
   ],
   "source": [
    "# @title Default title text\n",
    "from tensorflow.keras.layers import Bidirectional\n",
    "\n",
    "model = Sequential()\n",
    "model.add(Embedding(vocab_size, 5, input_length = max_length))\n",
    "#model.add(LSTM(16, return_sequences = True))\n",
    "model.add(Bidirectional(LSTM(32)))\n",
    "model.add(Dense(32,activation = 'relu'))\n",
    "model.add(Dropout(0.2))\n",
    "model.add(Dense(1, activation = 'sigmoid'))\n",
    "\n",
    "model.summary()"
   ]
  },
  {
   "cell_type": "code",
   "execution_count": null,
   "id": "wfEjyq_-hbPX",
   "metadata": {
    "id": "wfEjyq_-hbPX"
   },
   "outputs": [],
   "source": [
    "model.compile(loss = 'bce', optimizer = 'adam', metrics = ['acc'])\n"
   ]
  },
  {
   "cell_type": "code",
   "execution_count": null,
   "id": "SjWt4EE_kZdG",
   "metadata": {
    "colab": {
     "base_uri": "https://localhost:8080/"
    },
    "id": "SjWt4EE_kZdG",
    "outputId": "db2921bc-d482-47fc-ce74-d8d0279764c8"
   },
   "outputs": [
    {
     "data": {
      "text/plain": [
       "(200,)"
      ]
     },
     "execution_count": 61,
     "metadata": {},
     "output_type": "execute_result"
    }
   ],
   "source": [
    "X_train[0].shape"
   ]
  },
  {
   "cell_type": "code",
   "execution_count": null,
   "id": "wZZNyrNJhbM-",
   "metadata": {
    "colab": {
     "base_uri": "https://localhost:8080/"
    },
    "id": "wZZNyrNJhbM-",
    "outputId": "9309b37f-0c15-4eea-e59f-74a273693f57"
   },
   "outputs": [
    {
     "name": "stdout",
     "output_type": "stream",
     "text": [
      "Epoch 1/10\n",
      "23/23 [==============================] - 10s 222ms/step - loss: 0.6853 - acc: 0.5670 - val_loss: 0.6816 - val_acc: 0.5683\n",
      "Epoch 2/10\n",
      "23/23 [==============================] - 5s 225ms/step - loss: 0.6725 - acc: 0.5710 - val_loss: 0.6598 - val_acc: 0.5683\n",
      "Epoch 3/10\n",
      "23/23 [==============================] - 3s 119ms/step - loss: 0.6196 - acc: 0.6716 - val_loss: 0.6015 - val_acc: 0.7096\n",
      "Epoch 4/10\n",
      "23/23 [==============================] - 3s 138ms/step - loss: 0.5136 - acc: 0.7849 - val_loss: 0.4947 - val_acc: 0.7747\n",
      "Epoch 5/10\n",
      "23/23 [==============================] - 3s 144ms/step - loss: 0.3960 - acc: 0.8364 - val_loss: 0.4792 - val_acc: 0.7784\n",
      "Epoch 6/10\n",
      "23/23 [==============================] - 3s 113ms/step - loss: 0.3316 - acc: 0.8662 - val_loss: 0.4935 - val_acc: 0.7915\n",
      "Epoch 7/10\n",
      "23/23 [==============================] - 2s 86ms/step - loss: 0.2893 - acc: 0.8861 - val_loss: 0.4977 - val_acc: 0.7857\n",
      "Epoch 8/10\n",
      "23/23 [==============================] - 2s 62ms/step - loss: 0.2503 - acc: 0.9056 - val_loss: 0.5181 - val_acc: 0.7862\n",
      "Epoch 9/10\n",
      "23/23 [==============================] - 1s 53ms/step - loss: 0.2216 - acc: 0.9205 - val_loss: 0.5491 - val_acc: 0.7889\n",
      "Epoch 10/10\n",
      "23/23 [==============================] - 1s 54ms/step - loss: 0.1992 - acc: 0.9280 - val_loss: 0.5920 - val_acc: 0.7820\n"
     ]
    },
    {
     "data": {
      "text/plain": [
       "<keras.src.callbacks.History at 0x7ddff6e76710>"
      ]
     },
     "execution_count": 62,
     "metadata": {},
     "output_type": "execute_result"
    }
   ],
   "source": [
    "model.fit(X_train, y_train, validation_data = (X_test, y_test),\n",
    "          batch_size = 256, epochs = 10)"
   ]
  },
  {
   "cell_type": "code",
   "execution_count": null,
   "id": "WA6ogkPehbKe",
   "metadata": {
    "id": "WA6ogkPehbKe"
   },
   "outputs": [],
   "source": []
  },
  {
   "cell_type": "code",
   "execution_count": null,
   "id": "V8EZrJXwhbHG",
   "metadata": {
    "id": "V8EZrJXwhbHG"
   },
   "outputs": [],
   "source": []
  },
  {
   "cell_type": "code",
   "execution_count": null,
   "id": "FDOuDmbVha_X",
   "metadata": {
    "id": "FDOuDmbVha_X"
   },
   "outputs": [],
   "source": []
  },
  {
   "cell_type": "markdown",
   "id": "ANv1dhRHdSQW",
   "metadata": {
    "id": "ANv1dhRHdSQW"
   },
   "source": [
    "Ok now doing word2vec"
   ]
  },
  {
   "cell_type": "code",
   "execution_count": null,
   "id": "4APCEtj7fus2",
   "metadata": {
    "id": "4APCEtj7fus2"
   },
   "outputs": [],
   "source": []
  },
  {
   "cell_type": "code",
   "execution_count": null,
   "id": "PZa0zj8Rfuf-",
   "metadata": {
    "id": "PZa0zj8Rfuf-"
   },
   "outputs": [],
   "source": []
  },
  {
   "cell_type": "code",
   "execution_count": null,
   "id": "zLW4F8ABfuRW",
   "metadata": {
    "id": "zLW4F8ABfuRW"
   },
   "outputs": [],
   "source": []
  },
  {
   "cell_type": "code",
   "execution_count": null,
   "id": "-GN_j991aV8M",
   "metadata": {
    "id": "-GN_j991aV8M"
   },
   "outputs": [],
   "source": [
    "# Train a model!\n",
    "wv = Word2Vec(corpus,      # Corpus of data.\n",
    "              size=100,    # How many dimensions do you want in your word vector?\n",
    "              window=2,    # How many \"context words\" do you want?\n",
    "              min_count=1, # Ignores words below this threshold.\n",
    "              sg=0,        # SG = 1 uses SkipGram, SG = 0 uses CBOW (default).\n",
    "              workers=4)   # Number of \"worker threads\" to use (parallelizes process).\n"
   ]
  }
 ],
 "metadata": {
  "accelerator": "GPU",
  "colab": {
   "gpuType": "T4",
   "provenance": []
  },
  "kernelspec": {
   "display_name": "Python 3 (ipykernel)",
   "language": "python",
   "name": "python3"
  },
  "language_info": {
   "codemirror_mode": {
    "name": "ipython",
    "version": 3
   },
   "file_extension": ".py",
   "mimetype": "text/x-python",
   "name": "python",
   "nbconvert_exporter": "python",
   "pygments_lexer": "ipython3",
   "version": "3.9.17"
  }
 },
 "nbformat": 4,
 "nbformat_minor": 5
}
