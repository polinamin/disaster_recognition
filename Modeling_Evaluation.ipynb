{
  "cells": [
    {
      "cell_type": "markdown",
      "id": "41e99efe-0971-47cd-a46b-784ab52278bb",
      "metadata": {
        "id": "41e99efe-0971-47cd-a46b-784ab52278bb"
      },
      "source": [
        "# LSTM and Glove Embeddings"
      ]
    },
    {
      "cell_type": "markdown",
      "id": "13326c69-468d-4007-a531-729263151501",
      "metadata": {
        "id": "13326c69-468d-4007-a531-729263151501"
      },
      "source": [
        "Works on Colab"
      ]
    },
    {
      "cell_type": "code",
      "execution_count": 22,
      "id": "1e3913e2-4f3e-4b59-b81a-0555c7601644",
      "metadata": {
        "colab": {
          "base_uri": "https://localhost:8080/"
        },
        "id": "1e3913e2-4f3e-4b59-b81a-0555c7601644",
        "outputId": "215aa7c5-e432-47d8-ffef-7158f6b0cf56",
        "tags": []
      },
      "outputs": [
        {
          "output_type": "stream",
          "name": "stderr",
          "text": [
            "[nltk_data] Downloading package stopwords to /root/nltk_data...\n",
            "[nltk_data]   Package stopwords is already up-to-date!\n"
          ]
        }
      ],
      "source": [
        "import pandas as pd\n",
        "import numpy as np\n",
        "import matplotlib.pyplot as plt\n",
        "import seaborn as sns\n",
        "\n",
        "from sklearn.model_selection import train_test_split, GridSearchCV\n",
        "from sklearn.preprocessing import LabelEncoder, StandardScaler\n",
        "from sklearn.pipeline import Pipeline\n",
        "from sklearn.naive_bayes import MultinomialNB\n",
        "from sklearn.linear_model import LogisticRegression\n",
        "from sklearn.metrics import confusion_matrix, ConfusionMatrixDisplay\n",
        "from sklearn.feature_extraction.text import CountVectorizer, TfidfVectorizer\n",
        "\n",
        "import re\n",
        "import nltk\n",
        "nltk.download('stopwords')\n",
        "from nltk.stem import PorterStemmer\n",
        "\n",
        "from tensorflow.keras.preprocessing.text import Tokenizer\n",
        "from tensorflow.keras.preprocessing.sequence import pad_sequences\n",
        "from tensorflow.keras.layers import Dense, LSTM, Embedding, Input, Dropout, Bidirectional, Flatten\n",
        "from tensorflow.keras.models import Sequential\n",
        "\n",
        "\n",
        "from gensim.models.word2vec import Word2Vec\n",
        "import gensim.downloader"
      ]
    },
    {
      "cell_type": "markdown",
      "source": [
        "Juat using text"
      ],
      "metadata": {
        "id": "9ZJabGEG3w8F"
      },
      "id": "9ZJabGEG3w8F"
    },
    {
      "cell_type": "code",
      "execution_count": 2,
      "id": "d137cd2d-be04-479b-924b-541702e94d58",
      "metadata": {
        "id": "d137cd2d-be04-479b-924b-541702e94d58"
      },
      "outputs": [],
      "source": [
        "df_train = pd.read_csv(\"train.csv\")\n",
        "df_test = pd.read_csv(\"test.csv\")\n",
        "\n",
        "train = df_train.drop(columns=['id','keyword','location'])\n",
        "test =  df_test.drop(columns=['id','keyword','location'])\n",
        "\n",
        "# X = df_train['text']\n",
        "# y = df_train['target']\n",
        "\n",
        "# X_train, X_test, y_train, y_test = train_test_split(X,y, random_state = 972)"
      ]
    },
    {
      "cell_type": "markdown",
      "id": "qD8mpMxmMVM9",
      "metadata": {
        "id": "qD8mpMxmMVM9"
      },
      "source": [
        "First, some minor cleaning"
      ]
    },
    {
      "cell_type": "code",
      "execution_count": 3,
      "id": "8371c6d3-7f0d-47c8-ae9f-f358fc2c2ada",
      "metadata": {
        "id": "8371c6d3-7f0d-47c8-ae9f-f358fc2c2ada"
      },
      "outputs": [],
      "source": [
        "def tweet_cleaner(df, feature = 'text', is_train=True, stemmer = PorterStemmer(), include_username=True):\n",
        "  '''\n",
        "  made for tweet texts\n",
        "\n",
        "  input: Dataframe(for test set, set is_train to False)\n",
        "         feature: whatever the name of the text feature is. default is 'text'\n",
        "         is_train: set to False if input dataframe is test.csv. else leave as default\n",
        "         include_username: True (default) means @username -> username\n",
        "                           False means @username ... have not implemented yet\n",
        "         stemmer = Stemming object that does the steming. must have a .stem() method. PorterStemmer is default\n",
        "\n",
        "  output: list_of_words = returns of list of lists. each inner list has the full words as elements\n",
        "          list_of_stems = returns of list of lists. each inner list has the stemmed words as elements\n",
        "          list_of_sentences = returns list of 'list_of_words' joined\n",
        "          labels = returns a list of the target labels. returns empty list if is_train=False\n",
        "\n",
        "\n",
        "\n",
        "  '''\n",
        "  list_of_words = []\n",
        "  list_of_stems = []\n",
        "  list_of_sentences = []\n",
        "  list_of_stemmed_sentences = []\n",
        "  labels = []\n",
        "\n",
        "  for index, row in df.iterrows():\n",
        "\n",
        "    if is_train:\n",
        "      labels.append(row['target'])\n",
        "\n",
        "    # only alphanumeric words for now.\n",
        "    pattern = r'\\b[a-zA-Z]+\\b'\n",
        "\n",
        "\n",
        "    # including new stopwords unique to tweets. and adding them to nltk\n",
        "\n",
        "    stops = nltk.corpus.stopwords.words('english')\n",
        "    new_stop_words = [\"ha\", \"wa\", \"http\", \"s\", \"https\", \"com\", \"'s\", \"' s\", \"'ll\", \"' ll\", \"' d\", \"'d\", \"'re\", \"' re\", \"co\", \"amp\", \"url\"]\n",
        "    stops.extend(new_stop_words)\n",
        "\n",
        "    # Gets list of words from re.findall() and filters out stop words and 1 letter words\n",
        "\n",
        "    word_list = [x.lower() for x in re.findall(pattern, row[feature]) if (x not in stops) and (len(x)>1)]\n",
        "\n",
        "    # stems the words\n",
        "    stemmed_tokens = [stemmer.stem(token) for token in word_list]\n",
        "\n",
        "    list_of_words.append(word_list)\n",
        "    list_of_stems.append(stemmed_tokens)\n",
        "    list_of_sentences.append(\" \".join(word_list))\n",
        "    list_of_stemmed_sentences.append(' '.join(stemmed_tokens))\n",
        "\n",
        "\n",
        "\n",
        "\n",
        "  return list_of_words, list_of_stems,  list_of_sentences, list_of_stemmed_sentences, labels\n"
      ]
    },
    {
      "cell_type": "code",
      "source": [
        "def remove_usernames_links(tweet):\n",
        "    tweet = re.sub('@[^\\s]+','',tweet) # removes usernames\n",
        "    tweet = re.sub('http[^\\s]+','',tweet) # removes urls\n",
        "    tweet = re.sub('https[^\\s]+','',tweet)\n",
        "    tweet = re.sub('www[^\\s]+','',tweet)\n",
        "    return tweet\n"
      ],
      "metadata": {
        "id": "UapYolplCBlI"
      },
      "id": "UapYolplCBlI",
      "execution_count": 4,
      "outputs": []
    },
    {
      "cell_type": "code",
      "source": [
        "cleaned_train = df_train.copy()\n",
        "tokens, stems, sentences, stemmed_sentences, labels = tweet_cleaner(df_train)\n",
        "cleaned_train['cleaned_words'] = sentences\n",
        "cleaned_train['cleaned_words'] = cleaned_train['cleaned_words'].apply(remove_usernames_links)\n",
        "cleaned_train['stemmed_sentences'] = stemmed_sentences\n",
        "cleaned_train['stems'] = stems"
      ],
      "metadata": {
        "id": "yzU4S_RGDUTD"
      },
      "id": "yzU4S_RGDUTD",
      "execution_count": 10,
      "outputs": []
    },
    {
      "cell_type": "code",
      "source": [
        "cleaned_test = df_test.copy()\n",
        "tokens, stems, sentences, stemmed_sentences, labels = tweet_cleaner(df_test, is_train=False)\n",
        "cleaned_test['cleaned_words'] = sentences\n",
        "cleaned_test['cleaned_words'] = cleaned_test['cleaned_words'].apply(remove_usernames_links)\n",
        "cleaned_test['stems'] = stems\n"
      ],
      "metadata": {
        "id": "JNZ89HEoEBN5"
      },
      "id": "JNZ89HEoEBN5",
      "execution_count": 8,
      "outputs": []
    },
    {
      "cell_type": "code",
      "source": [
        "cleaned_train.to_csv('cleaned_train.csv', index=False)\n",
        "cleaned_test.to_csv('cleaned_test.csv', index=False)"
      ],
      "metadata": {
        "id": "9zXe0szxEKt3"
      },
      "id": "9zXe0szxEKt3",
      "execution_count": 7,
      "outputs": []
    },
    {
      "cell_type": "code",
      "source": [
        "cleaned_train.head()"
      ],
      "metadata": {
        "colab": {
          "base_uri": "https://localhost:8080/",
          "height": 206
        },
        "id": "U9FEhkjuFBD_",
        "outputId": "92966bd6-781c-4f3d-a1e0-af02cb1bc645"
      },
      "id": "U9FEhkjuFBD_",
      "execution_count": null,
      "outputs": [
        {
          "output_type": "execute_result",
          "data": {
            "text/plain": [
              "   id keyword location                                               text  \\\n",
              "0   1     NaN      NaN  Our Deeds are the Reason of this #earthquake M...   \n",
              "1   4     NaN      NaN             Forest fire near La Ronge Sask. Canada   \n",
              "2   5     NaN      NaN  All residents asked to 'shelter in place' are ...   \n",
              "3   6     NaN      NaN  13,000 people receive #wildfires evacuation or...   \n",
              "4   7     NaN      NaN  Just got sent this photo from Ruby #Alaska as ...   \n",
              "\n",
              "   target                                      cleaned_words  \\\n",
              "0       1   our deeds reason earthquake may allah forgive us   \n",
              "1       1              forest fire near la ronge sask canada   \n",
              "2       1  all residents asked shelter place notified off...   \n",
              "3       1  people receive wildfires evacuation orders cal...   \n",
              "4       1  just got sent photo ruby alaska smoke wildfire...   \n",
              "\n",
              "                                               stems  \n",
              "0  [our, deed, reason, earthquak, may, allah, for...  \n",
              "1       [forest, fire, near, la, rong, sask, canada]  \n",
              "2  [all, resid, ask, shelter, place, notifi, offi...  \n",
              "3  [peopl, receiv, wildfir, evacu, order, califor...  \n",
              "4  [just, got, sent, photo, rubi, alaska, smoke, ...  "
            ],
            "text/html": [
              "\n",
              "  <div id=\"df-345fb4b4-ea20-4485-8ea6-e49baf15ce01\" class=\"colab-df-container\">\n",
              "    <div>\n",
              "<style scoped>\n",
              "    .dataframe tbody tr th:only-of-type {\n",
              "        vertical-align: middle;\n",
              "    }\n",
              "\n",
              "    .dataframe tbody tr th {\n",
              "        vertical-align: top;\n",
              "    }\n",
              "\n",
              "    .dataframe thead th {\n",
              "        text-align: right;\n",
              "    }\n",
              "</style>\n",
              "<table border=\"1\" class=\"dataframe\">\n",
              "  <thead>\n",
              "    <tr style=\"text-align: right;\">\n",
              "      <th></th>\n",
              "      <th>id</th>\n",
              "      <th>keyword</th>\n",
              "      <th>location</th>\n",
              "      <th>text</th>\n",
              "      <th>target</th>\n",
              "      <th>cleaned_words</th>\n",
              "      <th>stems</th>\n",
              "    </tr>\n",
              "  </thead>\n",
              "  <tbody>\n",
              "    <tr>\n",
              "      <th>0</th>\n",
              "      <td>1</td>\n",
              "      <td>NaN</td>\n",
              "      <td>NaN</td>\n",
              "      <td>Our Deeds are the Reason of this #earthquake M...</td>\n",
              "      <td>1</td>\n",
              "      <td>our deeds reason earthquake may allah forgive us</td>\n",
              "      <td>[our, deed, reason, earthquak, may, allah, for...</td>\n",
              "    </tr>\n",
              "    <tr>\n",
              "      <th>1</th>\n",
              "      <td>4</td>\n",
              "      <td>NaN</td>\n",
              "      <td>NaN</td>\n",
              "      <td>Forest fire near La Ronge Sask. Canada</td>\n",
              "      <td>1</td>\n",
              "      <td>forest fire near la ronge sask canada</td>\n",
              "      <td>[forest, fire, near, la, rong, sask, canada]</td>\n",
              "    </tr>\n",
              "    <tr>\n",
              "      <th>2</th>\n",
              "      <td>5</td>\n",
              "      <td>NaN</td>\n",
              "      <td>NaN</td>\n",
              "      <td>All residents asked to 'shelter in place' are ...</td>\n",
              "      <td>1</td>\n",
              "      <td>all residents asked shelter place notified off...</td>\n",
              "      <td>[all, resid, ask, shelter, place, notifi, offi...</td>\n",
              "    </tr>\n",
              "    <tr>\n",
              "      <th>3</th>\n",
              "      <td>6</td>\n",
              "      <td>NaN</td>\n",
              "      <td>NaN</td>\n",
              "      <td>13,000 people receive #wildfires evacuation or...</td>\n",
              "      <td>1</td>\n",
              "      <td>people receive wildfires evacuation orders cal...</td>\n",
              "      <td>[peopl, receiv, wildfir, evacu, order, califor...</td>\n",
              "    </tr>\n",
              "    <tr>\n",
              "      <th>4</th>\n",
              "      <td>7</td>\n",
              "      <td>NaN</td>\n",
              "      <td>NaN</td>\n",
              "      <td>Just got sent this photo from Ruby #Alaska as ...</td>\n",
              "      <td>1</td>\n",
              "      <td>just got sent photo ruby alaska smoke wildfire...</td>\n",
              "      <td>[just, got, sent, photo, rubi, alaska, smoke, ...</td>\n",
              "    </tr>\n",
              "  </tbody>\n",
              "</table>\n",
              "</div>\n",
              "    <div class=\"colab-df-buttons\">\n",
              "\n",
              "  <div class=\"colab-df-container\">\n",
              "    <button class=\"colab-df-convert\" onclick=\"convertToInteractive('df-345fb4b4-ea20-4485-8ea6-e49baf15ce01')\"\n",
              "            title=\"Convert this dataframe to an interactive table.\"\n",
              "            style=\"display:none;\">\n",
              "\n",
              "  <svg xmlns=\"http://www.w3.org/2000/svg\" height=\"24px\" viewBox=\"0 -960 960 960\">\n",
              "    <path d=\"M120-120v-720h720v720H120Zm60-500h600v-160H180v160Zm220 220h160v-160H400v160Zm0 220h160v-160H400v160ZM180-400h160v-160H180v160Zm440 0h160v-160H620v160ZM180-180h160v-160H180v160Zm440 0h160v-160H620v160Z\"/>\n",
              "  </svg>\n",
              "    </button>\n",
              "\n",
              "  <style>\n",
              "    .colab-df-container {\n",
              "      display:flex;\n",
              "      gap: 12px;\n",
              "    }\n",
              "\n",
              "    .colab-df-convert {\n",
              "      background-color: #E8F0FE;\n",
              "      border: none;\n",
              "      border-radius: 50%;\n",
              "      cursor: pointer;\n",
              "      display: none;\n",
              "      fill: #1967D2;\n",
              "      height: 32px;\n",
              "      padding: 0 0 0 0;\n",
              "      width: 32px;\n",
              "    }\n",
              "\n",
              "    .colab-df-convert:hover {\n",
              "      background-color: #E2EBFA;\n",
              "      box-shadow: 0px 1px 2px rgba(60, 64, 67, 0.3), 0px 1px 3px 1px rgba(60, 64, 67, 0.15);\n",
              "      fill: #174EA6;\n",
              "    }\n",
              "\n",
              "    .colab-df-buttons div {\n",
              "      margin-bottom: 4px;\n",
              "    }\n",
              "\n",
              "    [theme=dark] .colab-df-convert {\n",
              "      background-color: #3B4455;\n",
              "      fill: #D2E3FC;\n",
              "    }\n",
              "\n",
              "    [theme=dark] .colab-df-convert:hover {\n",
              "      background-color: #434B5C;\n",
              "      box-shadow: 0px 1px 3px 1px rgba(0, 0, 0, 0.15);\n",
              "      filter: drop-shadow(0px 1px 2px rgba(0, 0, 0, 0.3));\n",
              "      fill: #FFFFFF;\n",
              "    }\n",
              "  </style>\n",
              "\n",
              "    <script>\n",
              "      const buttonEl =\n",
              "        document.querySelector('#df-345fb4b4-ea20-4485-8ea6-e49baf15ce01 button.colab-df-convert');\n",
              "      buttonEl.style.display =\n",
              "        google.colab.kernel.accessAllowed ? 'block' : 'none';\n",
              "\n",
              "      async function convertToInteractive(key) {\n",
              "        const element = document.querySelector('#df-345fb4b4-ea20-4485-8ea6-e49baf15ce01');\n",
              "        const dataTable =\n",
              "          await google.colab.kernel.invokeFunction('convertToInteractive',\n",
              "                                                    [key], {});\n",
              "        if (!dataTable) return;\n",
              "\n",
              "        const docLinkHtml = 'Like what you see? Visit the ' +\n",
              "          '<a target=\"_blank\" href=https://colab.research.google.com/notebooks/data_table.ipynb>data table notebook</a>'\n",
              "          + ' to learn more about interactive tables.';\n",
              "        element.innerHTML = '';\n",
              "        dataTable['output_type'] = 'display_data';\n",
              "        await google.colab.output.renderOutput(dataTable, element);\n",
              "        const docLink = document.createElement('div');\n",
              "        docLink.innerHTML = docLinkHtml;\n",
              "        element.appendChild(docLink);\n",
              "      }\n",
              "    </script>\n",
              "  </div>\n",
              "\n",
              "\n",
              "<div id=\"df-d900892d-87d4-45ac-85e8-004e83d8ac4a\">\n",
              "  <button class=\"colab-df-quickchart\" onclick=\"quickchart('df-d900892d-87d4-45ac-85e8-004e83d8ac4a')\"\n",
              "            title=\"Suggest charts.\"\n",
              "            style=\"display:none;\">\n",
              "\n",
              "<svg xmlns=\"http://www.w3.org/2000/svg\" height=\"24px\"viewBox=\"0 0 24 24\"\n",
              "     width=\"24px\">\n",
              "    <g>\n",
              "        <path d=\"M19 3H5c-1.1 0-2 .9-2 2v14c0 1.1.9 2 2 2h14c1.1 0 2-.9 2-2V5c0-1.1-.9-2-2-2zM9 17H7v-7h2v7zm4 0h-2V7h2v10zm4 0h-2v-4h2v4z\"/>\n",
              "    </g>\n",
              "</svg>\n",
              "  </button>\n",
              "\n",
              "<style>\n",
              "  .colab-df-quickchart {\n",
              "      --bg-color: #E8F0FE;\n",
              "      --fill-color: #1967D2;\n",
              "      --hover-bg-color: #E2EBFA;\n",
              "      --hover-fill-color: #174EA6;\n",
              "      --disabled-fill-color: #AAA;\n",
              "      --disabled-bg-color: #DDD;\n",
              "  }\n",
              "\n",
              "  [theme=dark] .colab-df-quickchart {\n",
              "      --bg-color: #3B4455;\n",
              "      --fill-color: #D2E3FC;\n",
              "      --hover-bg-color: #434B5C;\n",
              "      --hover-fill-color: #FFFFFF;\n",
              "      --disabled-bg-color: #3B4455;\n",
              "      --disabled-fill-color: #666;\n",
              "  }\n",
              "\n",
              "  .colab-df-quickchart {\n",
              "    background-color: var(--bg-color);\n",
              "    border: none;\n",
              "    border-radius: 50%;\n",
              "    cursor: pointer;\n",
              "    display: none;\n",
              "    fill: var(--fill-color);\n",
              "    height: 32px;\n",
              "    padding: 0;\n",
              "    width: 32px;\n",
              "  }\n",
              "\n",
              "  .colab-df-quickchart:hover {\n",
              "    background-color: var(--hover-bg-color);\n",
              "    box-shadow: 0 1px 2px rgba(60, 64, 67, 0.3), 0 1px 3px 1px rgba(60, 64, 67, 0.15);\n",
              "    fill: var(--button-hover-fill-color);\n",
              "  }\n",
              "\n",
              "  .colab-df-quickchart-complete:disabled,\n",
              "  .colab-df-quickchart-complete:disabled:hover {\n",
              "    background-color: var(--disabled-bg-color);\n",
              "    fill: var(--disabled-fill-color);\n",
              "    box-shadow: none;\n",
              "  }\n",
              "\n",
              "  .colab-df-spinner {\n",
              "    border: 2px solid var(--fill-color);\n",
              "    border-color: transparent;\n",
              "    border-bottom-color: var(--fill-color);\n",
              "    animation:\n",
              "      spin 1s steps(1) infinite;\n",
              "  }\n",
              "\n",
              "  @keyframes spin {\n",
              "    0% {\n",
              "      border-color: transparent;\n",
              "      border-bottom-color: var(--fill-color);\n",
              "      border-left-color: var(--fill-color);\n",
              "    }\n",
              "    20% {\n",
              "      border-color: transparent;\n",
              "      border-left-color: var(--fill-color);\n",
              "      border-top-color: var(--fill-color);\n",
              "    }\n",
              "    30% {\n",
              "      border-color: transparent;\n",
              "      border-left-color: var(--fill-color);\n",
              "      border-top-color: var(--fill-color);\n",
              "      border-right-color: var(--fill-color);\n",
              "    }\n",
              "    40% {\n",
              "      border-color: transparent;\n",
              "      border-right-color: var(--fill-color);\n",
              "      border-top-color: var(--fill-color);\n",
              "    }\n",
              "    60% {\n",
              "      border-color: transparent;\n",
              "      border-right-color: var(--fill-color);\n",
              "    }\n",
              "    80% {\n",
              "      border-color: transparent;\n",
              "      border-right-color: var(--fill-color);\n",
              "      border-bottom-color: var(--fill-color);\n",
              "    }\n",
              "    90% {\n",
              "      border-color: transparent;\n",
              "      border-bottom-color: var(--fill-color);\n",
              "    }\n",
              "  }\n",
              "</style>\n",
              "\n",
              "  <script>\n",
              "    async function quickchart(key) {\n",
              "      const quickchartButtonEl =\n",
              "        document.querySelector('#' + key + ' button');\n",
              "      quickchartButtonEl.disabled = true;  // To prevent multiple clicks.\n",
              "      quickchartButtonEl.classList.add('colab-df-spinner');\n",
              "      try {\n",
              "        const charts = await google.colab.kernel.invokeFunction(\n",
              "            'suggestCharts', [key], {});\n",
              "      } catch (error) {\n",
              "        console.error('Error during call to suggestCharts:', error);\n",
              "      }\n",
              "      quickchartButtonEl.classList.remove('colab-df-spinner');\n",
              "      quickchartButtonEl.classList.add('colab-df-quickchart-complete');\n",
              "    }\n",
              "    (() => {\n",
              "      let quickchartButtonEl =\n",
              "        document.querySelector('#df-d900892d-87d4-45ac-85e8-004e83d8ac4a button');\n",
              "      quickchartButtonEl.style.display =\n",
              "        google.colab.kernel.accessAllowed ? 'block' : 'none';\n",
              "    })();\n",
              "  </script>\n",
              "</div>\n",
              "    </div>\n",
              "  </div>\n"
            ]
          },
          "metadata": {},
          "execution_count": 25
        }
      ]
    },
    {
      "cell_type": "code",
      "source": [
        "train.loc[7610,'text']"
      ],
      "metadata": {
        "colab": {
          "base_uri": "https://localhost:8080/",
          "height": 35
        },
        "id": "zd11UdJbKiGI",
        "outputId": "3de56902-a850-457f-d284-0f66b5f17a8c"
      },
      "id": "zd11UdJbKiGI",
      "execution_count": null,
      "outputs": [
        {
          "output_type": "execute_result",
          "data": {
            "text/plain": [
              "'M1.94 [01:04 UTC]?5km S of Volcano Hawaii. http://t.co/zDtoyd8EbJ'"
            ],
            "application/vnd.google.colaboratory.intrinsic+json": {
              "type": "string"
            }
          },
          "metadata": {},
          "execution_count": 47
        }
      ]
    },
    {
      "cell_type": "code",
      "source": [
        "sentences[7610]"
      ],
      "metadata": {
        "colab": {
          "base_uri": "https://localhost:8080/",
          "height": 35
        },
        "id": "-7oGFOgRMWcB",
        "outputId": "7763235a-5433-49c0-e29a-2fe092341a23"
      },
      "id": "-7oGFOgRMWcB",
      "execution_count": null,
      "outputs": [
        {
          "output_type": "execute_result",
          "data": {
            "text/plain": [
              "'utc volcano hawaii'"
            ],
            "application/vnd.google.colaboratory.intrinsic+json": {
              "type": "string"
            }
          },
          "metadata": {},
          "execution_count": 48
        }
      ]
    },
    {
      "cell_type": "code",
      "source": [
        "train.loc[128,'text']"
      ],
      "metadata": {
        "colab": {
          "base_uri": "https://localhost:8080/",
          "height": 35
        },
        "id": "RdSedkG-fYPN",
        "outputId": "9dfa75ff-ceb4-436d-9f99-24545705279f"
      },
      "id": "RdSedkG-fYPN",
      "execution_count": null,
      "outputs": [
        {
          "output_type": "execute_result",
          "data": {
            "text/plain": [
              "\"'Remembering that you are going to die is the best way I know to avoid the trap of thinking you have something to lose.' \\x89ÛÒ Steve Jobs\""
            ],
            "application/vnd.google.colaboratory.intrinsic+json": {
              "type": "string"
            }
          },
          "metadata": {},
          "execution_count": 56
        }
      ]
    },
    {
      "cell_type": "code",
      "source": [
        "sentences[128]"
      ],
      "metadata": {
        "colab": {
          "base_uri": "https://localhost:8080/",
          "height": 35
        },
        "id": "nyVIXf44fYz1",
        "outputId": "0cb7f071-7caf-4a01-b35b-6d9213b2e4ba"
      },
      "id": "nyVIXf44fYz1",
      "execution_count": null,
      "outputs": [
        {
          "output_type": "execute_result",
          "data": {
            "text/plain": [
              "'remembering going die best way know avoid trap thinking something lose steve jobs'"
            ],
            "application/vnd.google.colaboratory.intrinsic+json": {
              "type": "string"
            }
          },
          "metadata": {},
          "execution_count": 57
        }
      ]
    },
    {
      "cell_type": "code",
      "execution_count": null,
      "id": "694b3edd-6eaa-474e-94ec-5cb94daba275",
      "metadata": {
        "colab": {
          "base_uri": "https://localhost:8080/",
          "height": 35
        },
        "id": "694b3edd-6eaa-474e-94ec-5cb94daba275",
        "outputId": "50019f94-53a6-47ff-ef5b-239b52998798"
      },
      "outputs": [
        {
          "output_type": "execute_result",
          "data": {
            "text/plain": [
              "'#RockyFire Update => California Hwy. 20 closed in both directions due to Lake County fire - #CAfire #wildfires'"
            ],
            "application/vnd.google.colaboratory.intrinsic+json": {
              "type": "string"
            }
          },
          "metadata": {},
          "execution_count": 49
        }
      ],
      "source": [
        "train.loc[5,'text']"
      ]
    },
    {
      "cell_type": "code",
      "source": [
        "sentences[5]"
      ],
      "metadata": {
        "colab": {
          "base_uri": "https://localhost:8080/",
          "height": 35
        },
        "id": "F83XgxIN5xiC",
        "outputId": "2c6c541a-4565-419e-c4ae-9ad52177ae92"
      },
      "id": "F83XgxIN5xiC",
      "execution_count": null,
      "outputs": [
        {
          "output_type": "execute_result",
          "data": {
            "text/plain": [
              "'rockyfire update california hwy closed directions due lake county fire cafire wildfires'"
            ],
            "application/vnd.google.colaboratory.intrinsic+json": {
              "type": "string"
            }
          },
          "metadata": {},
          "execution_count": 50
        }
      ]
    },
    {
      "cell_type": "code",
      "source": [
        "train.loc[33,'text']"
      ],
      "metadata": {
        "colab": {
          "base_uri": "https://localhost:8080/",
          "height": 35
        },
        "id": "YUFAhfQHSPqY",
        "outputId": "d38e074c-1103-4732-b06e-d8bc2865c129"
      },
      "id": "YUFAhfQHSPqY",
      "execution_count": null,
      "outputs": [
        {
          "output_type": "execute_result",
          "data": {
            "text/plain": [
              "'#AFRICANBAZE: Breaking news:Nigeria flag set ablaze in Aba. http://t.co/2nndBGwyEi'"
            ],
            "application/vnd.google.colaboratory.intrinsic+json": {
              "type": "string"
            }
          },
          "metadata": {},
          "execution_count": 58
        }
      ]
    },
    {
      "cell_type": "code",
      "source": [
        "train.loc[199,'text']"
      ],
      "metadata": {
        "colab": {
          "base_uri": "https://localhost:8080/",
          "height": 35
        },
        "id": "v98Ds_ccihDN",
        "outputId": "bb62eb35-d04c-4656-fd92-60a8f31c167a"
      },
      "id": "v98Ds_ccihDN",
      "execution_count": null,
      "outputs": [
        {
          "output_type": "execute_result",
          "data": {
            "text/plain": [
              "\"\\x89ÛÏ@LeoBlakeCarter: This dog thinks he's an ambulance ?????? http://t.co/MG1lpGr0RM\\x89Û\\x9d@natasha_rideout\""
            ],
            "application/vnd.google.colaboratory.intrinsic+json": {
              "type": "string"
            }
          },
          "metadata": {},
          "execution_count": 59
        }
      ]
    },
    {
      "cell_type": "code",
      "source": [
        "sentences[199]"
      ],
      "metadata": {
        "colab": {
          "base_uri": "https://localhost:8080/",
          "height": 35
        },
        "id": "TRiI3jrGij08",
        "outputId": "1f1a65ca-10de-4521-86b7-274fcded97c6"
      },
      "id": "TRiI3jrGij08",
      "execution_count": null,
      "outputs": [
        {
          "output_type": "execute_result",
          "data": {
            "text/plain": [
              "'leoblakecarter this dog thinks ambulance'"
            ],
            "application/vnd.google.colaboratory.intrinsic+json": {
              "type": "string"
            }
          },
          "metadata": {},
          "execution_count": 60
        }
      ]
    },
    {
      "cell_type": "code",
      "source": [
        "sentences[33]"
      ],
      "metadata": {
        "colab": {
          "base_uri": "https://localhost:8080/",
          "height": 35
        },
        "id": "bFoJVPHVSPi_",
        "outputId": "ffa135be-3529-4517-8bf2-12b6b1ec6c54"
      },
      "id": "bFoJVPHVSPi_",
      "execution_count": null,
      "outputs": [
        {
          "output_type": "execute_result",
          "data": {
            "text/plain": [
              "'africanbaze breaking news nigeria flag set ablaze aba'"
            ],
            "application/vnd.google.colaboratory.intrinsic+json": {
              "type": "string"
            }
          },
          "metadata": {},
          "execution_count": 52
        }
      ]
    },
    {
      "cell_type": "code",
      "source": [
        "train.loc[31,'text']"
      ],
      "metadata": {
        "colab": {
          "base_uri": "https://localhost:8080/",
          "height": 35
        },
        "id": "dn6vWbjpStlk",
        "outputId": "9ce383a6-e324-41b8-d59b-c58767d46b61"
      },
      "id": "dn6vWbjpStlk",
      "execution_count": null,
      "outputs": [
        {
          "output_type": "execute_result",
          "data": {
            "text/plain": [
              "'@bbcmtd Wholesale Markets ablaze http://t.co/lHYXEOHY6C'"
            ],
            "application/vnd.google.colaboratory.intrinsic+json": {
              "type": "string"
            }
          },
          "metadata": {},
          "execution_count": 53
        }
      ]
    },
    {
      "cell_type": "code",
      "source": [
        "sentences[31]"
      ],
      "metadata": {
        "colab": {
          "base_uri": "https://localhost:8080/",
          "height": 35
        },
        "id": "gyIDwLJkSudu",
        "outputId": "4ac847db-eb30-42d3-b4a9-834c6a43c130"
      },
      "id": "gyIDwLJkSudu",
      "execution_count": null,
      "outputs": [
        {
          "output_type": "execute_result",
          "data": {
            "text/plain": [
              "'bbcmtd wholesale markets ablaze'"
            ],
            "application/vnd.google.colaboratory.intrinsic+json": {
              "type": "string"
            }
          },
          "metadata": {},
          "execution_count": 54
        }
      ]
    },
    {
      "cell_type": "markdown",
      "id": "DeQEo89xSWmZ",
      "metadata": {
        "id": "DeQEo89xSWmZ"
      },
      "source": [
        "Train test split"
      ]
    },
    {
      "cell_type": "code",
      "source": [],
      "metadata": {
        "id": "BFAt6CntL9Sv"
      },
      "id": "BFAt6CntL9Sv",
      "execution_count": null,
      "outputs": []
    },
    {
      "cell_type": "code",
      "execution_count": 40,
      "id": "J1Xa68WuSYLS",
      "metadata": {
        "id": "J1Xa68WuSYLS"
      },
      "outputs": [],
      "source": [
        "X_train, X_test, y_train, y_test = train_test_split(cleaned_train['cleaned_words'],cleaned_train['target'], random_state = 972, stratify=cleaned_train['target'])"
      ]
    },
    {
      "cell_type": "markdown",
      "id": "yQNraW2BR1Yx",
      "metadata": {
        "id": "yQNraW2BR1Yx"
      },
      "source": [
        "Ok now I tokenize(turn to numbers), and pad"
      ]
    },
    {
      "cell_type": "code",
      "execution_count": 25,
      "id": "VxGY9RoKRTfe",
      "metadata": {
        "id": "VxGY9RoKRTfe"
      },
      "outputs": [],
      "source": [
        "max_sequence_length = 100  # Adjust as needed\n",
        "max_words = 6000  # Adjust as needed\n",
        "\n",
        "tokenizer = Tokenizer(num_words=max_words, oov_token='<OOV>')\n",
        "tokenizer.fit_on_texts(X_train)\n",
        "\n",
        "X_train_seq = tokenizer.texts_to_sequences(X_train)\n",
        "X_test_seq = tokenizer.texts_to_sequences(X_test)\n",
        "\n",
        "X_train_padded = pad_sequences(X_train_seq, maxlen=max_sequence_length, padding='post',truncating='post')\n",
        "X_test_padded = pad_sequences(X_test_seq, maxlen=max_sequence_length, padding='post',truncating='post')"
      ]
    },
    {
      "cell_type": "code",
      "execution_count": null,
      "id": "SeO3efaurzAz",
      "metadata": {
        "colab": {
          "base_uri": "https://localhost:8080/"
        },
        "id": "SeO3efaurzAz",
        "outputId": "cb7a223f-ecb9-4ed7-b940-d212b726b5a7"
      },
      "outputs": [
        {
          "output_type": "execute_result",
          "data": {
            "text/plain": [
              "(5709, 100)"
            ]
          },
          "metadata": {},
          "execution_count": 29
        }
      ],
      "source": [
        "X_train_padded.shape"
      ]
    },
    {
      "cell_type": "markdown",
      "id": "dma1R12jTntJ",
      "metadata": {
        "id": "dma1R12jTntJ"
      },
      "source": [
        "Ok now I'm going to just downlaod the glove embeddings"
      ]
    },
    {
      "cell_type": "code",
      "execution_count": 27,
      "id": "sRnobIeQRTdC",
      "metadata": {
        "id": "sRnobIeQRTdC"
      },
      "outputs": [],
      "source": [
        "# Load pretrained GloVe embeddings\n",
        "embedding_dim = 25  # Adjust based on the chosen GloVe model dimension\n",
        "embedding_matrix = np.zeros((max_words, embedding_dim))\n",
        "\n",
        "glove_path = 'glove.twitter.27B.25d.txt'\n",
        "\n",
        "\n",
        "with open(glove_path, encoding='utf-8') as glove_file:\n",
        "    for line in glove_file:\n",
        "        values = line.split()\n",
        "        word = values[0]\n",
        "        if word in tokenizer.word_index and tokenizer.word_index[word] < max_words:\n",
        "            embedding_vector = np.array(values[1:], dtype='float32')\n",
        "            embedding_matrix[tokenizer.word_index[word]] = embedding_vector"
      ]
    },
    {
      "cell_type": "code",
      "execution_count": 28,
      "id": "hU6id9-WRTaJ",
      "metadata": {
        "colab": {
          "base_uri": "https://localhost:8080/"
        },
        "id": "hU6id9-WRTaJ",
        "outputId": "38f49bc2-ae54-4385-d0bf-9c2a70eef3b2"
      },
      "outputs": [
        {
          "output_type": "execute_result",
          "data": {
            "text/plain": [
              "(6000, 25)"
            ]
          },
          "metadata": {},
          "execution_count": 28
        }
      ],
      "source": [
        "embedding_matrix.shape"
      ]
    },
    {
      "cell_type": "markdown",
      "id": "oqXSBR4OUb3J",
      "metadata": {
        "id": "oqXSBR4OUb3J"
      },
      "source": [
        "Try a Keras LSTM"
      ]
    },
    {
      "cell_type": "code",
      "execution_count": 29,
      "id": "scTHrrfmU6nu",
      "metadata": {
        "colab": {
          "base_uri": "https://localhost:8080/"
        },
        "id": "scTHrrfmU6nu",
        "outputId": "9cb7fdfa-e7d1-451d-dd95-0ed1f8f46abb"
      },
      "outputs": [
        {
          "output_type": "stream",
          "name": "stdout",
          "text": [
            "Model: \"sequential\"\n",
            "_________________________________________________________________\n",
            " Layer (type)                Output Shape              Param #   \n",
            "=================================================================\n",
            " embedding (Embedding)       (None, 100, 25)           150000    \n",
            "                                                                 \n",
            " bidirectional (Bidirection  (None, 100, 128)          46080     \n",
            " al)                                                             \n",
            "                                                                 \n",
            " bidirectional_1 (Bidirecti  (None, 128)               98816     \n",
            " onal)                                                           \n",
            "                                                                 \n",
            " flatten (Flatten)           (None, 128)               0         \n",
            "                                                                 \n",
            " dense (Dense)               (None, 1)                 129       \n",
            "                                                                 \n",
            "=================================================================\n",
            "Total params: 295025 (1.13 MB)\n",
            "Trainable params: 295025 (1.13 MB)\n",
            "Non-trainable params: 0 (0.00 Byte)\n",
            "_________________________________________________________________\n"
          ]
        }
      ],
      "source": [
        "model = Sequential()\n",
        "model.add(Embedding(max_words, embedding_dim, input_length=max_sequence_length, weights=[embedding_matrix], trainable=True))\n",
        "model.add(Bidirectional(LSTM(64, return_sequences = True)))\n",
        "model.add(Bidirectional(LSTM(64,return_sequences = False)))\n",
        "model.add(Flatten())\n",
        "model.add(Dense(1, activation = 'sigmoid'))\n",
        "model.summary()"
      ]
    },
    {
      "cell_type": "code",
      "execution_count": 30,
      "id": "V6vdJQ3ZRTRZ",
      "metadata": {
        "id": "V6vdJQ3ZRTRZ"
      },
      "outputs": [],
      "source": [
        "model.compile(loss='binary_crossentropy', optimizer='adam', metrics=['accuracy'])\n"
      ]
    },
    {
      "cell_type": "code",
      "execution_count": 31,
      "id": "as9C0htlViLq",
      "metadata": {
        "colab": {
          "base_uri": "https://localhost:8080/"
        },
        "id": "as9C0htlViLq",
        "outputId": "5f5fcfcb-ce62-4acc-8984-64d867dae20f"
      },
      "outputs": [
        {
          "output_type": "stream",
          "name": "stdout",
          "text": [
            "Epoch 1/4\n",
            "90/90 [==============================] - 52s 479ms/step - loss: 0.4983 - accuracy: 0.7712 - val_loss: 0.4643 - val_accuracy: 0.7826\n",
            "Epoch 2/4\n",
            "90/90 [==============================] - 42s 469ms/step - loss: 0.4379 - accuracy: 0.8056 - val_loss: 0.4349 - val_accuracy: 0.8099\n",
            "Epoch 3/4\n",
            "90/90 [==============================] - 38s 419ms/step - loss: 0.4034 - accuracy: 0.8250 - val_loss: 0.4274 - val_accuracy: 0.8141\n",
            "Epoch 4/4\n",
            "90/90 [==============================] - 40s 443ms/step - loss: 0.3755 - accuracy: 0.8418 - val_loss: 0.4196 - val_accuracy: 0.8157\n"
          ]
        },
        {
          "output_type": "execute_result",
          "data": {
            "text/plain": [
              "<keras.src.callbacks.History at 0x7c4b77c02290>"
            ]
          },
          "metadata": {},
          "execution_count": 31
        }
      ],
      "source": [
        "model.fit(X_train_padded,\n",
        "          np.asarray(y_train),\n",
        "          validation_data = (X_test_padded, np.asarray(y_test)),\n",
        "          epochs=4,\n",
        "          batch_size=64)\n",
        "\n",
        "\n"
      ]
    },
    {
      "cell_type": "markdown",
      "source": [
        "Time for the reckoning"
      ],
      "metadata": {
        "id": "dWDKnwjMQ6a0"
      },
      "id": "dWDKnwjMQ6a0"
    },
    {
      "cell_type": "code",
      "source": [
        "def keras_evaluations(model, X_test_in_model, y_test_truth, decision_boundary=0.5):\n",
        "\n",
        "  predict_probs = model.predict(X_test_in_model)\n",
        "\n",
        "  preds = (predict_probs > decision_boundary).astype(int)\n",
        "\n",
        "  conf_matrix = confusion_matrix(y_test_truth, preds)\n",
        "\n",
        "  tn, fp, fn, tp = conf_matrix.ravel()\n",
        "\n",
        "  print(f\"TN: {tn}\\nFP: {fp}\\nFN: {fn}\\nTP: {tp}\")\n",
        "\n",
        "  print(f\"Sensitivity: {tp/(tp+fn)}\\nSpecificity: {tn/(tn + fp)}\\nValidation Accuracy: {(tp+tn)/(tp+tn+fp+fn)}\")\n",
        "\n",
        "  sns.heatmap(conf_matrix, annot=True, fmt='d', cmap='Blues', xticklabels=['Predicted Regular', 'Predicted Disaster'], yticklabels=['Actual Regular', 'Actual Disaster'])\n",
        "  plt.xlabel('Predicted')\n",
        "  plt.ylabel('Actual')\n",
        "  plt.title('Confusion Matrix')\n",
        "  plt.show()\n",
        "\n",
        "  reshaped_probs = [l[0] for l in predict_probs]\n",
        "  pred_df = pd.DataFrame({'true_values': y_test_truth, 'pred_probs': reshaped_probs})\n",
        "\n",
        "  plt.figure(figsize = (12, 5))\n",
        "  # plot distributions of predicted probabilities by actual values\n",
        "  for group in pred_df.groupby('true_values'):\n",
        "    sns.distplot(group[1], kde = False, bins = 20, label = f'Actual Outcome = {group[0]}')\n",
        "\n",
        "  # Add cutoff line\n",
        "  plt.axvline(decision_boundary, color = 'black', linestyle = '--')\n",
        "\n",
        "  plt.xlabel('Predicted Probability that Tweet is regarding a Disaster')\n",
        "  plt.legend();\n",
        "\n",
        "\n",
        "\n",
        "\n",
        "\n",
        "\n",
        "\n",
        "\n",
        "\n",
        "\n",
        "\n",
        "keras_evaluations(model, X_test_padded, y_test, decision_boundary=0.5)"
      ],
      "metadata": {
        "colab": {
          "base_uri": "https://localhost:8080/",
          "height": 1000
        },
        "id": "LGw4p-fNm3HO",
        "outputId": "f6908363-363d-4bb8-9a83-2d9535318546"
      },
      "id": "LGw4p-fNm3HO",
      "execution_count": 91,
      "outputs": [
        {
          "output_type": "stream",
          "name": "stdout",
          "text": [
            "60/60 [==============================] - 9s 149ms/step\n",
            "TN: 957\n",
            "FP: 129\n",
            "FN: 222\n",
            "TP: 596\n",
            "Sensitivity: 0.7286063569682152\n",
            "Specificity: 0.8812154696132597\n",
            "Validation Accuracy: 0.8156512605042017\n"
          ]
        },
        {
          "output_type": "display_data",
          "data": {
            "text/plain": [
              "<Figure size 640x480 with 2 Axes>"
            ],
            "image/png": "[encoded data removed]"
          },
          "metadata": {}
        },
        {
          "output_type": "stream",
          "name": "stderr",
          "text": [
            "<ipython-input-91-f22b4a8cf18b>:27: UserWarning: \n",
            "\n",
            "`distplot` is a deprecated function and will be removed in seaborn v0.14.0.\n",
            "\n",
            "Please adapt your code to use either `displot` (a figure-level function with\n",
            "similar flexibility) or `histplot` (an axes-level function for histograms).\n",
            "\n",
            "For a guide to updating your code to use the new functions, please see\n",
            "https://gist.github.com/mwaskom/de44147ed2974457ad6372750bbe5751\n",
            "\n",
            "  sns.distplot(group[1], kde = False, bins = 20, label = f'Actual Outcome = {group[0]}')\n"
          ]
        },
        {
          "output_type": "display_data",
          "data": {
            "text/plain": [
              "<Figure size 1200x500 with 1 Axes>"
            ],
            "image/png": "[encoded data removed]"
          },
          "metadata": {}
        }
      ]
    },
    {
      "cell_type": "code",
      "source": [
        "predict_probs = model.predict(X_test_padded)\n"
      ],
      "metadata": {
        "colab": {
          "base_uri": "https://localhost:8080/"
        },
        "id": "1ILoakeFRKU9",
        "outputId": "6f61c011-7788-4340-ed70-8712cd1399aa"
      },
      "id": "1ILoakeFRKU9",
      "execution_count": 89,
      "outputs": [
        {
          "output_type": "stream",
          "name": "stdout",
          "text": [
            "60/60 [==============================] - 3s 57ms/step\n"
          ]
        }
      ]
    },
    {
      "cell_type": "code",
      "source": [
        "def find_cm(y, preds):\n",
        "    tn, fp, fn, tp = confusion_matrix(y, preds).ravel()\n",
        "\n",
        "    print(f\"TN: {tn}\\nFP: {fp}\\nFN: {fn}\\nTP: {tp}\")\n",
        "\n",
        "    print(f\"Sensitivity: {tp/(tp+fn)}\\nSpecificity: {tn/(tn + fp)}\\nValidation Accuracy: {(tp+tn)/(tp+tn+fp+fn)}\")\n",
        "\n",
        "    return tn, fp, fn, tp\n",
        "\n",
        "\n",
        "# Get predictions\n",
        "preds = (predict_probs > 0.5).astype(int)\n",
        "# Save confusion matrix values\n",
        "tn, fp, fn, tp = find_cm(y_test, preds)"
      ],
      "metadata": {
        "colab": {
          "base_uri": "https://localhost:8080/"
        },
        "id": "8gNafRy9Q5F5",
        "outputId": "b7953943-7f93-47c6-ed79-f240e5fbae18"
      },
      "id": "8gNafRy9Q5F5",
      "execution_count": 73,
      "outputs": [
        {
          "output_type": "stream",
          "name": "stdout",
          "text": [
            "TN: 957\n",
            "FP: 129\n",
            "FN: 222\n",
            "TP: 596\n",
            "Sensitivity: 0.7286063569682152\n",
            "Specificity: 0.8812154696132597\n",
            "Validation Accuracy: 0.8156512605042017\n"
          ]
        }
      ]
    },
    {
      "cell_type": "code",
      "source": [
        "conf_matrix = confusion_matrix(y_test, preds)\n",
        "\n",
        "sns.heatmap(conf_matrix, annot=True, fmt='d', cmap='Blues', xticklabels=['Predicted Regular', 'Predicted Disaster'], yticklabels=['Actual Regular', 'Actual Disaster'])\n",
        "plt.xlabel('Predicted')\n",
        "plt.ylabel('Actual')\n",
        "plt.title('Confusion Matrix')\n",
        "plt.show()\n",
        "\n"
      ],
      "metadata": {
        "colab": {
          "base_uri": "https://localhost:8080/",
          "height": 472
        },
        "id": "qvFA95uuTLsa",
        "outputId": "2a65bcf3-fdc8-4e33-b70e-3d8d910259a2"
      },
      "id": "qvFA95uuTLsa",
      "execution_count": 75,
      "outputs": [
        {
          "output_type": "display_data",
          "data": {
            "text/plain": [
              "<Figure size 640x480 with 1 Axes>"
            ],
            "image/png": "[encoded data removed]"
          },
          "metadata": {}
        }
      ]
    },
    {
      "cell_type": "code",
      "source": [
        "reshaped_probs = [l[0] for l in predict_probs]\n",
        "pred_df = pd.DataFrame({'true_values': y_test,\n",
        "                        'pred_probs': reshaped_probs})\n",
        "\n",
        "plt.figure(figsize = (12, 5))\n",
        "\n",
        "# plot distributions of predicted probabilities by actual values\n",
        "for group in pred_df.groupby('true_values'):\n",
        "    sns.distplot(group[1], kde = False, bins = 20, label = f'Actual Outcome = {group[0]}')\n",
        "\n",
        "# Add cutoff line\n",
        "plt.axvline(0.5, color = 'black', linestyle = '--')\n",
        "\n",
        "plt.xlabel('Predicted Probability that Outcome = 1')\n",
        "plt.legend();"
      ],
      "metadata": {
        "colab": {
          "base_uri": "https://localhost:8080/",
          "height": 619
        },
        "id": "8JmgV7Y_TLli",
        "outputId": "ef1cf88b-f948-476d-ca3b-943f4f877a65"
      },
      "id": "8JmgV7Y_TLli",
      "execution_count": 81,
      "outputs": [
        {
          "output_type": "stream",
          "name": "stderr",
          "text": [
            "<ipython-input-81-f387588c0cbe>:9: UserWarning: \n",
            "\n",
            "`distplot` is a deprecated function and will be removed in seaborn v0.14.0.\n",
            "\n",
            "Please adapt your code to use either `displot` (a figure-level function with\n",
            "similar flexibility) or `histplot` (an axes-level function for histograms).\n",
            "\n",
            "For a guide to updating your code to use the new functions, please see\n",
            "https://gist.github.com/mwaskom/de44147ed2974457ad6372750bbe5751\n",
            "\n",
            "  sns.distplot(group[1], kde = False, bins = 20, label = f'Actual Outcome = {group[0]}')\n"
          ]
        },
        {
          "output_type": "display_data",
          "data": {
            "text/plain": [
              "<Figure size 1200x500 with 1 Axes>"
            ],
            "image/png": "[encoded data removed]"
          },
          "metadata": {}
        }
      ]
    },
    {
      "cell_type": "markdown",
      "source": [
        "OK now I'll try shifting to 0.4"
      ],
      "metadata": {
        "id": "1lU5y5ZOVkfY"
      },
      "id": "1lU5y5ZOVkfY"
    },
    {
      "cell_type": "code",
      "source": [
        "def find_cm(y, preds):\n",
        "    tn, fp, fn, tp = confusion_matrix(y, preds).ravel()\n",
        "\n",
        "    print(f\"TN: {tn}\\nFP: {fp}\\nFN: {fn}\\nTP: {tp}\")\n",
        "\n",
        "    print(f\"Sensitivity: {tp/(tp+fn)}\\nSpecificity: {tn/(tn + fp)}\\nValidation Accuracy: {(tp+tn)/(tp+tn+fp+fn)}\")\n",
        "\n",
        "    return tn, fp, fn, tp\n",
        "\n",
        "\n",
        "# Get predictions\n",
        "preds = (predict_probs > 0.4).astype(int)\n",
        "# Save confusion matrix values\n",
        "tn, fp, fn, tp = find_cm(y_test, preds)"
      ],
      "metadata": {
        "colab": {
          "base_uri": "https://localhost:8080/"
        },
        "id": "zQq8ksLuVid1",
        "outputId": "213f9733-9858-4699-acb2-6afe673efc39"
      },
      "id": "zQq8ksLuVid1",
      "execution_count": 82,
      "outputs": [
        {
          "output_type": "stream",
          "name": "stdout",
          "text": [
            "TN: 909\n",
            "FP: 177\n",
            "FN: 189\n",
            "TP: 629\n",
            "Sensitivity: 0.7689486552567237\n",
            "Specificity: 0.8370165745856354\n",
            "Validation Accuracy: 0.8077731092436975\n"
          ]
        }
      ]
    },
    {
      "cell_type": "code",
      "source": [
        "conf_matrix = confusion_matrix(y_test, preds)\n",
        "sns.heatmap(conf_matrix, annot=True, fmt='d', cmap='Blues', xticklabels=['Predicted Regular', 'Predicted Disaster'], yticklabels=['Actual Regular', 'Actual Disaster'])\n",
        "plt.xlabel('Predicted')\n",
        "plt.ylabel('Actual')\n",
        "plt.title('Confusion Matrix')\n",
        "plt.show()"
      ],
      "metadata": {
        "colab": {
          "base_uri": "https://localhost:8080/",
          "height": 472
        },
        "id": "pSfJiBxjTLiT",
        "outputId": "0dd069f1-4e37-4b30-92bc-c216771241fa"
      },
      "id": "pSfJiBxjTLiT",
      "execution_count": 83,
      "outputs": [
        {
          "output_type": "display_data",
          "data": {
            "text/plain": [
              "<Figure size 640x480 with 2 Axes>"
            ],
            "image/png": "[encoded data removed]"
          },
          "metadata": {}
        }
      ]
    },
    {
      "cell_type": "code",
      "source": [
        "reshaped_probs = [l[0] for l in predict_probs]\n",
        "pred_df = pd.DataFrame({'true_values': y_test,\n",
        "                        'pred_probs': reshaped_probs})\n",
        "\n",
        "plt.figure(figsize = (12, 5))\n",
        "\n",
        "# plot distributions of predicted probabilities by actual values\n",
        "for group in pred_df.groupby('true_values'):\n",
        "    sns.distplot(group[1], kde = False, bins = 20, label = f'Actual Outcome = {group[0]}')\n",
        "\n",
        "# Add cutoff line\n",
        "plt.axvline(0.4, color = 'black', linestyle = '--')\n",
        "\n",
        "plt.xlabel('Predicted Probability that Outcome = 1')\n",
        "plt.legend();"
      ],
      "metadata": {
        "colab": {
          "base_uri": "https://localhost:8080/",
          "height": 619
        },
        "id": "rO1H87RgZM5O",
        "outputId": "05f72691-3849-4ed3-f3e6-963f362b559a"
      },
      "id": "rO1H87RgZM5O",
      "execution_count": 84,
      "outputs": [
        {
          "output_type": "stream",
          "name": "stderr",
          "text": [
            "<ipython-input-84-48ad4792e44e>:9: UserWarning: \n",
            "\n",
            "`distplot` is a deprecated function and will be removed in seaborn v0.14.0.\n",
            "\n",
            "Please adapt your code to use either `displot` (a figure-level function with\n",
            "similar flexibility) or `histplot` (an axes-level function for histograms).\n",
            "\n",
            "For a guide to updating your code to use the new functions, please see\n",
            "https://gist.github.com/mwaskom/de44147ed2974457ad6372750bbe5751\n",
            "\n",
            "  sns.distplot(group[1], kde = False, bins = 20, label = f'Actual Outcome = {group[0]}')\n"
          ]
        },
        {
          "output_type": "display_data",
          "data": {
            "text/plain": [
              "<Figure size 1200x500 with 1 Axes>"
            ],
            "image/png": "[encoded data removed]"
          },
          "metadata": {}
        }
      ]
    },
    {
      "cell_type": "markdown",
      "source": [
        "Ok shifting to 0.2"
      ],
      "metadata": {
        "id": "zo0tATE7Zt3N"
      },
      "id": "zo0tATE7Zt3N"
    },
    {
      "cell_type": "code",
      "source": [
        "def find_cm(y, preds):\n",
        "    tn, fp, fn, tp = confusion_matrix(y, preds).ravel()\n",
        "\n",
        "    print(f\"TN: {tn}\\nFP: {fp}\\nFN: {fn}\\nTP: {tp}\")\n",
        "\n",
        "    print(f\"Sensitivity: {tp/(tp+fn)}\\nSpecificity: {tn/(tn + fp)}\\nValidation Accuracy: {(tp+tn)/(tp+tn+fp+fn)}\")\n",
        "\n",
        "    return tn, fp, fn, tp\n",
        "\n",
        "\n",
        "# Get predictions\n",
        "preds = (predict_probs > 0.2).astype(int)\n",
        "# Save confusion matrix values\n",
        "tn, fp, fn, tp = find_cm(y_test, preds)"
      ],
      "metadata": {
        "colab": {
          "base_uri": "https://localhost:8080/"
        },
        "id": "a5XHXvS7Z6_0",
        "outputId": "3cde356e-3fff-4254-e9f2-9a8fab9b9cfa"
      },
      "id": "a5XHXvS7Z6_0",
      "execution_count": 85,
      "outputs": [
        {
          "output_type": "stream",
          "name": "stdout",
          "text": [
            "TN: 698\n",
            "FP: 388\n",
            "FN: 100\n",
            "TP: 718\n",
            "Sensitivity: 0.8777506112469438\n",
            "Specificity: 0.6427255985267035\n",
            "Validation Accuracy: 0.7436974789915967\n"
          ]
        }
      ]
    },
    {
      "cell_type": "code",
      "source": [
        "conf_matrix = confusion_matrix(y_test, preds)\n",
        "sns.heatmap(conf_matrix, annot=True, fmt='d', cmap='Blues', xticklabels=['Predicted Regular', 'Predicted Disaster'], yticklabels=['Actual Regular', 'Actual Disaster'])\n",
        "plt.xlabel('Predicted')\n",
        "plt.ylabel('Actual')\n",
        "plt.title('Confusion Matrix')\n",
        "plt.show()"
      ],
      "metadata": {
        "colab": {
          "base_uri": "https://localhost:8080/",
          "height": 472
        },
        "id": "MIYIreKWZ683",
        "outputId": "7754978f-0b8c-4d56-cf45-c35adfa43d3f"
      },
      "id": "MIYIreKWZ683",
      "execution_count": 86,
      "outputs": [
        {
          "output_type": "display_data",
          "data": {
            "text/plain": [
              "<Figure size 640x480 with 2 Axes>"
            ],
            "image/png": "[encoded data removed]"
          },
          "metadata": {}
        }
      ]
    },
    {
      "cell_type": "code",
      "source": [
        "reshaped_probs = [l[0] for l in predict_probs]\n",
        "pred_df = pd.DataFrame({'true_values': y_test,\n",
        "                        'pred_probs': reshaped_probs})\n",
        "\n",
        "plt.figure(figsize = (12, 5))\n",
        "\n",
        "# plot distributions of predicted probabilities by actual values\n",
        "for group in pred_df.groupby('true_values'):\n",
        "    sns.distplot(group[1], kde = False, bins = 20, label = f'Actual Outcome = {group[0]}')\n",
        "\n",
        "# Add cutoff line\n",
        "plt.axvline(0.2, color = 'black', linestyle = '--')\n",
        "\n",
        "plt.xlabel('Predicted Probability that Outcome = 1')\n",
        "plt.legend();"
      ],
      "metadata": {
        "colab": {
          "base_uri": "https://localhost:8080/",
          "height": 619
        },
        "id": "X-cHA6HbZ66n",
        "outputId": "00ea4312-3068-4852-9e3f-509daf0c71ca"
      },
      "id": "X-cHA6HbZ66n",
      "execution_count": 88,
      "outputs": [
        {
          "output_type": "stream",
          "name": "stderr",
          "text": [
            "<ipython-input-88-51fdf353a1d7>:9: UserWarning: \n",
            "\n",
            "`distplot` is a deprecated function and will be removed in seaborn v0.14.0.\n",
            "\n",
            "Please adapt your code to use either `displot` (a figure-level function with\n",
            "similar flexibility) or `histplot` (an axes-level function for histograms).\n",
            "\n",
            "For a guide to updating your code to use the new functions, please see\n",
            "https://gist.github.com/mwaskom/de44147ed2974457ad6372750bbe5751\n",
            "\n",
            "  sns.distplot(group[1], kde = False, bins = 20, label = f'Actual Outcome = {group[0]}')\n"
          ]
        },
        {
          "output_type": "display_data",
          "data": {
            "text/plain": [
              "<Figure size 1200x500 with 1 Axes>"
            ],
            "image/png": "[encoded data removed]"
          },
          "metadata": {}
        }
      ]
    },
    {
      "cell_type": "code",
      "source": [],
      "metadata": {
        "id": "7jkxHWPMZ64N"
      },
      "id": "7jkxHWPMZ64N",
      "execution_count": null,
      "outputs": []
    },
    {
      "cell_type": "code",
      "source": [],
      "metadata": {
        "id": "en5dT9doZ610"
      },
      "id": "en5dT9doZ610",
      "execution_count": null,
      "outputs": []
    },
    {
      "cell_type": "markdown",
      "source": [
        "Ok, time to get the kaggle submission ready"
      ],
      "metadata": {
        "id": "u43-aOV1GeXv"
      },
      "id": "u43-aOV1GeXv"
    },
    {
      "cell_type": "code",
      "source": [
        "max_sequence_length = 100  # Adjust as needed\n",
        "max_words = 6000  # Adjust as needed\n",
        "\n",
        "X_kaggle_seq = tokenizer.texts_to_sequences(cleaned_test['cleaned_words'])\n",
        "\n",
        "X_kaggle_padded = pad_sequences(X_kaggle_seq, maxlen=max_sequence_length, padding='post',truncating='post')\n"
      ],
      "metadata": {
        "id": "j7eNW4VsG09o"
      },
      "id": "j7eNW4VsG09o",
      "execution_count": null,
      "outputs": []
    },
    {
      "cell_type": "code",
      "source": [
        "predictions = model.predict(X_kaggle_padded)"
      ],
      "metadata": {
        "colab": {
          "base_uri": "https://localhost:8080/"
        },
        "id": "fbuSbinaG1qQ",
        "outputId": "7af551bf-68e3-4c88-982a-1783a8c596d0"
      },
      "id": "fbuSbinaG1qQ",
      "execution_count": null,
      "outputs": [
        {
          "output_type": "stream",
          "name": "stdout",
          "text": [
            "102/102 [==============================] - 8s 81ms/step\n"
          ]
        }
      ]
    },
    {
      "cell_type": "code",
      "source": [
        "binary_predictions = (predictions > 0.5).astype(int)"
      ],
      "metadata": {
        "id": "r_lzsnZ7G1hv"
      },
      "id": "r_lzsnZ7G1hv",
      "execution_count": null,
      "outputs": []
    },
    {
      "cell_type": "code",
      "source": [
        "kaggle_submission = cleaned_test.drop(columns=['keyword', 'location', 'text', 'cleaned_words', 'stems']) # everything but 'id'\n",
        "kaggle_submission['target'] = binary_predictions"
      ],
      "metadata": {
        "id": "SlqgTFThG1d2"
      },
      "id": "SlqgTFThG1d2",
      "execution_count": null,
      "outputs": []
    },
    {
      "cell_type": "code",
      "source": [
        "kaggle_submission.to_csv('test_submission.csv', index=False)"
      ],
      "metadata": {
        "id": "r4yUi-hqKfDy"
      },
      "id": "r4yUi-hqKfDy",
      "execution_count": null,
      "outputs": []
    },
    {
      "cell_type": "code",
      "source": [
        "cleaned_test.columns"
      ],
      "metadata": {
        "colab": {
          "base_uri": "https://localhost:8080/"
        },
        "id": "ymPS9-WdJ0Xf",
        "outputId": "ede1e4ea-769d-4a2c-de1e-4b45f8c61837"
      },
      "id": "ymPS9-WdJ0Xf",
      "execution_count": null,
      "outputs": [
        {
          "output_type": "execute_result",
          "data": {
            "text/plain": [
              "Index(['id', 'keyword', 'location', 'text', 'cleaned_words', 'stems'], dtype='object')"
            ]
          },
          "metadata": {},
          "execution_count": 41
        }
      ]
    },
    {
      "cell_type": "code",
      "execution_count": null,
      "id": "1e5-vPigeUm6",
      "metadata": {
        "id": "1e5-vPigeUm6"
      },
      "outputs": [],
      "source": [
        "import pickle\n",
        "\n",
        "with open('arjun_model.pkl', 'wb') as file:\n",
        "    # A new file will be created\n",
        "    pickle.dump(model, file)"
      ]
    },
    {
      "cell_type": "markdown",
      "source": [
        "## MNB with stemmming"
      ],
      "metadata": {
        "id": "97E49yZwLq8Z"
      },
      "id": "97E49yZwLq8Z"
    },
    {
      "cell_type": "code",
      "source": [
        "X_train_stems, X_test_stems, y_train_stems, y_test_stems = train_test_split(cleaned_train['stemmed_sentences'],cleaned_train['target'], random_state = 972, stratify=cleaned_train['target'])"
      ],
      "metadata": {
        "id": "fzHRBat0h8PI"
      },
      "id": "fzHRBat0h8PI",
      "execution_count": 94,
      "outputs": []
    },
    {
      "cell_type": "code",
      "source": [
        "mnb_params = {\n",
        "        'tfidf__max_features': [2000,3000, 4000],\n",
        "        'tfidf__min_df': [1,5,10],\n",
        "        'tfidf__max_df': [0.9, 0.95],\n",
        "        'tfidf__stop_words': [None],\n",
        "        'tfidf__ngram_range': [(1, 2)],}\n",
        "\n",
        "tgif_mnb_pipe = Pipeline([\n",
        "    ('tfidf', TfidfVectorizer()),\n",
        "    ('mnb', MultinomialNB())\n",
        "])\n",
        "mnb_gs = GridSearchCV(tgif_mnb_pipe, param_grid=mnb_params)\n",
        "mnb_gs.fit(X_train_stems,y_train_stems)\n"
      ],
      "metadata": {
        "colab": {
          "base_uri": "https://localhost:8080/",
          "height": 152
        },
        "id": "Nf1Ux6ApLqqS",
        "outputId": "89acebfe-7233-4434-eea8-8d2083acff71"
      },
      "id": "Nf1Ux6ApLqqS",
      "execution_count": 12,
      "outputs": [
        {
          "output_type": "execute_result",
          "data": {
            "text/plain": [
              "GridSearchCV(estimator=Pipeline(steps=[('tfidf', TfidfVectorizer()),\n",
              "                                       ('mnb', MultinomialNB())]),\n",
              "             param_grid={'tfidf__max_df': [0.9, 0.95],\n",
              "                         'tfidf__max_features': [2000, 3000, 4000],\n",
              "                         'tfidf__min_df': [1, 5, 10],\n",
              "                         'tfidf__ngram_range': [(1, 2)],\n",
              "                         'tfidf__stop_words': [None]})"
            ],
            "text/html": [
              "<style>#sk-container-id-1 {color: black;background-color: white;}#sk-container-id-1 pre{padding: 0;}#sk-container-id-1 div.sk-toggleable {background-color: white;}#sk-container-id-1 label.sk-toggleable__label {cursor: pointer;display: block;width: 100%;margin-bottom: 0;padding: 0.3em;box-sizing: border-box;text-align: center;}#sk-container-id-1 label.sk-toggleable__label-arrow:before {content: \"▸\";float: left;margin-right: 0.25em;color: #696969;}#sk-container-id-1 label.sk-toggleable__label-arrow:hover:before {color: black;}#sk-container-id-1 div.sk-estimator:hover label.sk-toggleable__label-arrow:before {color: black;}#sk-container-id-1 div.sk-toggleable__content {max-height: 0;max-width: 0;overflow: hidden;text-align: left;background-color: #f0f8ff;}#sk-container-id-1 div.sk-toggleable__content pre {margin: 0.2em;color: black;border-radius: 0.25em;background-color: #f0f8ff;}#sk-container-id-1 input.sk-toggleable__control:checked~div.sk-toggleable__content {max-height: 200px;max-width: 100%;overflow: auto;}#sk-container-id-1 input.sk-toggleable__control:checked~label.sk-toggleable__label-arrow:before {content: \"▾\";}#sk-container-id-1 div.sk-estimator input.sk-toggleable__control:checked~label.sk-toggleable__label {background-color: #d4ebff;}#sk-container-id-1 div.sk-label input.sk-toggleable__control:checked~label.sk-toggleable__label {background-color: #d4ebff;}#sk-container-id-1 input.sk-hidden--visually {border: 0;clip: rect(1px 1px 1px 1px);clip: rect(1px, 1px, 1px, 1px);height: 1px;margin: -1px;overflow: hidden;padding: 0;position: absolute;width: 1px;}#sk-container-id-1 div.sk-estimator {font-family: monospace;background-color: #f0f8ff;border: 1px dotted black;border-radius: 0.25em;box-sizing: border-box;margin-bottom: 0.5em;}#sk-container-id-1 div.sk-estimator:hover {background-color: #d4ebff;}#sk-container-id-1 div.sk-parallel-item::after {content: \"\";width: 100%;border-bottom: 1px solid gray;flex-grow: 1;}#sk-container-id-1 div.sk-label:hover label.sk-toggleable__label {background-color: #d4ebff;}#sk-container-id-1 div.sk-serial::before {content: \"\";position: absolute;border-left: 1px solid gray;box-sizing: border-box;top: 0;bottom: 0;left: 50%;z-index: 0;}#sk-container-id-1 div.sk-serial {display: flex;flex-direction: column;align-items: center;background-color: white;padding-right: 0.2em;padding-left: 0.2em;position: relative;}#sk-container-id-1 div.sk-item {position: relative;z-index: 1;}#sk-container-id-1 div.sk-parallel {display: flex;align-items: stretch;justify-content: center;background-color: white;position: relative;}#sk-container-id-1 div.sk-item::before, #sk-container-id-1 div.sk-parallel-item::before {content: \"\";position: absolute;border-left: 1px solid gray;box-sizing: border-box;top: 0;bottom: 0;left: 50%;z-index: -1;}#sk-container-id-1 div.sk-parallel-item {display: flex;flex-direction: column;z-index: 1;position: relative;background-color: white;}#sk-container-id-1 div.sk-parallel-item:first-child::after {align-self: flex-end;width: 50%;}#sk-container-id-1 div.sk-parallel-item:last-child::after {align-self: flex-start;width: 50%;}#sk-container-id-1 div.sk-parallel-item:only-child::after {width: 0;}#sk-container-id-1 div.sk-dashed-wrapped {border: 1px dashed gray;margin: 0 0.4em 0.5em 0.4em;box-sizing: border-box;padding-bottom: 0.4em;background-color: white;}#sk-container-id-1 div.sk-label label {font-family: monospace;font-weight: bold;display: inline-block;line-height: 1.2em;}#sk-container-id-1 div.sk-label-container {text-align: center;}#sk-container-id-1 div.sk-container {/* jupyter's `normalize.less` sets `[hidden] { display: none; }` but bootstrap.min.css set `[hidden] { display: none !important; }` so we also need the `!important` here to be able to override the default hidden behavior on the sphinx rendered scikit-learn.org. See: https://github.com/scikit-learn/scikit-learn/issues/21755 */display: inline-block !important;position: relative;}#sk-container-id-1 div.sk-text-repr-fallback {display: none;}</style><div id=\"sk-container-id-1\" class=\"sk-top-container\"><div class=\"sk-text-repr-fallback\"><pre>GridSearchCV(estimator=Pipeline(steps=[(&#x27;tfidf&#x27;, TfidfVectorizer()),\n",
              "                                       (&#x27;mnb&#x27;, MultinomialNB())]),\n",
              "             param_grid={&#x27;tfidf__max_df&#x27;: [0.9, 0.95],\n",
              "                         &#x27;tfidf__max_features&#x27;: [2000, 3000, 4000],\n",
              "                         &#x27;tfidf__min_df&#x27;: [1, 5, 10],\n",
              "                         &#x27;tfidf__ngram_range&#x27;: [(1, 2)],\n",
              "                         &#x27;tfidf__stop_words&#x27;: [None]})</pre><b>In a Jupyter environment, please rerun this cell to show the HTML representation or trust the notebook. <br />On GitHub, the HTML representation is unable to render, please try loading this page with nbviewer.org.</b></div><div class=\"sk-container\" hidden><div class=\"sk-item sk-dashed-wrapped\"><div class=\"sk-label-container\"><div class=\"sk-label sk-toggleable\"><input class=\"sk-toggleable__control sk-hidden--visually\" id=\"sk-estimator-id-1\" type=\"checkbox\" ><label for=\"sk-estimator-id-1\" class=\"sk-toggleable__label sk-toggleable__label-arrow\">GridSearchCV</label><div class=\"sk-toggleable__content\"><pre>GridSearchCV(estimator=Pipeline(steps=[(&#x27;tfidf&#x27;, TfidfVectorizer()),\n",
              "                                       (&#x27;mnb&#x27;, MultinomialNB())]),\n",
              "             param_grid={&#x27;tfidf__max_df&#x27;: [0.9, 0.95],\n",
              "                         &#x27;tfidf__max_features&#x27;: [2000, 3000, 4000],\n",
              "                         &#x27;tfidf__min_df&#x27;: [1, 5, 10],\n",
              "                         &#x27;tfidf__ngram_range&#x27;: [(1, 2)],\n",
              "                         &#x27;tfidf__stop_words&#x27;: [None]})</pre></div></div></div><div class=\"sk-parallel\"><div class=\"sk-parallel-item\"><div class=\"sk-item\"><div class=\"sk-label-container\"><div class=\"sk-label sk-toggleable\"><input class=\"sk-toggleable__control sk-hidden--visually\" id=\"sk-estimator-id-2\" type=\"checkbox\" ><label for=\"sk-estimator-id-2\" class=\"sk-toggleable__label sk-toggleable__label-arrow\">estimator: Pipeline</label><div class=\"sk-toggleable__content\"><pre>Pipeline(steps=[(&#x27;tfidf&#x27;, TfidfVectorizer()), (&#x27;mnb&#x27;, MultinomialNB())])</pre></div></div></div><div class=\"sk-serial\"><div class=\"sk-item\"><div class=\"sk-serial\"><div class=\"sk-item\"><div class=\"sk-estimator sk-toggleable\"><input class=\"sk-toggleable__control sk-hidden--visually\" id=\"sk-estimator-id-3\" type=\"checkbox\" ><label for=\"sk-estimator-id-3\" class=\"sk-toggleable__label sk-toggleable__label-arrow\">TfidfVectorizer</label><div class=\"sk-toggleable__content\"><pre>TfidfVectorizer()</pre></div></div></div><div class=\"sk-item\"><div class=\"sk-estimator sk-toggleable\"><input class=\"sk-toggleable__control sk-hidden--visually\" id=\"sk-estimator-id-4\" type=\"checkbox\" ><label for=\"sk-estimator-id-4\" class=\"sk-toggleable__label sk-toggleable__label-arrow\">MultinomialNB</label><div class=\"sk-toggleable__content\"><pre>MultinomialNB()</pre></div></div></div></div></div></div></div></div></div></div></div></div>"
            ]
          },
          "metadata": {},
          "execution_count": 12
        }
      ]
    },
    {
      "cell_type": "code",
      "source": [
        "def keras_evaluations(model, X_test_in_model, y_test_truth, decision_boundary=0.5):\n",
        "\n",
        "  predict_probs = model.predict(X_test_in_model)\n",
        "\n",
        "  preds = (predict_probs > decision_boundary).astype(int)\n",
        "\n",
        "  conf_matrix = confusion_matrix(y_test_truth, preds)\n",
        "\n",
        "  tn, fp, fn, tp = conf_matrix.ravel()\n",
        "\n",
        "  print(f\"TN: {tn}\\nFP: {fp}\\nFN: {fn}\\nTP: {tp}\")\n",
        "\n",
        "  print(f\"Sensitivity: {tp/(tp+fn)}\\nSpecificity: {tn/(tn + fp)}\\nValidation Accuracy: {(tp+tn)/(tp+tn+fp+fn)}\")\n",
        "\n",
        "  sns.heatmap(conf_matrix, annot=True, fmt='d', cmap='Blues', xticklabels=['Predicted Regular', 'Predicted Disaster'], yticklabels=['Actual Regular', 'Actual Disaster'])\n",
        "  plt.xlabel('Predicted')\n",
        "  plt.ylabel('Actual')\n",
        "  plt.title('Confusion Matrix')\n",
        "  plt.show()\n",
        "\n",
        "  reshaped_probs = [l[0] for l in predict_probs]\n",
        "  pred_df = pd.DataFrame({'true_values': y_test_truth, 'pred_probs': reshaped_probs})\n",
        "\n",
        "  plt.figure(figsize = (12, 5))\n",
        "  # plot distributions of predicted probabilities by actual values\n",
        "  for group in pred_df.groupby('true_values'):\n",
        "    sns.distplot(group[1], kde = False, bins = 20, label = f'Actual Outcome = {group[0]}')\n",
        "\n",
        "  # Add cutoff line\n",
        "  plt.axvline(decision_boundary, color = 'black', linestyle = '--')\n",
        "\n",
        "  plt.xlabel('Predicted Probability that Tweet is regarding a Disaster')\n",
        "  plt.legend();"
      ],
      "metadata": {
        "id": "TVl72Ozts_Ql"
      },
      "id": "TVl72Ozts_Ql",
      "execution_count": 92,
      "outputs": []
    },
    {
      "cell_type": "code",
      "source": [
        "mnb_gs.best_params_"
      ],
      "metadata": {
        "colab": {
          "base_uri": "https://localhost:8080/"
        },
        "id": "P9xtqTrgOoYm",
        "outputId": "d2162c7c-e6d1-4d83-c148-dd65e9fb734d"
      },
      "id": "P9xtqTrgOoYm",
      "execution_count": 15,
      "outputs": [
        {
          "output_type": "execute_result",
          "data": {
            "text/plain": [
              "{'tfidf__max_df': 0.9,\n",
              " 'tfidf__max_features': 4000,\n",
              " 'tfidf__min_df': 1,\n",
              " 'tfidf__ngram_range': (1, 2),\n",
              " 'tfidf__stop_words': None}"
            ]
          },
          "metadata": {},
          "execution_count": 15
        }
      ]
    },
    {
      "cell_type": "code",
      "source": [
        "mnb_gs.score(X_train_stems,y_train_stems), mnb_gs.score(X_test_stems,y_test_stems)\n"
      ],
      "metadata": {
        "colab": {
          "base_uri": "https://localhost:8080/"
        },
        "id": "02B9QKF6OIbA",
        "outputId": "1df27abd-4812-4614-bcf8-0896c622cb58"
      },
      "id": "02B9QKF6OIbA",
      "execution_count": 14,
      "outputs": [
        {
          "output_type": "execute_result",
          "data": {
            "text/plain": [
              "(0.8476090383604834, 0.8182773109243697)"
            ]
          },
          "metadata": {},
          "execution_count": 14
        }
      ]
    },
    {
      "cell_type": "code",
      "source": [
        "def sklearn_evaluations(model, X_test_in_model, y_test_truth, dec_bound = 0.5):\n",
        "\n",
        "\n",
        "\n",
        "  predict_prob = model.predict_proba(X_test_in_model)[:,1]\n",
        "\n",
        "  preds = (predict_probs > dec_bound).astype(int)\n",
        "\n",
        "  conf_matrix = confusion_matrix(y_test_truth, preds)\n",
        "\n",
        "\n",
        "  tn, fp, fn, tp = conf_matrix.ravel()\n",
        "\n",
        "  print(f\"TN: {tn}\\nFP: {fp}\\nFN: {fn}\\nTP: {tp}\")\n",
        "\n",
        "  print(f\"Sensitivity: {tp/(tp+fn)}\\nSpecificity: {tn/(tn + fp)}\\nValidation Accuracy: {(tp+tn)/(tp+tn+fp+fn)}\")\n",
        "\n",
        "  sns.heatmap(conf_matrix, annot=True, fmt='d', cmap='Blues', xticklabels=['Predicted Regular', 'Predicted Disaster'], yticklabels=['Actual Regular', 'Actual Disaster'])\n",
        "  plt.xlabel('Predicted')\n",
        "  plt.ylabel('Actual')\n",
        "  plt.title('Confusion Matrix')\n",
        "  plt.show()\n",
        "\n",
        "\n",
        "\n",
        "  #reshaped_probs = [l[0] for l in predict_probs]\n",
        "  pred_df = pd.DataFrame({'true_values': y_test_truth,'pred_probs': predict_prob})\n",
        "\n",
        "  plt.figure(figsize = (12, 5))\n",
        "\n",
        "  # plot distributions of predicted probabilities by actual values\n",
        "  for group in pred_df.groupby('true_values'):\n",
        "      sns.distplot(group[1], kde = False, bins = 20, label = f'Actual Outcome = {group[0]}')\n",
        "\n",
        "  # Add cutoff line\n",
        "  plt.axvline(dec_bound, color = 'black', linestyle = '--')\n",
        "\n",
        "  plt.xlabel('Predicted Probability that Outcome = 1')\n",
        "  plt.legend();\n",
        "\n"
      ],
      "metadata": {
        "id": "gecxzinWr0iy"
      },
      "id": "gecxzinWr0iy",
      "execution_count": 96,
      "outputs": []
    },
    {
      "cell_type": "code",
      "source": [
        "sklearn_evaluations(mnb_gs, X_test_stems, y_test_stems, dec_bound = 0.3)"
      ],
      "metadata": {
        "colab": {
          "base_uri": "https://localhost:8080/",
          "height": 1000
        },
        "id": "y_C0VLuvv7xo",
        "outputId": "91210734-cf04-4bae-f232-890003443324"
      },
      "id": "y_C0VLuvv7xo",
      "execution_count": 99,
      "outputs": [
        {
          "output_type": "stream",
          "name": "stdout",
          "text": [
            "TN: 833\n",
            "FP: 253\n",
            "FN: 146\n",
            "TP: 672\n",
            "Sensitivity: 0.8215158924205379\n",
            "Specificity: 0.7670349907918969\n",
            "Validation Accuracy: 0.7904411764705882\n"
          ]
        },
        {
          "output_type": "display_data",
          "data": {
            "text/plain": [
              "<Figure size 640x480 with 2 Axes>"
            ],
            "image/png": "[encoded data removed]"
          },
          "metadata": {}
        },
        {
          "output_type": "stream",
          "name": "stderr",
          "text": [
            "<ipython-input-96-e2135bb9e65b>:33: UserWarning: \n",
            "\n",
            "`distplot` is a deprecated function and will be removed in seaborn v0.14.0.\n",
            "\n",
            "Please adapt your code to use either `displot` (a figure-level function with\n",
            "similar flexibility) or `histplot` (an axes-level function for histograms).\n",
            "\n",
            "For a guide to updating your code to use the new functions, please see\n",
            "https://gist.github.com/mwaskom/de44147ed2974457ad6372750bbe5751\n",
            "\n",
            "  sns.distplot(group[1], kde = False, bins = 20, label = f'Actual Outcome = {group[0]}')\n"
          ]
        },
        {
          "output_type": "display_data",
          "data": {
            "text/plain": [
              "<Figure size 1200x500 with 1 Axes>"
            ],
            "image/png": "[encoded data removed]"
          },
          "metadata": {}
        }
      ]
    },
    {
      "cell_type": "code",
      "source": [
        "def find_cm(preds):\n",
        "    tn, fp, fn, tp = confusion_matrix(y_test_stems, preds).ravel()\n",
        "\n",
        "    print(f\"TN: {tn}\\nFP: {fp}\\nFN: {fn}\\nTP: {tp}\")\n",
        "\n",
        "    print(f\"Sensitivity: {tp/(tp+fn)}\\nSpecificity: {tn/(tn + fp)}\")\n",
        "\n",
        "    return tn, fp, fn, tp\n",
        "# Get predictions\n",
        "preds = mnb_gs.predict(X_test_stems,)\n",
        "# Save confusion matrix values\n",
        "tn, fp, fn, tp = find_cm(preds)"
      ],
      "metadata": {
        "colab": {
          "base_uri": "https://localhost:8080/"
        },
        "id": "qAfDxpyoOgYE",
        "outputId": "170b632a-76bf-46fd-c637-97026018ecc6"
      },
      "id": "qAfDxpyoOgYE",
      "execution_count": 18,
      "outputs": [
        {
          "output_type": "stream",
          "name": "stdout",
          "text": [
            "TN: 992\n",
            "FP: 94\n",
            "FN: 252\n",
            "TP: 566\n",
            "Sensitivity: 0.6919315403422983\n",
            "Specificity: 0.9134438305709024\n"
          ]
        }
      ]
    },
    {
      "cell_type": "code",
      "source": [
        "ConfusionMatrixDisplay.from_estimator(mnb_gs, X_test_stems, y_test_stems, cmap='Blues', values_format='d');"
      ],
      "metadata": {
        "colab": {
          "base_uri": "https://localhost:8080/",
          "height": 449
        },
        "id": "_YmRRRcRPErl",
        "outputId": "b6a1838b-5d9e-4e82-e24d-38adab718a67"
      },
      "id": "_YmRRRcRPErl",
      "execution_count": 19,
      "outputs": [
        {
          "output_type": "display_data",
          "data": {
            "text/plain": [
              "<Figure size 640x480 with 2 Axes>"
            ],
            "image/png": "[encoded data removed]"
          },
          "metadata": {}
        }
      ]
    },
    {
      "cell_type": "code",
      "source": [
        "pred_df = pd.DataFrame({'true_values': y_test_stems,\n",
        "                        'pred_probs': mnb_gs.predict_proba(X_test_stems)[:,1]})\n",
        "\n",
        "plt.figure(figsize = (12, 5))\n",
        "\n",
        "# plot distributions of predicted probabilities by actual values\n",
        "for group in pred_df.groupby('true_values'):\n",
        "    sns.distplot(group[1], kde = False, bins = 20, label = f'Actual Outcome = {group[0]}')\n",
        "\n",
        "# Add cutoff line\n",
        "plt.axvline(0.5, color = 'black', linestyle = '--')\n",
        "\n",
        "plt.xlabel('Predicted Probability that Outcome = 1')\n",
        "plt.legend();"
      ],
      "metadata": {
        "colab": {
          "base_uri": "https://localhost:8080/",
          "height": 619
        },
        "id": "cw_udIqhPPz-",
        "outputId": "d5eaae34-713c-4230-c42a-86ebdc1dd417"
      },
      "id": "cw_udIqhPPz-",
      "execution_count": 23,
      "outputs": [
        {
          "output_type": "stream",
          "name": "stderr",
          "text": [
            "<ipython-input-23-1676f1ad1681>:8: UserWarning: \n",
            "\n",
            "`distplot` is a deprecated function and will be removed in seaborn v0.14.0.\n",
            "\n",
            "Please adapt your code to use either `displot` (a figure-level function with\n",
            "similar flexibility) or `histplot` (an axes-level function for histograms).\n",
            "\n",
            "For a guide to updating your code to use the new functions, please see\n",
            "https://gist.github.com/mwaskom/de44147ed2974457ad6372750bbe5751\n",
            "\n",
            "  sns.distplot(group[1], kde = False, bins = 20, label = f'Actual Outcome = {group[0]}')\n"
          ]
        },
        {
          "output_type": "display_data",
          "data": {
            "text/plain": [
              "<Figure size 1200x500 with 1 Axes>"
            ],
            "image/png": "[encoded data removed]"
          },
          "metadata": {}
        }
      ]
    },
    {
      "cell_type": "markdown",
      "id": "uR5dwiT1Nqk5",
      "metadata": {
        "id": "uR5dwiT1Nqk5"
      },
      "source": [
        "# Trying out making our own embeddings using word2vec"
      ]
    },
    {
      "cell_type": "code",
      "execution_count": null,
      "id": "iAKnQgneITEo",
      "metadata": {
        "id": "iAKnQgneITEo"
      },
      "outputs": [],
      "source": [
        "# Train a word2vec model!\n",
        "wv = Word2Vec(sentences=sentences,      # Corpus of data.\n",
        "              vector_size=30,    # How many dimensions do you want in your word vector?\n",
        "              window=4,    # How many \"context words\" do you want?\n",
        "              min_count=1, # Ignores words below this threshold.\n",
        "              sg=0,        # SG = 1 uses SkipGram, SG = 0 uses CBOW (default).\n",
        "              workers=4)   # Number of \"worker threads\" to use (parallelizes process).c"
      ]
    },
    {
      "cell_type": "code",
      "execution_count": null,
      "id": "lHTUbgcHKlD7",
      "metadata": {
        "colab": {
          "base_uri": "https://localhost:8080/"
        },
        "collapsed": true,
        "id": "lHTUbgcHKlD7",
        "jupyter": {
          "outputs_hidden": true
        },
        "outputId": "a922d7c3-6bbd-4d99-c0c8-4c59a3374a5e",
        "tags": []
      },
      "outputs": [
        {
          "data": {
            "text/plain": [
              "[('since', 0.9988051056861877),\n",
              " ('us', 0.9983085989952087),\n",
              " ('amp', 0.9983000755310059),\n",
              " ('best', 0.9982950687408447),\n",
              " ('first', 0.9980924129486084),\n",
              " ('you', 0.9980767369270325),\n",
              " ('like', 0.9980363845825195),\n",
              " ('red', 0.9980309009552002),\n",
              " ('new', 0.9980042576789856),\n",
              " ('day', 0.99798983335495),\n",
              " ('in', 0.997977614402771),\n",
              " ('county', 0.99797523021698),\n",
              " ('he', 0.9979395866394043),\n",
              " ('run', 0.9978729486465454),\n",
              " ('my', 0.9978727698326111),\n",
              " ('the', 0.9978623390197754),\n",
              " ('even', 0.997861921787262),\n",
              " ('2', 0.9978586435317993),\n",
              " ('fires', 0.9978358149528503),\n",
              " ('food', 0.9978311061859131),\n",
              " ('would', 0.9978294372558594),\n",
              " ('live', 0.9978278279304504),\n",
              " ('emergency', 0.9978129863739014),\n",
              " ('many', 0.9977896809577942),\n",
              " ('two', 0.9977848529815674),\n",
              " ('still', 0.9977837800979614),\n",
              " ('collapse', 0.9977515339851379),\n",
              " ('fire', 0.9977496862411499),\n",
              " ('i', 0.9977399706840515),\n",
              " ('back', 0.997736930847168),\n",
              " ('3', 0.9976901412010193),\n",
              " ('crash', 0.9976752400398254),\n",
              " ('china', 0.9976679682731628),\n",
              " ('storm', 0.997635006904602),\n",
              " ('5', 0.9976224899291992),\n",
              " ('body', 0.9976174831390381),\n",
              " ('life', 0.9975783824920654),\n",
              " ('hurricane', 0.9975530505180359),\n",
              " ('one', 0.997530460357666),\n",
              " ('services', 0.9975254535675049),\n",
              " ('hiroshima', 0.9975078105926514),\n",
              " ('everyone', 0.9975054264068604),\n",
              " ('explosion', 0.9974967241287231),\n",
              " ('world', 0.9974944591522217),\n",
              " ('people', 0.9974818825721741),\n",
              " ('s', 0.9974814057350159),\n",
              " ('4', 0.997458815574646),\n",
              " ('left', 0.9974541068077087),\n",
              " ('cause', 0.9974501729011536),\n",
              " ('please', 0.9974439144134521),\n",
              " ('it', 0.9974433779716492),\n",
              " ('could', 0.9974380135536194),\n",
              " ('said', 0.997437059879303),\n",
              " ('police', 0.9974339604377747),\n",
              " ('chemical', 0.9974284172058105),\n",
              " ('battle', 0.9974256157875061),\n",
              " ('1', 0.997411847114563),\n",
              " ('inundated', 0.9974095225334167),\n",
              " ('don', 0.9974029660224915),\n",
              " ('injury', 0.9974004626274109),\n",
              " ('order', 0.9973981976509094),\n",
              " ('good', 0.9973915219306946),\n",
              " ('flood', 0.9973915219306946),\n",
              " ('on', 0.9973913431167603),\n",
              " ('may', 0.9973847270011902),\n",
              " ('9', 0.9973747730255127),\n",
              " ('thunder', 0.9973745942115784),\n",
              " ('got', 0.9973673224449158),\n",
              " ('today', 0.9973646402359009),\n",
              " ('really', 0.9973582625389099),\n",
              " ('hot', 0.9973383545875549),\n",
              " ('time', 0.997321605682373),\n",
              " ('ûªs', 0.9973151683807373),\n",
              " ('much', 0.9973143339157104),\n",
              " ('getting', 0.9973021745681763),\n",
              " ('for', 0.9972929358482361),\n",
              " ('2015', 0.9972922801971436),\n",
              " ('way', 0.9972916841506958),\n",
              " ('help', 0.9972794651985168),\n",
              " ('lightning', 0.9972674250602722),\n",
              " ('death', 0.9972661733627319),\n",
              " ('plan', 0.997258722782135),\n",
              " ('make', 0.9972517490386963),\n",
              " ('we', 0.997251570224762),\n",
              " ('near', 0.9972499012947083),\n",
              " ('deluge', 0.9972413778305054),\n",
              " ('flooding', 0.9972347021102905),\n",
              " ('take', 0.9972226023674011),\n",
              " ('rt', 0.9972168207168579),\n",
              " ('face', 0.9972109794616699),\n",
              " ('military', 0.9972077012062073),\n",
              " ('hit', 0.9972069263458252),\n",
              " ('refugees', 0.9971998333930969),\n",
              " ('15', 0.9971970915794373),\n",
              " ('how', 0.9971967339515686),\n",
              " ('man', 0.9971964955329895),\n",
              " ('û', 0.9971946477890015),\n",
              " ('burning', 0.997189462184906),\n",
              " ('blood', 0.9971856474876404),\n",
              " ('survive', 0.9971806406974792)]"
            ]
          },
          "execution_count": 50,
          "metadata": {},
          "output_type": "execute_result"
        }
      ],
      "source": [
        "wv.wv.most_similar('women', topn=100)"
      ]
    },
    {
      "cell_type": "markdown",
      "id": "KG9zhAfBN0HR",
      "metadata": {
        "id": "KG9zhAfBN0HR"
      },
      "source": [
        "Ok turns out, gensim already has pretrained embedding eights in it\n"
      ]
    },
    {
      "cell_type": "code",
      "execution_count": null,
      "id": "pzcoDJufN3sQ",
      "metadata": {
        "colab": {
          "base_uri": "https://localhost:8080/"
        },
        "id": "pzcoDJufN3sQ",
        "outputId": "a0282d8d-3dd9-4516-e5a5-785240dd56af"
      },
      "outputs": [
        {
          "data": {
            "text/plain": [
              "['fasttext-wiki-news-subwords-300',\n",
              " 'conceptnet-numberbatch-17-06-300',\n",
              " 'word2vec-ruscorpora-300',\n",
              " 'word2vec-google-news-300',\n",
              " 'glove-wiki-gigaword-50',\n",
              " 'glove-wiki-gigaword-100',\n",
              " 'glove-wiki-gigaword-200',\n",
              " 'glove-wiki-gigaword-300',\n",
              " 'glove-twitter-25',\n",
              " 'glove-twitter-50',\n",
              " 'glove-twitter-100',\n",
              " 'glove-twitter-200',\n",
              " '__testing_word2vec-matrix-synopsis']"
            ]
          },
          "execution_count": 44,
          "metadata": {},
          "output_type": "execute_result"
        }
      ],
      "source": [
        "list(gensim.downloader.info()['models'].keys())"
      ]
    },
    {
      "cell_type": "code",
      "execution_count": null,
      "id": "Xx0DCctmOAeZ",
      "metadata": {
        "colab": {
          "base_uri": "https://localhost:8080/"
        },
        "id": "Xx0DCctmOAeZ",
        "outputId": "45b63bd2-b3fc-4ae9-d09c-fb3f0c38278c"
      },
      "outputs": [
        {
          "name": "stdout",
          "output_type": "stream",
          "text": [
            "[==================================================] 100.0% 104.8/104.8MB downloaded\n"
          ]
        }
      ],
      "source": [
        "glove_vectors = gensim.downloader.load('glove-twitter-25')"
      ]
    },
    {
      "cell_type": "code",
      "execution_count": null,
      "id": "J0JhXU1zOREb",
      "metadata": {
        "colab": {
          "base_uri": "https://localhost:8080/",
          "height": 175
        },
        "id": "J0JhXU1zOREb",
        "outputId": "05017f7a-39b3-45f6-b7a3-25691e849faf"
      },
      "outputs": [
        {
          "ename": "AttributeError",
          "evalue": "ignored",
          "output_type": "error",
          "traceback": [
            "\u001b[0;31m---------------------------------------------------------------------------\u001b[0m",
            "\u001b[0;31mAttributeError\u001b[0m                            Traceback (most recent call last)",
            "\u001b[0;32m<ipython-input-48-9ff13c6ff90f>\u001b[0m in \u001b[0;36m<cell line: 1>\u001b[0;34m()\u001b[0m\n\u001b[0;32m----> 1\u001b[0;31m \u001b[0mglove_vectors\u001b[0m\u001b[0;34m.\u001b[0m\u001b[0mkeys\u001b[0m\u001b[0;34m(\u001b[0m\u001b[0;34m)\u001b[0m\u001b[0;34m\u001b[0m\u001b[0;34m\u001b[0m\u001b[0m\n\u001b[0m",
            "\u001b[0;31mAttributeError\u001b[0m: 'KeyedVectors' object has no attribute 'keys'"
          ]
        }
      ],
      "source": [
        "glove_vectors.mos()"
      ]
    },
    {
      "cell_type": "markdown",
      "id": "moTYcIVNicKb",
      "metadata": {
        "id": "moTYcIVNicKb"
      },
      "source": [
        "# ok now, I will use tfidf with the stemmed words\n"
      ]
    },
    {
      "cell_type": "code",
      "execution_count": null,
      "id": "t4MRZCLDihpy",
      "metadata": {
        "id": "t4MRZCLDihpy",
        "tags": [],
        "outputId": "ea4852ad-3ff4-4f8c-ceb0-90b6dcebc864"
      },
      "outputs": [
        {
          "ename": "NameError",
          "evalue": "name 'stems' is not defined",
          "output_type": "error",
          "traceback": [
            "\u001b[1;31m---------------------------------------------------------------------------\u001b[0m",
            "\u001b[1;31mNameError\u001b[0m                                 Traceback (most recent call last)",
            "Cell \u001b[1;32mIn[8], line 1\u001b[0m\n\u001b[1;32m----> 1\u001b[0m X_train, X_test, y_train, y_test \u001b[38;5;241m=\u001b[39m train_test_split(stems,labels, random_state \u001b[38;5;241m=\u001b[39m \u001b[38;5;241m972\u001b[39m, stratify\u001b[38;5;241m=\u001b[39mlabels)\n",
            "\u001b[1;31mNameError\u001b[0m: name 'stems' is not defined"
          ]
        }
      ],
      "source": [
        "X_train, X_test, y_train, y_test = train_test_split(stems,labels, random_state = 972, stratify=labels)"
      ]
    },
    {
      "cell_type": "code",
      "execution_count": null,
      "id": "YBg771aoiuhC",
      "metadata": {
        "colab": {
          "base_uri": "https://localhost:8080/"
        },
        "id": "YBg771aoiuhC",
        "outputId": "42e8865e-ae81-42ef-a6ba-4dda7cb88650"
      },
      "outputs": [
        {
          "data": {
            "text/plain": [
              "['polic', 'offic', 'wound', 'suspect', 'dead', 'after', 'exchang', 'shot']"
            ]
          },
          "execution_count": 93,
          "metadata": {},
          "output_type": "execute_result"
        }
      ],
      "source": [
        "X_train[0]"
      ]
    },
    {
      "cell_type": "code",
      "execution_count": null,
      "id": "l1VPhYNQamlI",
      "metadata": {
        "colab": {
          "base_uri": "https://localhost:8080/"
        },
        "id": "l1VPhYNQamlI",
        "outputId": "17f8d03c-cd70-4bfe-b005-f6db19dd1d5d"
      },
      "outputs": [
        {
          "data": {
            "text/plain": [
              "7613"
            ]
          },
          "execution_count": 12,
          "metadata": {},
          "output_type": "execute_result"
        }
      ],
      "source": [
        "len(text)"
      ]
    },
    {
      "cell_type": "code",
      "execution_count": null,
      "id": "0c39dfb0-80e1-4614-9ae8-2cd15d0aca63",
      "metadata": {
        "colab": {
          "base_uri": "https://localhost:8080/",
          "height": 35
        },
        "id": "0c39dfb0-80e1-4614-9ae8-2cd15d0aca63",
        "outputId": "2d7900b4-ff73-4ced-cb2e-4e194e051c37"
      },
      "outputs": [
        {
          "data": {
            "application/vnd.google.colaboratory.intrinsic+json": {
              "type": "string"
            },
            "text/plain": [
              "'#RockyFire Update => California Hwy. 20 closed in both directions due to Lake County fire - #CAfire #wildfires'"
            ]
          },
          "execution_count": 9,
          "metadata": {},
          "output_type": "execute_result"
        }
      ],
      "source": [
        "train.loc[5,'text']"
      ]
    },
    {
      "cell_type": "code",
      "execution_count": null,
      "id": "e72RlNKTaHnl",
      "metadata": {
        "colab": {
          "base_uri": "https://localhost:8080/",
          "height": 35
        },
        "id": "e72RlNKTaHnl",
        "outputId": "5b815b0d-7cdb-4301-bf6f-e6a15f5034d2"
      },
      "outputs": [
        {
          "data": {
            "application/vnd.google.colaboratory.intrinsic+json": {
              "type": "string"
            },
            "text/plain": [
              "'rockyfir updat california hwi 20 close direct due lake counti fire cafir wildfir'"
            ]
          },
          "execution_count": 10,
          "metadata": {},
          "output_type": "execute_result"
        }
      ],
      "source": [
        "text[5]"
      ]
    },
    {
      "cell_type": "code",
      "execution_count": null,
      "id": "v4rOnyQVgOav",
      "metadata": {
        "id": "v4rOnyQVgOav"
      },
      "outputs": [],
      "source": [
        "vocab_size = 5000 # Max number of words\n",
        "embedding_dim = 64 # Word Vector dimension\n",
        "max_length = 200 # Max length of the sequence\n",
        "trunc_type = 'post' # where to chop off\n",
        "padding_type = 'post' # where to put the padding\n",
        "oov_tok = '<OOV>'\n",
        "\n",
        "tokenizer = Tokenizer(num_words=vocab_size, oov_token=oov_tok)\n",
        "\n",
        "tokenizer.fit_on_texts(text)\n"
      ]
    },
    {
      "cell_type": "code",
      "execution_count": null,
      "id": "_ePHUrhiggwm",
      "metadata": {
        "id": "_ePHUrhiggwm"
      },
      "outputs": [],
      "source": [
        "text_numbered = tokenizer.texts_to_sequences(text)"
      ]
    },
    {
      "cell_type": "code",
      "execution_count": null,
      "id": "jzCoL3x8g0ml",
      "metadata": {
        "colab": {
          "base_uri": "https://localhost:8080/"
        },
        "id": "jzCoL3x8g0ml",
        "outputId": "bf249032-c2a0-4829-cb60-1cfab27b482e"
      },
      "outputs": [
        {
          "data": {
            "text/plain": [
              "[2678, 242, 60, 1421, 681, 394, 907, 551, 1004, 418, 8, 3970, 134]"
            ]
          },
          "execution_count": 13,
          "metadata": {},
          "output_type": "execute_result"
        }
      ],
      "source": [
        "text_numbered[5]"
      ]
    },
    {
      "cell_type": "code",
      "execution_count": null,
      "id": "kD8YRw8JhDKe",
      "metadata": {
        "id": "kD8YRw8JhDKe"
      },
      "outputs": [],
      "source": [
        "text_padded = pad_sequences(text_numbered, maxlen=max_length, padding= padding_type,truncating = trunc_type)"
      ]
    },
    {
      "cell_type": "code",
      "execution_count": null,
      "id": "x4tPmTA0hJeW",
      "metadata": {
        "colab": {
          "base_uri": "https://localhost:8080/"
        },
        "id": "x4tPmTA0hJeW",
        "outputId": "0d2f294b-aa44-4332-bd80-fe7c1b058a0a"
      },
      "outputs": [
        {
          "data": {
            "text/plain": [
              "array([2678,  242,   60, 1421,  681,  394,  907,  551, 1004,  418,    8,\n",
              "       3970,  134,    0,    0,    0,    0,    0,    0,    0,    0,    0,\n",
              "          0,    0,    0,    0,    0,    0,    0,    0,    0,    0,    0,\n",
              "          0,    0,    0,    0,    0,    0,    0,    0,    0,    0,    0,\n",
              "          0,    0,    0,    0,    0,    0,    0,    0,    0,    0,    0,\n",
              "          0,    0,    0,    0,    0,    0,    0,    0,    0,    0,    0,\n",
              "          0,    0,    0,    0,    0,    0,    0,    0,    0,    0,    0,\n",
              "          0,    0,    0,    0,    0,    0,    0,    0,    0,    0,    0,\n",
              "          0,    0,    0,    0,    0,    0,    0,    0,    0,    0,    0,\n",
              "          0,    0,    0,    0,    0,    0,    0,    0,    0,    0,    0,\n",
              "          0,    0,    0,    0,    0,    0,    0,    0,    0,    0,    0,\n",
              "          0,    0,    0,    0,    0,    0,    0,    0,    0,    0,    0,\n",
              "          0,    0,    0,    0,    0,    0,    0,    0,    0,    0,    0,\n",
              "          0,    0,    0,    0,    0,    0,    0,    0,    0,    0,    0,\n",
              "          0,    0,    0,    0,    0,    0,    0,    0,    0,    0,    0,\n",
              "          0,    0,    0,    0,    0,    0,    0,    0,    0,    0,    0,\n",
              "          0,    0,    0,    0,    0,    0,    0,    0,    0,    0,    0,\n",
              "          0,    0,    0,    0,    0,    0,    0,    0,    0,    0,    0,\n",
              "          0,    0], dtype=int32)"
            ]
          },
          "execution_count": 15,
          "metadata": {},
          "output_type": "execute_result"
        }
      ],
      "source": [
        "text_padded[5]"
      ]
    },
    {
      "cell_type": "code",
      "execution_count": null,
      "id": "RFvT-jF1jpDv",
      "metadata": {
        "id": "RFvT-jF1jpDv"
      },
      "outputs": [],
      "source": [
        "X_train, X_test, y_train, y_test = train_test_split(np.asarray(text_padded),np.asarray(labels), random_state = 972)"
      ]
    },
    {
      "cell_type": "code",
      "execution_count": null,
      "id": "o-U0M9S-lZ5u",
      "metadata": {
        "id": "o-U0M9S-lZ5u"
      },
      "outputs": [],
      "source": []
    },
    {
      "cell_type": "code",
      "execution_count": null,
      "id": "DKQqfrbuhbSI",
      "metadata": {
        "colab": {
          "base_uri": "https://localhost:8080/"
        },
        "id": "DKQqfrbuhbSI",
        "outputId": "fecc355b-f5a5-4cb0-f256-024f38259d73"
      },
      "outputs": [
        {
          "name": "stdout",
          "output_type": "stream",
          "text": [
            "Model: \"sequential_14\"\n",
            "_________________________________________________________________\n",
            " Layer (type)                Output Shape              Param #   \n",
            "=================================================================\n",
            " embedding_10 (Embedding)    (None, 200, 5)            25000     \n",
            "                                                                 \n",
            " bidirectional_19 (Bidirect  (None, 64)                9728      \n",
            " ional)                                                          \n",
            "                                                                 \n",
            " dense_18 (Dense)            (None, 32)                2080      \n",
            "                                                                 \n",
            " dropout_8 (Dropout)         (None, 32)                0         \n",
            "                                                                 \n",
            " dense_19 (Dense)            (None, 1)                 33        \n",
            "                                                                 \n",
            "=================================================================\n",
            "Total params: 36841 (143.91 KB)\n",
            "Trainable params: 36841 (143.91 KB)\n",
            "Non-trainable params: 0 (0.00 Byte)\n",
            "_________________________________________________________________\n"
          ]
        }
      ],
      "source": [
        "# @title Default title text\n",
        "from tensorflow.keras.layers import Bidirectional\n",
        "\n",
        "model = Sequential()\n",
        "model.add(Embedding(vocab_size, 5, input_length = max_length))\n",
        "#model.add(LSTM(16, return_sequences = True))\n",
        "model.add(Bidirectional(LSTM(32)))\n",
        "model.add(Dense(32,activation = 'relu'))\n",
        "model.add(Dropout(0.2))\n",
        "model.add(Dense(1, activation = 'sigmoid'))\n",
        "\n",
        "model.summary()"
      ]
    },
    {
      "cell_type": "code",
      "execution_count": null,
      "id": "wfEjyq_-hbPX",
      "metadata": {
        "id": "wfEjyq_-hbPX"
      },
      "outputs": [],
      "source": [
        "model.compile(loss = 'bce', optimizer = 'adam', metrics = ['acc'])\n"
      ]
    },
    {
      "cell_type": "code",
      "execution_count": null,
      "id": "SjWt4EE_kZdG",
      "metadata": {
        "colab": {
          "base_uri": "https://localhost:8080/"
        },
        "id": "SjWt4EE_kZdG",
        "outputId": "db2921bc-d482-47fc-ce74-d8d0279764c8"
      },
      "outputs": [
        {
          "data": {
            "text/plain": [
              "(200,)"
            ]
          },
          "execution_count": 61,
          "metadata": {},
          "output_type": "execute_result"
        }
      ],
      "source": [
        "X_train[0].shape"
      ]
    },
    {
      "cell_type": "code",
      "execution_count": null,
      "id": "wZZNyrNJhbM-",
      "metadata": {
        "colab": {
          "base_uri": "https://localhost:8080/"
        },
        "id": "wZZNyrNJhbM-",
        "outputId": "9309b37f-0c15-4eea-e59f-74a273693f57"
      },
      "outputs": [
        {
          "name": "stdout",
          "output_type": "stream",
          "text": [
            "Epoch 1/10\n",
            "23/23 [==============================] - 10s 222ms/step - loss: 0.6853 - acc: 0.5670 - val_loss: 0.6816 - val_acc: 0.5683\n",
            "Epoch 2/10\n",
            "23/23 [==============================] - 5s 225ms/step - loss: 0.6725 - acc: 0.5710 - val_loss: 0.6598 - val_acc: 0.5683\n",
            "Epoch 3/10\n",
            "23/23 [==============================] - 3s 119ms/step - loss: 0.6196 - acc: 0.6716 - val_loss: 0.6015 - val_acc: 0.7096\n",
            "Epoch 4/10\n",
            "23/23 [==============================] - 3s 138ms/step - loss: 0.5136 - acc: 0.7849 - val_loss: 0.4947 - val_acc: 0.7747\n",
            "Epoch 5/10\n",
            "23/23 [==============================] - 3s 144ms/step - loss: 0.3960 - acc: 0.8364 - val_loss: 0.4792 - val_acc: 0.7784\n",
            "Epoch 6/10\n",
            "23/23 [==============================] - 3s 113ms/step - loss: 0.3316 - acc: 0.8662 - val_loss: 0.4935 - val_acc: 0.7915\n",
            "Epoch 7/10\n",
            "23/23 [==============================] - 2s 86ms/step - loss: 0.2893 - acc: 0.8861 - val_loss: 0.4977 - val_acc: 0.7857\n",
            "Epoch 8/10\n",
            "23/23 [==============================] - 2s 62ms/step - loss: 0.2503 - acc: 0.9056 - val_loss: 0.5181 - val_acc: 0.7862\n",
            "Epoch 9/10\n",
            "23/23 [==============================] - 1s 53ms/step - loss: 0.2216 - acc: 0.9205 - val_loss: 0.5491 - val_acc: 0.7889\n",
            "Epoch 10/10\n",
            "23/23 [==============================] - 1s 54ms/step - loss: 0.1992 - acc: 0.9280 - val_loss: 0.5920 - val_acc: 0.7820\n"
          ]
        },
        {
          "data": {
            "text/plain": [
              "<keras.src.callbacks.History at 0x7ddff6e76710>"
            ]
          },
          "execution_count": 62,
          "metadata": {},
          "output_type": "execute_result"
        }
      ],
      "source": [
        "model.fit(X_train, y_train, validation_data = (X_test, y_test),\n",
        "          batch_size = 256, epochs = 10)"
      ]
    },
    {
      "cell_type": "code",
      "execution_count": null,
      "id": "WA6ogkPehbKe",
      "metadata": {
        "id": "WA6ogkPehbKe"
      },
      "outputs": [],
      "source": []
    },
    {
      "cell_type": "code",
      "execution_count": null,
      "id": "V8EZrJXwhbHG",
      "metadata": {
        "id": "V8EZrJXwhbHG"
      },
      "outputs": [],
      "source": []
    },
    {
      "cell_type": "code",
      "execution_count": null,
      "id": "FDOuDmbVha_X",
      "metadata": {
        "id": "FDOuDmbVha_X"
      },
      "outputs": [],
      "source": []
    },
    {
      "cell_type": "markdown",
      "id": "ANv1dhRHdSQW",
      "metadata": {
        "id": "ANv1dhRHdSQW"
      },
      "source": [
        "Ok now doing word2vec"
      ]
    },
    {
      "cell_type": "code",
      "execution_count": null,
      "id": "4APCEtj7fus2",
      "metadata": {
        "id": "4APCEtj7fus2"
      },
      "outputs": [],
      "source": []
    },
    {
      "cell_type": "code",
      "execution_count": null,
      "id": "PZa0zj8Rfuf-",
      "metadata": {
        "id": "PZa0zj8Rfuf-"
      },
      "outputs": [],
      "source": []
    },
    {
      "cell_type": "code",
      "execution_count": null,
      "id": "zLW4F8ABfuRW",
      "metadata": {
        "id": "zLW4F8ABfuRW"
      },
      "outputs": [],
      "source": []
    },
    {
      "cell_type": "code",
      "execution_count": null,
      "id": "-GN_j991aV8M",
      "metadata": {
        "id": "-GN_j991aV8M"
      },
      "outputs": [],
      "source": [
        "# Train a model!\n",
        "wv = Word2Vec(corpus,      # Corpus of data.\n",
        "              size=100,    # How many dimensions do you want in your word vector?\n",
        "              window=2,    # How many \"context words\" do you want?\n",
        "              min_count=1, # Ignores words below this threshold.\n",
        "              sg=0,        # SG = 1 uses SkipGram, SG = 0 uses CBOW (default).\n",
        "              workers=4)   # Number of \"worker threads\" to use (parallelizes process).\n"
      ]
    }
  ],
  "metadata": {
    "accelerator": "GPU",
    "colab": {
      "gpuType": "T4",
      "provenance": []
    },
    "kernelspec": {
      "display_name": "Python 3",
      "name": "python3"
    },
    "language_info": {
      "codemirror_mode": {
        "name": "ipython",
        "version": 3
      },
      "file_extension": ".py",
      "mimetype": "text/x-python",
      "name": "python",
      "nbconvert_exporter": "python",
      "pygments_lexer": "ipython3",
      "version": "3.11.5"
    }
  },
  "nbformat": 4,
  "nbformat_minor": 5
}