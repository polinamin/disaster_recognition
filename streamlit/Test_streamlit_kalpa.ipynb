{
 "cells": [
  {
   "cell_type": "markdown",
   "id": "d797c985-9cd3-42f0-9862-4b1d1c580896",
   "metadata": {},
   "source": [
    "### Create a Streamlet app"
   ]
  },
  {
   "cell_type": "code",
   "execution_count": 138,
   "id": "fdc1c679-68aa-4fb9-94c8-45a63bf9cf66",
   "metadata": {},
   "outputs": [],
   "source": [
    "import pickle\n",
    "from clean import clean_the_text\n",
    "import pandas as pd\n",
    "import numpy as np\n",
    "import seaborn as sns\n",
    "import matplotlib.pyplot as plt"
   ]
  },
  {
   "cell_type": "code",
   "execution_count": 139,
   "id": "5e0714b1-7316-4871-b018-5813ea2d7f51",
   "metadata": {},
   "outputs": [],
   "source": [
    "### Load the model\n",
    "with open('/Users/kalpahenadhira/Desktop/logr.pkl', 'rb') as model_file:\n",
    "    logr = pickle.load(model_file)"
   ]
  },
  {
   "cell_type": "code",
   "execution_count": 140,
   "id": "f4c6c6aa-7183-4244-95b4-fee1b1102b45",
   "metadata": {},
   "outputs": [],
   "source": [
    "# Load the function from the pickle file\n",
    "with open('clean.pkl', 'rb') as file:\n",
    "    clean = pickle.load(file)"
   ]
  },
  {
   "cell_type": "code",
   "execution_count": 142,
   "id": "811780e9-67c5-486f-8e2d-a3a4c2cf9d26",
   "metadata": {},
   "outputs": [
    {
     "name": "stdin",
     "output_type": "stream",
     "text": [
      " I love you\n"
     ]
    }
   ],
   "source": [
    "user_text = input()"
   ]
  },
  {
   "cell_type": "code",
   "execution_count": 143,
   "id": "9e435c32-5a55-45ac-859f-48d9235d34ef",
   "metadata": {},
   "outputs": [
    {
     "name": "stdout",
     "output_type": "stream",
     "text": [
      "Not a disaster tweet\n"
     ]
    }
   ],
   "source": [
    "if logr.predict(clean(pd.Series([user_text])))[0] == 1:\n",
    "    print('Disaster tweet!!!!!')\n",
    "else:\n",
    "    print('Not a disaster tweet')"
   ]
  },
  {
   "cell_type": "code",
   "execution_count": 144,
   "id": "ee88b2d9-9539-4aa4-ae19-e38675f84670",
   "metadata": {},
   "outputs": [
    {
     "name": "stdout",
     "output_type": "stream",
     "text": [
      " The probability that this tweet will be a disasater : 9.09%\n"
     ]
    }
   ],
   "source": [
    "print(f' The probability that this tweet will be a disasater : {np.round(logr.predict_proba(clean(pd.Series([user_text])))*100,2)[0][1]}%') "
   ]
  },
  {
   "cell_type": "code",
   "execution_count": 145,
   "id": "c187a84b-dcce-497a-bc2d-09be8a04d23f",
   "metadata": {},
   "outputs": [],
   "source": [
    "probability = np.round(logr.predict_proba(clean(pd.Series([user_text])))*100,2)"
   ]
  },
  {
   "cell_type": "code",
   "execution_count": 146,
   "id": "17fe280a-f0ab-45a5-9264-df0319188969",
   "metadata": {},
   "outputs": [
    {
     "data": {
      "text/plain": [
       "array([90.91,  9.09])"
      ]
     },
     "execution_count": 146,
     "metadata": {},
     "output_type": "execute_result"
    }
   ],
   "source": [
    "probability[0]"
   ]
  },
  {
   "cell_type": "code",
   "execution_count": 147,
   "id": "f5895aad-833a-4c56-8748-d5a0091aec4b",
   "metadata": {},
   "outputs": [
    {
     "data": {
      "image/png": "[encoded data removed]",
      "text/plain": [
       "<Figure size 500x400 with 1 Axes>"
      ]
     },
     "metadata": {},
     "output_type": "display_data"
    }
   ],
   "source": [
    "fig, ax = plt.subplots(figsize=(5, 4))\n",
    "classes = ['Not a disaster', 'Disaster']\n",
    "ax.bar(classes,probability[0],width=0.4,align='center',color = 'orange')\n",
    "ax.set_ylabel('Probability')\n",
    "ax.set_title('Probability of the result')\n",
    "ax.set_ylim(0, 100);"
   ]
  }
 ],
 "metadata": {
  "kernelspec": {
   "display_name": "Python 3 (ipykernel)",
   "language": "python",
   "name": "python3"
  },
  "language_info": {
   "codemirror_mode": {
    "name": "ipython",
    "version": 3
   },
   "file_extension": ".py",
   "mimetype": "text/x-python",
   "name": "python",
   "nbconvert_exporter": "python",
   "pygments_lexer": "ipython3",
   "version": "3.9.17"
  }
 },
 "nbformat": 4,
 "nbformat_minor": 5
}
