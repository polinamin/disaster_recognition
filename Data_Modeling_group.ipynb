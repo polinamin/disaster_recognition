{
 "cells": [
  {
   "cell_type": "code",
   "execution_count": null,
   "id": "8ec6e615-1649-4923-8806-b56d08120f22",
   "metadata": {},
   "outputs": [],
   "source": [
    "#Kalpa"
   ]
  },
  {
   "cell_type": "code",
   "execution_count": null,
   "id": "ab15ffa1-b197-4074-8022-ac61c784f182",
   "metadata": {},
   "outputs": [],
   "source": [
    "#Arjun"
   ]
  },
  {
   "cell_type": "code",
   "execution_count": null,
   "id": "e652dd12-4fbe-46e1-9dae-771fa9b95b93",
   "metadata": {},
   "outputs": [],
   "source": [
    "#Polina"
   ]
  }
 ],
 "metadata": {
  "kernelspec": {
   "display_name": "Python 3 (ipykernel)",
   "language": "python",
   "name": "python3"
  },
  "language_info": {
   "codemirror_mode": {
    "name": "ipython",
    "version": 3
   },
   "file_extension": ".py",
   "mimetype": "text/x-python",
   "name": "python",
   "nbconvert_exporter": "python",
   "pygments_lexer": "ipython3",
   "version": "3.11.4"
  }
 },
 "nbformat": 4,
 "nbformat_minor": 5
}
